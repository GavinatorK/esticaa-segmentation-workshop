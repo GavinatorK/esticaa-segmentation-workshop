{
 "cells": [
  {
   "cell_type": "markdown",
   "metadata": {},
   "source": [
    "## SageMaker Hosted Notebook\n",
    "This notebook is hosted on a ML Optimized instance on SageMaker Platform, Some benefits include, scaling up the power of the instance and using built in Kernels(Envs) and being able to quickly connect with S3 and other AWS services using boto3 or commandline \n",
    "\n",
    "\n",
    "### Notebook Kernel \n",
    "use MXNet 1.8 Python 3.7 kernel "
   ]
  },
  {
   "cell_type": "markdown",
   "metadata": {
    "nbpresent": {
     "id": "62d4851b-e85e-419e-901a-d5c03db59166"
    }
   },
   "source": [
    "# Customer Segmentation with SageMaker PCA & KMean \n",
    "\n",
    "In this notebook, you'll employ two, unsupervised learning algorithms to do **customer segmentation**. Customer segmentation aims to find natural groupings in population data that reveal some feature-level similarities between different CAA customers.\n",
    "\n",
    "Using **principal component analysis** (PCA) you will reduce the dimensionality of the original customer data. Then, you'll use **k-means clustering** to assign each customer to a particular cluster based on component space. How each cluster is arranged in component space can tell you which customers are most similar and what demographic traits define that similarity; this information is most often used to inform targeted, marketing campaigns that want to appeal to a specific group of people. This cluster information is also useful for learning more about a customer by revealing patterns between factors that you otherwise may not have noticed.\n",
    "\n",
    "### CAA Customer Data\n",
    "\n",
    "We'll be using CAA provided ready-to-use Customer data for this workshop\n",
    "\n",
    "### Machine Learning Workflow\n",
    "\n",
    "To implement population segmentation, you'll go through a number of steps:\n",
    "* Data loading and exploration - skip this\n",
    "* Data cleaning and pre-processing - not needed since we've a cleaned dataset from CAA\n",
    "* Dimensionality reduction with PCA\n",
    "* Feature engineering and data transformation\n",
    "* Clustering transformed data with k-means\n",
    "* Extracting trained model attributes and visualizing k clusters\n",
    "\n",
    "Each step is designed to give you practice with part of the machine learning workflow, and to demonstrate how to use SageMaker tools, such as built-in data management with S3 and built-in algorithms.\n",
    "\n",
    "---"
   ]
  },
  {
   "cell_type": "markdown",
   "metadata": {},
   "source": [
    "First, import the relevant libraries into this SageMaker notebook. "
   ]
  },
  {
   "cell_type": "code",
   "execution_count": 2,
   "metadata": {
    "nbpresent": {
     "id": "41d6f28b-3c7e-4d68-a8cb-4e063ec6fe27"
    }
   },
   "outputs": [],
   "source": [
    "# data managing and display libs\n",
    "import pandas as pd\n",
    "import numpy as np\n",
    "import os\n",
    "import io\n",
    "\n",
    "import matplotlib.pyplot as plt\n",
    "import matplotlib\n",
    "%matplotlib inline "
   ]
  },
  {
   "cell_type": "code",
   "execution_count": 3,
   "metadata": {},
   "outputs": [],
   "source": [
    "# sagemaker libraries\n",
    "import boto3\n",
    "import sagemaker"
   ]
  },
  {
   "cell_type": "markdown",
   "metadata": {},
   "source": [
    "## Step 0: Download the data and upload to s3"
   ]
  },
  {
   "cell_type": "markdown",
   "metadata": {},
   "source": [
    "**Download a file from provided presigned url in chat window**"
   ]
  },
  {
   "cell_type": "code",
   "execution_count": null,
   "metadata": {},
   "outputs": [],
   "source": [
    "!wget -O  caa_sk_data_sample_3.0.csv <Paste Url Here> "
   ]
  },
  {
   "cell_type": "markdown",
   "metadata": {},
   "source": [
    "**Create S3 Bucket**"
   ]
  },
  {
   "cell_type": "code",
   "execution_count": null,
   "metadata": {},
   "outputs": [],
   "source": [
    "!aws s3api create-bucket --bucket esti-sm-demo-<yourInitials>"
   ]
  },
  {
   "cell_type": "markdown",
   "metadata": {},
   "source": [
    "**Copy the downloaded file to S3 into caa folder**"
   ]
  },
  {
   "cell_type": "code",
   "execution_count": null,
   "metadata": {},
   "outputs": [],
   "source": [
    "!aws s3 cp caa_sk_data_sample_3.0.csv s3://<your-bucket-name>/caa/caa_sk_data_sample_3.0.csv"
   ]
  },
  {
   "cell_type": "markdown",
   "metadata": {},
   "source": [
    "### Step 1: Loading the Data from Amazon S3\n",
    "\n",
    "This particular dataset is already in an Amazon S3 bucket; you can load the data by pointing to this bucket and getting a data file by name. \n",
    "\n",
    "Setup to interact with S3 using a `boto3` client.\n",
    "Define the S3 bucket for your dataset"
   ]
  },
  {
   "cell_type": "code",
   "execution_count": 4,
   "metadata": {},
   "outputs": [],
   "source": [
    "# boto3 client to get S3 data\n",
    "s3_client = boto3.client('s3')\n",
    "prefix = 'caa'\n",
    "bucket_name = '<your-bucket-name>'"
   ]
  },
  {
   "cell_type": "markdown",
   "metadata": {},
   "source": [
    "Set the dataset file"
   ]
  },
  {
   "cell_type": "code",
   "execution_count": 5,
   "metadata": {},
   "outputs": [
    {
     "name": "stdout",
     "output_type": "stream",
     "text": [
      "caa/caa_sk_data_sample_3.0.csv\n"
     ]
    }
   ],
   "source": [
    "# filename\n",
    "\n",
    "# AM_Comments:\n",
    "# use predfined prefix \n",
    "file_name=f'{prefix}/caa_sk_data_sample_3.0.csv'\n",
    "\n",
    "print(file_name)"
   ]
  },
  {
   "cell_type": "markdown",
   "metadata": {},
   "source": [
    "Retrieve the data file from the bucket with a call to `client.get_object()`."
   ]
  },
  {
   "cell_type": "code",
   "execution_count": 6,
   "metadata": {},
   "outputs": [],
   "source": [
    "# get an S3 object by passing in the bucket and file name\n",
    "data_object = s3_client.get_object(Bucket=bucket_name, Key=file_name)\n",
    "\n",
    "# what info does the object contain?\n",
    "#display(data_object)"
   ]
  },
  {
   "cell_type": "markdown",
   "metadata": {},
   "source": [
    "This is a `bytes` datatype, which you can read it in using [io.BytesIO(file)](https://docs.python.org/3/library/io.html#binary-i-o)."
   ]
  },
  {
   "cell_type": "code",
   "execution_count": 7,
   "metadata": {},
   "outputs": [
    {
     "name": "stdout",
     "output_type": "stream",
     "text": [
      "Data type:  <class 'bytes'>\n"
     ]
    }
   ],
   "source": [
    "# information is in the \"Body\" of the object\n",
    "data_body = data_object[\"Body\"].read()\n",
    "print('Data type: ', type(data_body))"
   ]
  },
  {
   "cell_type": "code",
   "execution_count": 8,
   "metadata": {
    "nbpresent": {
     "id": "97a46770-dbe0-40ea-b454-b15bdec20f53"
    }
   },
   "outputs": [
    {
     "data": {
      "text/html": [
       "<div>\n",
       "<style scoped>\n",
       "    .dataframe tbody tr th:only-of-type {\n",
       "        vertical-align: middle;\n",
       "    }\n",
       "\n",
       "    .dataframe tbody tr th {\n",
       "        vertical-align: top;\n",
       "    }\n",
       "\n",
       "    .dataframe thead th {\n",
       "        text-align: right;\n",
       "    }\n",
       "</style>\n",
       "<table border=\"1\" class=\"dataframe\">\n",
       "  <thead>\n",
       "    <tr style=\"text-align: right;\">\n",
       "      <th></th>\n",
       "      <th>customer_no</th>\n",
       "      <th>joindate</th>\n",
       "      <th>expirydate</th>\n",
       "      <th>canceldate</th>\n",
       "      <th>birthdate</th>\n",
       "      <th>gender</th>\n",
       "      <th>maxcoveragelevel</th>\n",
       "      <th>LATITUDE</th>\n",
       "      <th>LONGITUDE</th>\n",
       "      <th>APARTMENT</th>\n",
       "      <th>...</th>\n",
       "      <th>LS_Y1</th>\n",
       "      <th>LS_Y2</th>\n",
       "      <th>LS_Y3</th>\n",
       "      <th>ERNAME_Prince Albert, SK</th>\n",
       "      <th>ERNAME_Regina--Moose Mountain, SK</th>\n",
       "      <th>ERNAME_Saskatoon--Biggar, SK</th>\n",
       "      <th>ERNAME_Swift Current--Moose Jaw, SK</th>\n",
       "      <th>ERNAME_Yorkton--Melville, SK</th>\n",
       "      <th>is_associate_yes</th>\n",
       "      <th>status_A</th>\n",
       "    </tr>\n",
       "  </thead>\n",
       "  <tbody>\n",
       "    <tr>\n",
       "      <th>0</th>\n",
       "      <td>0</td>\n",
       "      <td>11/9/07</td>\n",
       "      <td>2/28/10</td>\n",
       "      <td>3/17/09</td>\n",
       "      <td>1/9/46</td>\n",
       "      <td>0</td>\n",
       "      <td>0.00</td>\n",
       "      <td>50.49179</td>\n",
       "      <td>-104.64473</td>\n",
       "      <td>0</td>\n",
       "      <td>...</td>\n",
       "      <td>0</td>\n",
       "      <td>0</td>\n",
       "      <td>0</td>\n",
       "      <td>0</td>\n",
       "      <td>1</td>\n",
       "      <td>0</td>\n",
       "      <td>0</td>\n",
       "      <td>0</td>\n",
       "      <td>0</td>\n",
       "      <td>0</td>\n",
       "    </tr>\n",
       "    <tr>\n",
       "      <th>1</th>\n",
       "      <td>1</td>\n",
       "      <td>11/9/07</td>\n",
       "      <td>12/31/08</td>\n",
       "      <td>6/17/16</td>\n",
       "      <td>6/20/50</td>\n",
       "      <td>0</td>\n",
       "      <td>0.00</td>\n",
       "      <td>52.16252</td>\n",
       "      <td>-106.63034</td>\n",
       "      <td>0</td>\n",
       "      <td>...</td>\n",
       "      <td>0</td>\n",
       "      <td>0</td>\n",
       "      <td>0</td>\n",
       "      <td>0</td>\n",
       "      <td>0</td>\n",
       "      <td>1</td>\n",
       "      <td>0</td>\n",
       "      <td>0</td>\n",
       "      <td>0</td>\n",
       "      <td>0</td>\n",
       "    </tr>\n",
       "    <tr>\n",
       "      <th>2</th>\n",
       "      <td>2</td>\n",
       "      <td>11/9/07</td>\n",
       "      <td>2/28/14</td>\n",
       "      <td>4/25/13</td>\n",
       "      <td>6/13/47</td>\n",
       "      <td>0</td>\n",
       "      <td>0.25</td>\n",
       "      <td>52.17229</td>\n",
       "      <td>-106.64965</td>\n",
       "      <td>0</td>\n",
       "      <td>...</td>\n",
       "      <td>0</td>\n",
       "      <td>0</td>\n",
       "      <td>0</td>\n",
       "      <td>0</td>\n",
       "      <td>0</td>\n",
       "      <td>1</td>\n",
       "      <td>0</td>\n",
       "      <td>0</td>\n",
       "      <td>0</td>\n",
       "      <td>0</td>\n",
       "    </tr>\n",
       "    <tr>\n",
       "      <th>3</th>\n",
       "      <td>3</td>\n",
       "      <td>11/9/07</td>\n",
       "      <td>12/31/09</td>\n",
       "      <td>6/17/16</td>\n",
       "      <td>10/30/51</td>\n",
       "      <td>1</td>\n",
       "      <td>0.00</td>\n",
       "      <td>53.36190</td>\n",
       "      <td>-104.01632</td>\n",
       "      <td>0</td>\n",
       "      <td>...</td>\n",
       "      <td>0</td>\n",
       "      <td>0</td>\n",
       "      <td>0</td>\n",
       "      <td>1</td>\n",
       "      <td>0</td>\n",
       "      <td>0</td>\n",
       "      <td>0</td>\n",
       "      <td>0</td>\n",
       "      <td>0</td>\n",
       "      <td>0</td>\n",
       "    </tr>\n",
       "    <tr>\n",
       "      <th>4</th>\n",
       "      <td>4</td>\n",
       "      <td>11/9/07</td>\n",
       "      <td>12/31/08</td>\n",
       "      <td>6/17/16</td>\n",
       "      <td>11/8/59</td>\n",
       "      <td>1</td>\n",
       "      <td>0.25</td>\n",
       "      <td>52.26408</td>\n",
       "      <td>-105.52338</td>\n",
       "      <td>0</td>\n",
       "      <td>...</td>\n",
       "      <td>0</td>\n",
       "      <td>0</td>\n",
       "      <td>0</td>\n",
       "      <td>1</td>\n",
       "      <td>0</td>\n",
       "      <td>0</td>\n",
       "      <td>0</td>\n",
       "      <td>0</td>\n",
       "      <td>0</td>\n",
       "      <td>0</td>\n",
       "    </tr>\n",
       "  </tbody>\n",
       "</table>\n",
       "<p>5 rows × 308 columns</p>\n",
       "</div>"
      ],
      "text/plain": [
       "   customer_no joindate expirydate canceldate birthdate  gender  \\\n",
       "0            0  11/9/07    2/28/10    3/17/09    1/9/46       0   \n",
       "1            1  11/9/07   12/31/08    6/17/16   6/20/50       0   \n",
       "2            2  11/9/07    2/28/14    4/25/13   6/13/47       0   \n",
       "3            3  11/9/07   12/31/09    6/17/16  10/30/51       1   \n",
       "4            4  11/9/07   12/31/08    6/17/16   11/8/59       1   \n",
       "\n",
       "   maxcoveragelevel  LATITUDE  LONGITUDE  APARTMENT  ...  LS_Y1  LS_Y2  LS_Y3  \\\n",
       "0              0.00  50.49179 -104.64473          0  ...      0      0      0   \n",
       "1              0.00  52.16252 -106.63034          0  ...      0      0      0   \n",
       "2              0.25  52.17229 -106.64965          0  ...      0      0      0   \n",
       "3              0.00  53.36190 -104.01632          0  ...      0      0      0   \n",
       "4              0.25  52.26408 -105.52338          0  ...      0      0      0   \n",
       "\n",
       "   ERNAME_Prince Albert, SK  ERNAME_Regina--Moose Mountain, SK  \\\n",
       "0                         0                                  1   \n",
       "1                         0                                  0   \n",
       "2                         0                                  0   \n",
       "3                         1                                  0   \n",
       "4                         1                                  0   \n",
       "\n",
       "   ERNAME_Saskatoon--Biggar, SK  ERNAME_Swift Current--Moose Jaw, SK  \\\n",
       "0                             0                                    0   \n",
       "1                             1                                    0   \n",
       "2                             1                                    0   \n",
       "3                             0                                    0   \n",
       "4                             0                                    0   \n",
       "\n",
       "   ERNAME_Yorkton--Melville, SK  is_associate_yes  status_A  \n",
       "0                             0                 0         0  \n",
       "1                             0                 0         0  \n",
       "2                             0                 0         0  \n",
       "3                             0                 0         0  \n",
       "4                             0                 0         0  \n",
       "\n",
       "[5 rows x 308 columns]"
      ]
     },
     "execution_count": 8,
     "metadata": {},
     "output_type": "execute_result"
    }
   ],
   "source": [
    "# read in bytes data\n",
    "data_stream = io.BytesIO(data_body)\n",
    "\n",
    "# create a dataframe\n",
    "customer_df = pd.read_csv(data_stream, header=0, delimiter=\",\") \n",
    "customer_df.head()"
   ]
  },
  {
   "cell_type": "markdown",
   "metadata": {
    "nbpresent": {
     "id": "c2f7177c-9a56-46a7-8e51-53c1ccdac759"
    }
   },
   "source": [
    "### Step 2: Exploratory Data Analysis (EDA)\n",
    "\n",
    "Now that you've loaded in the data, it is time to clean it up, explore it, and pre-process it. Data exploration is one of the most important parts of the machine learning workflow because it allows you to notice any initial patterns in data distribution and features that may inform how you proceed with modeling and clustering the data.\n",
    "\n",
    "#### Explore data & drop any incomplete rows of data\n",
    "\n",
    "When you first explore the data, it is good to know what you are working with. How many data points and features are you starting with, and what kind of information can you get at a first glance? In this notebook, you're required to use complete data points to train a model. So, your first exercise will be to investigate the shape of this data and implement a simple, data cleaning step: dropping any incomplete rows of data.\n",
    "\n",
    "You should be able to answer the **question**: How many data points and features are in the original, provided dataset? (And how many points are left after dropping any incomplete rows?)"
   ]
  },
  {
   "cell_type": "code",
   "execution_count": 9,
   "metadata": {},
   "outputs": [
    {
     "name": "stdout",
     "output_type": "stream",
     "text": [
      "(13892, 308)\n"
     ]
    }
   ],
   "source": [
    "# print out stats about data\n",
    "\n",
    "# drop any incomplete rows of data, and create a new df\n",
    "clean_customer_df = customer_df.dropna()\n",
    "\n",
    "print(clean_customer_df.shape)"
   ]
  },
  {
   "cell_type": "markdown",
   "metadata": {
    "nbpresent": {
     "id": "fdd10c00-53ba-405d-8622-fbfeac17d3bb"
    }
   },
   "source": [
    "### Step 3: Create Additional fields using the join date, expiry date and birthdate \n",
    "\n",
    "Eventually, you'll want to feed these features into a machine learning model. Machine learning models need numerical data to learn from and not categorical data. So, you'll reformat this data such that it is indexed by 'birth-join-date and you'll also drop any features that are not useful for clustering.\n",
    "\n",
    "To complete this task, perform the following steps, using your *clean* DataFrame, generated above:\n",
    "1. we will use Customer no/Index to refer to individual records here\n"
   ]
  },
  {
   "cell_type": "code",
   "execution_count": 10,
   "metadata": {},
   "outputs": [],
   "source": [
    "## This function is not needed if you have a four digit year.\n",
    "from datetime import date\n",
    "current_year = date.today().year%100\n",
    "def adjustBirthDate(row):\n",
    "    '''\n",
    "    input : row of dataframe\n",
    "    returns: row with adjusted 4 digit year\n",
    "    '''\n",
    "    \n",
    "    datecolumns=['birthdate','canceldate','expirydate','joindate']\n",
    "    birthdate=row['birthdate']\n",
    "    canceldate=row['canceldate']\n",
    "    expirydate=row['expirydate']\n",
    "    joindate=row['joindate']\n",
    "    b_year=birthdate.split(\"/\")[-1]\n",
    "    c_year=canceldate.split(\"/\")[-1]\n",
    "    e_year=expirydate.split(\"/\")[-1]\n",
    "    j_year=joindate.split(\"/\")[-1]\n",
    "    \n",
    "    if (current_year-int(b_year)<18):\n",
    "        b_year=\"19\"+b_year\n",
    "    else :\n",
    "        b_year=\"20\"+b_year   \n",
    "    \n",
    "        \n",
    "    if current_year-int(j_year)<0:\n",
    "        if int(\"19\"+j_year)>int(b_year):\n",
    "            j_year=\"19\"+j_year\n",
    "    else:\n",
    "        j_year=\"20\"+j_year\n",
    "        \n",
    "    if current_year-int(c_year)<0:\n",
    "        if int(\"19\"+c_year)>int(j_year):\n",
    "            c_year=\"19\"+c_year\n",
    "    else:\n",
    "        c_year=\"20\"+c_year\n",
    "    \n",
    "    \n",
    "    if current_year-int(e_year)<0:\n",
    "        if int(\"19\"+e_year)>int(j_year):\n",
    "            e_year=\"19\"+e_year\n",
    "    else:\n",
    "        e_year=\"20\"+e_year\n",
    "    \n",
    "    \n",
    "    row['birthdate']=\"/\".join(each for each in birthdate.split(\"/\")[0:2])+\"/\"+b_year\n",
    "    row['joindate']=\"/\".join(each for each in joindate.split(\"/\")[0:2])+\"/\"+j_year\n",
    "    row['canceldate']=\"/\".join(each for each in canceldate.split(\"/\")[0:2])+\"/\"+c_year\n",
    "    row['expirydate']=\"/\".join(each for each in expirydate.split(\"/\")[0:2])+\"/\"+e_year\n",
    "    \n",
    "    return row"
   ]
  },
  {
   "cell_type": "code",
   "execution_count": null,
   "metadata": {},
   "outputs": [],
   "source": []
  },
  {
   "cell_type": "code",
   "execution_count": 11,
   "metadata": {},
   "outputs": [
    {
     "name": "stderr",
     "output_type": "stream",
     "text": [
      "/usr/local/lib/python3.7/site-packages/ipykernel_launcher.py:11: PerformanceWarning: DataFrame is highly fragmented.  This is usually the result of calling `frame.insert` many times, which has poor performance.  Consider joining all columns at once using pd.concat(axis=1) instead.  To get a de-fragmented frame, use `newframe = frame.copy()`\n",
      "  # This is added back by InteractiveShellApp.init_path()\n",
      "/usr/local/lib/python3.7/site-packages/ipykernel_launcher.py:14: PerformanceWarning: DataFrame is highly fragmented.  This is usually the result of calling `frame.insert` many times, which has poor performance.  Consider joining all columns at once using pd.concat(axis=1) instead.  To get a de-fragmented frame, use `newframe = frame.copy()`\n",
      "  \n",
      "/usr/local/lib/python3.7/site-packages/ipykernel_launcher.py:16: PerformanceWarning: DataFrame is highly fragmented.  This is usually the result of calling `frame.insert` many times, which has poor performance.  Consider joining all columns at once using pd.concat(axis=1) instead.  To get a de-fragmented frame, use `newframe = frame.copy()`\n",
      "  app.launch_new_instance()\n"
     ]
    },
    {
     "data": {
      "text/html": [
       "<div>\n",
       "<style scoped>\n",
       "    .dataframe tbody tr th:only-of-type {\n",
       "        vertical-align: middle;\n",
       "    }\n",
       "\n",
       "    .dataframe tbody tr th {\n",
       "        vertical-align: top;\n",
       "    }\n",
       "\n",
       "    .dataframe thead th {\n",
       "        text-align: right;\n",
       "    }\n",
       "</style>\n",
       "<table border=\"1\" class=\"dataframe\">\n",
       "  <thead>\n",
       "    <tr style=\"text-align: right;\">\n",
       "      <th></th>\n",
       "      <th>customer_no</th>\n",
       "      <th>joindate</th>\n",
       "      <th>expirydate</th>\n",
       "      <th>canceldate</th>\n",
       "      <th>birthdate</th>\n",
       "      <th>gender</th>\n",
       "      <th>maxcoveragelevel</th>\n",
       "      <th>LATITUDE</th>\n",
       "      <th>LONGITUDE</th>\n",
       "      <th>APARTMENT</th>\n",
       "      <th>...</th>\n",
       "      <th>ERNAME_Prince Albert, SK</th>\n",
       "      <th>ERNAME_Regina--Moose Mountain, SK</th>\n",
       "      <th>ERNAME_Saskatoon--Biggar, SK</th>\n",
       "      <th>ERNAME_Swift Current--Moose Jaw, SK</th>\n",
       "      <th>ERNAME_Yorkton--Melville, SK</th>\n",
       "      <th>is_associate_yes</th>\n",
       "      <th>status_A</th>\n",
       "      <th>join_age</th>\n",
       "      <th>expiry_in_years</th>\n",
       "      <th>cancel_in_years</th>\n",
       "    </tr>\n",
       "  </thead>\n",
       "  <tbody>\n",
       "    <tr>\n",
       "      <th>0</th>\n",
       "      <td>0</td>\n",
       "      <td>2007-11-09</td>\n",
       "      <td>2010-02-28</td>\n",
       "      <td>2009-03-17</td>\n",
       "      <td>1946-01-09</td>\n",
       "      <td>0</td>\n",
       "      <td>0.00</td>\n",
       "      <td>50.49179</td>\n",
       "      <td>-104.64473</td>\n",
       "      <td>0</td>\n",
       "      <td>...</td>\n",
       "      <td>0</td>\n",
       "      <td>1</td>\n",
       "      <td>0</td>\n",
       "      <td>0</td>\n",
       "      <td>0</td>\n",
       "      <td>0</td>\n",
       "      <td>0</td>\n",
       "      <td>61</td>\n",
       "      <td>2</td>\n",
       "      <td>1</td>\n",
       "    </tr>\n",
       "    <tr>\n",
       "      <th>1</th>\n",
       "      <td>1</td>\n",
       "      <td>2007-11-09</td>\n",
       "      <td>2008-12-31</td>\n",
       "      <td>2016-06-17</td>\n",
       "      <td>1950-06-20</td>\n",
       "      <td>0</td>\n",
       "      <td>0.00</td>\n",
       "      <td>52.16252</td>\n",
       "      <td>-106.63034</td>\n",
       "      <td>0</td>\n",
       "      <td>...</td>\n",
       "      <td>0</td>\n",
       "      <td>0</td>\n",
       "      <td>1</td>\n",
       "      <td>0</td>\n",
       "      <td>0</td>\n",
       "      <td>0</td>\n",
       "      <td>0</td>\n",
       "      <td>57</td>\n",
       "      <td>1</td>\n",
       "      <td>8</td>\n",
       "    </tr>\n",
       "    <tr>\n",
       "      <th>2</th>\n",
       "      <td>2</td>\n",
       "      <td>2007-11-09</td>\n",
       "      <td>2014-02-28</td>\n",
       "      <td>2013-04-25</td>\n",
       "      <td>1947-06-13</td>\n",
       "      <td>0</td>\n",
       "      <td>0.25</td>\n",
       "      <td>52.17229</td>\n",
       "      <td>-106.64965</td>\n",
       "      <td>0</td>\n",
       "      <td>...</td>\n",
       "      <td>0</td>\n",
       "      <td>0</td>\n",
       "      <td>1</td>\n",
       "      <td>0</td>\n",
       "      <td>0</td>\n",
       "      <td>0</td>\n",
       "      <td>0</td>\n",
       "      <td>60</td>\n",
       "      <td>6</td>\n",
       "      <td>5</td>\n",
       "    </tr>\n",
       "    <tr>\n",
       "      <th>3</th>\n",
       "      <td>3</td>\n",
       "      <td>2007-11-09</td>\n",
       "      <td>2009-12-31</td>\n",
       "      <td>2016-06-17</td>\n",
       "      <td>1951-10-30</td>\n",
       "      <td>1</td>\n",
       "      <td>0.00</td>\n",
       "      <td>53.36190</td>\n",
       "      <td>-104.01632</td>\n",
       "      <td>0</td>\n",
       "      <td>...</td>\n",
       "      <td>1</td>\n",
       "      <td>0</td>\n",
       "      <td>0</td>\n",
       "      <td>0</td>\n",
       "      <td>0</td>\n",
       "      <td>0</td>\n",
       "      <td>0</td>\n",
       "      <td>56</td>\n",
       "      <td>2</td>\n",
       "      <td>8</td>\n",
       "    </tr>\n",
       "    <tr>\n",
       "      <th>4</th>\n",
       "      <td>4</td>\n",
       "      <td>2007-11-09</td>\n",
       "      <td>2008-12-31</td>\n",
       "      <td>2016-06-17</td>\n",
       "      <td>1959-11-08</td>\n",
       "      <td>1</td>\n",
       "      <td>0.25</td>\n",
       "      <td>52.26408</td>\n",
       "      <td>-105.52338</td>\n",
       "      <td>0</td>\n",
       "      <td>...</td>\n",
       "      <td>1</td>\n",
       "      <td>0</td>\n",
       "      <td>0</td>\n",
       "      <td>0</td>\n",
       "      <td>0</td>\n",
       "      <td>0</td>\n",
       "      <td>0</td>\n",
       "      <td>48</td>\n",
       "      <td>1</td>\n",
       "      <td>8</td>\n",
       "    </tr>\n",
       "  </tbody>\n",
       "</table>\n",
       "<p>5 rows × 311 columns</p>\n",
       "</div>"
      ],
      "text/plain": [
       "   customer_no   joindate expirydate canceldate  birthdate  gender  \\\n",
       "0            0 2007-11-09 2010-02-28 2009-03-17 1946-01-09       0   \n",
       "1            1 2007-11-09 2008-12-31 2016-06-17 1950-06-20       0   \n",
       "2            2 2007-11-09 2014-02-28 2013-04-25 1947-06-13       0   \n",
       "3            3 2007-11-09 2009-12-31 2016-06-17 1951-10-30       1   \n",
       "4            4 2007-11-09 2008-12-31 2016-06-17 1959-11-08       1   \n",
       "\n",
       "   maxcoveragelevel  LATITUDE  LONGITUDE  APARTMENT  ...  \\\n",
       "0              0.00  50.49179 -104.64473          0  ...   \n",
       "1              0.00  52.16252 -106.63034          0  ...   \n",
       "2              0.25  52.17229 -106.64965          0  ...   \n",
       "3              0.00  53.36190 -104.01632          0  ...   \n",
       "4              0.25  52.26408 -105.52338          0  ...   \n",
       "\n",
       "   ERNAME_Prince Albert, SK  ERNAME_Regina--Moose Mountain, SK  \\\n",
       "0                         0                                  1   \n",
       "1                         0                                  0   \n",
       "2                         0                                  0   \n",
       "3                         1                                  0   \n",
       "4                         1                                  0   \n",
       "\n",
       "   ERNAME_Saskatoon--Biggar, SK  ERNAME_Swift Current--Moose Jaw, SK  \\\n",
       "0                             0                                    0   \n",
       "1                             1                                    0   \n",
       "2                             1                                    0   \n",
       "3                             0                                    0   \n",
       "4                             0                                    0   \n",
       "\n",
       "   ERNAME_Yorkton--Melville, SK  is_associate_yes  status_A  join_age  \\\n",
       "0                             0                 0         0        61   \n",
       "1                             0                 0         0        57   \n",
       "2                             0                 0         0        60   \n",
       "3                             0                 0         0        56   \n",
       "4                             0                 0         0        48   \n",
       "\n",
       "   expiry_in_years  cancel_in_years  \n",
       "0                2                1  \n",
       "1                1                8  \n",
       "2                6                5  \n",
       "3                2                8  \n",
       "4                1                8  \n",
       "\n",
       "[5 rows x 311 columns]"
      ]
     },
     "execution_count": 11,
     "metadata": {},
     "output_type": "execute_result"
    }
   ],
   "source": [
    "## Apply date adjustments for 4 digit dates\n",
    "clean_customer_df =  clean_customer_df.apply(lambda x: adjustBirthDate(x) , axis=1)\n",
    "\n",
    "## Convert date fields to pandas datetime\n",
    "clean_customer_df['birthdate'] =  pd.to_datetime(clean_customer_df['birthdate'])\n",
    "clean_customer_df['expirydate'] =  pd.to_datetime(clean_customer_df['expirydate'])\n",
    "clean_customer_df['canceldate'] =  pd.to_datetime(clean_customer_df['canceldate'])\n",
    "clean_customer_df['joindate'] =  pd.to_datetime(clean_customer_df['joindate'])\n",
    "\n",
    "## Calculate joining age and expiry and cancel in years.                                    \n",
    "clean_customer_df['join_age'] =  (clean_customer_df['joindate']-clean_customer_df['birthdate']).dt.days/365\n",
    "clean_customer_df['join_age'] =  clean_customer_df['join_age'].astype(int)\n",
    "\n",
    "clean_customer_df['expiry_in_years'] =  (clean_customer_df['expirydate']-clean_customer_df['joindate']).dt.days/365\n",
    "clean_customer_df['expiry_in_years']=clean_customer_df['expiry_in_years'].astype(int)\n",
    "clean_customer_df['cancel_in_years'] = (clean_customer_df['canceldate']-clean_customer_df['joindate']).dt.days/365\n",
    "clean_customer_df['cancel_in_years']=clean_customer_df['cancel_in_years'].astype(int)\n",
    "\n",
    "clean_customer_df.head()"
   ]
  },
  {
   "cell_type": "code",
   "execution_count": 12,
   "metadata": {},
   "outputs": [],
   "source": [
    "\n",
    "clean_customer_df = clean_customer_df.copy()"
   ]
  },
  {
   "cell_type": "code",
   "execution_count": 13,
   "metadata": {},
   "outputs": [
    {
     "data": {
      "text/plain": [
       "0    13794\n",
       "1       98\n",
       "Name: is_associate_yes, dtype: int64"
      ]
     },
     "execution_count": 13,
     "metadata": {},
     "output_type": "execute_result"
    }
   ],
   "source": [
    "# clean_customer_df.columns.tolist()\n",
    "clean_customer_df.is_associate_yes.value_counts()"
   ]
  },
  {
   "cell_type": "code",
   "execution_count": 14,
   "metadata": {},
   "outputs": [
    {
     "name": "stdout",
     "output_type": "stream",
     "text": [
      "<class 'pandas.core.frame.DataFrame'>\n",
      "Int64Index: 13892 entries, 0 to 13891\n",
      "Columns: 311 entries, customer_no to cancel_in_years\n",
      "dtypes: datetime64[ns](4), float64(3), int64(304)\n",
      "memory usage: 33.1 MB\n"
     ]
    }
   ],
   "source": [
    "clean_customer_df.info()"
   ]
  },
  {
   "cell_type": "code",
   "execution_count": 15,
   "metadata": {},
   "outputs": [],
   "source": [
    "# drop the customer_no and date fields as we extracted needed info from it.\n",
    "# clean df should be modified or created anew\n",
    "clean_customer_df.drop(['customer_no'], axis=1, inplace=True)\n",
    "clean_customer_df['join_year']=clean_customer_df['joindate'].dt.year\n",
    "clean_customer_df['join_month']=clean_customer_df['joindate'].dt.month\n",
    "clean_customer_df['cancel_year']=clean_customer_df['canceldate'].dt.year\n",
    "clean_customer_df['cancel_month']=clean_customer_df['canceldate'].dt.month\n",
    "\n",
    "clean_customer_df['not_current_member']=clean_customer_df['canceldate'].dt.year<date.today().year\n",
    "clean_customer_df['cancel_before_expiry']=clean_customer_df['canceldate']<clean_customer_df['expirydate']"
   ]
  },
  {
   "cell_type": "code",
   "execution_count": 16,
   "metadata": {},
   "outputs": [],
   "source": [
    "\n",
    "## create bins for age and cancellation\n",
    "bins=[0, 20, 30, 40, 50, 60, 70, 80 ]\n",
    "clean_customer_df['age_bins'] = pd.cut(clean_customer_df['join_age'], bins)"
   ]
  },
  {
   "cell_type": "code",
   "execution_count": 17,
   "metadata": {},
   "outputs": [
    {
     "data": {
      "text/html": [
       "<div>\n",
       "<style scoped>\n",
       "    .dataframe tbody tr th:only-of-type {\n",
       "        vertical-align: middle;\n",
       "    }\n",
       "\n",
       "    .dataframe tbody tr th {\n",
       "        vertical-align: top;\n",
       "    }\n",
       "\n",
       "    .dataframe thead th {\n",
       "        text-align: right;\n",
       "    }\n",
       "</style>\n",
       "<table border=\"1\" class=\"dataframe\">\n",
       "  <thead>\n",
       "    <tr style=\"text-align: right;\">\n",
       "      <th></th>\n",
       "      <th>joindate</th>\n",
       "      <th>expirydate</th>\n",
       "      <th>canceldate</th>\n",
       "      <th>birthdate</th>\n",
       "      <th>gender</th>\n",
       "      <th>maxcoveragelevel</th>\n",
       "      <th>LATITUDE</th>\n",
       "      <th>LONGITUDE</th>\n",
       "      <th>APARTMENT</th>\n",
       "      <th>POBOX</th>\n",
       "      <th>...</th>\n",
       "      <th>join_age</th>\n",
       "      <th>expiry_in_years</th>\n",
       "      <th>cancel_in_years</th>\n",
       "      <th>join_year</th>\n",
       "      <th>join_month</th>\n",
       "      <th>cancel_year</th>\n",
       "      <th>cancel_month</th>\n",
       "      <th>not_current_member</th>\n",
       "      <th>cancel_before_expiry</th>\n",
       "      <th>age_bins</th>\n",
       "    </tr>\n",
       "  </thead>\n",
       "  <tbody>\n",
       "    <tr>\n",
       "      <th>0</th>\n",
       "      <td>2007-11-09</td>\n",
       "      <td>2010-02-28</td>\n",
       "      <td>2009-03-17</td>\n",
       "      <td>1946-01-09</td>\n",
       "      <td>0</td>\n",
       "      <td>0.00</td>\n",
       "      <td>50.49179</td>\n",
       "      <td>-104.64473</td>\n",
       "      <td>0</td>\n",
       "      <td>0</td>\n",
       "      <td>...</td>\n",
       "      <td>61</td>\n",
       "      <td>2</td>\n",
       "      <td>1</td>\n",
       "      <td>2007</td>\n",
       "      <td>11</td>\n",
       "      <td>2009</td>\n",
       "      <td>3</td>\n",
       "      <td>True</td>\n",
       "      <td>True</td>\n",
       "      <td>(60, 70]</td>\n",
       "    </tr>\n",
       "    <tr>\n",
       "      <th>1</th>\n",
       "      <td>2007-11-09</td>\n",
       "      <td>2008-12-31</td>\n",
       "      <td>2016-06-17</td>\n",
       "      <td>1950-06-20</td>\n",
       "      <td>0</td>\n",
       "      <td>0.00</td>\n",
       "      <td>52.16252</td>\n",
       "      <td>-106.63034</td>\n",
       "      <td>0</td>\n",
       "      <td>0</td>\n",
       "      <td>...</td>\n",
       "      <td>57</td>\n",
       "      <td>1</td>\n",
       "      <td>8</td>\n",
       "      <td>2007</td>\n",
       "      <td>11</td>\n",
       "      <td>2016</td>\n",
       "      <td>6</td>\n",
       "      <td>True</td>\n",
       "      <td>False</td>\n",
       "      <td>(50, 60]</td>\n",
       "    </tr>\n",
       "    <tr>\n",
       "      <th>2</th>\n",
       "      <td>2007-11-09</td>\n",
       "      <td>2014-02-28</td>\n",
       "      <td>2013-04-25</td>\n",
       "      <td>1947-06-13</td>\n",
       "      <td>0</td>\n",
       "      <td>0.25</td>\n",
       "      <td>52.17229</td>\n",
       "      <td>-106.64965</td>\n",
       "      <td>0</td>\n",
       "      <td>1</td>\n",
       "      <td>...</td>\n",
       "      <td>60</td>\n",
       "      <td>6</td>\n",
       "      <td>5</td>\n",
       "      <td>2007</td>\n",
       "      <td>11</td>\n",
       "      <td>2013</td>\n",
       "      <td>4</td>\n",
       "      <td>True</td>\n",
       "      <td>True</td>\n",
       "      <td>(50, 60]</td>\n",
       "    </tr>\n",
       "    <tr>\n",
       "      <th>3</th>\n",
       "      <td>2007-11-09</td>\n",
       "      <td>2009-12-31</td>\n",
       "      <td>2016-06-17</td>\n",
       "      <td>1951-10-30</td>\n",
       "      <td>1</td>\n",
       "      <td>0.00</td>\n",
       "      <td>53.36190</td>\n",
       "      <td>-104.01632</td>\n",
       "      <td>0</td>\n",
       "      <td>1</td>\n",
       "      <td>...</td>\n",
       "      <td>56</td>\n",
       "      <td>2</td>\n",
       "      <td>8</td>\n",
       "      <td>2007</td>\n",
       "      <td>11</td>\n",
       "      <td>2016</td>\n",
       "      <td>6</td>\n",
       "      <td>True</td>\n",
       "      <td>False</td>\n",
       "      <td>(50, 60]</td>\n",
       "    </tr>\n",
       "    <tr>\n",
       "      <th>4</th>\n",
       "      <td>2007-11-09</td>\n",
       "      <td>2008-12-31</td>\n",
       "      <td>2016-06-17</td>\n",
       "      <td>1959-11-08</td>\n",
       "      <td>1</td>\n",
       "      <td>0.25</td>\n",
       "      <td>52.26408</td>\n",
       "      <td>-105.52338</td>\n",
       "      <td>0</td>\n",
       "      <td>1</td>\n",
       "      <td>...</td>\n",
       "      <td>48</td>\n",
       "      <td>1</td>\n",
       "      <td>8</td>\n",
       "      <td>2007</td>\n",
       "      <td>11</td>\n",
       "      <td>2016</td>\n",
       "      <td>6</td>\n",
       "      <td>True</td>\n",
       "      <td>False</td>\n",
       "      <td>(40, 50]</td>\n",
       "    </tr>\n",
       "  </tbody>\n",
       "</table>\n",
       "<p>5 rows × 317 columns</p>\n",
       "</div>"
      ],
      "text/plain": [
       "    joindate expirydate canceldate  birthdate  gender  maxcoveragelevel  \\\n",
       "0 2007-11-09 2010-02-28 2009-03-17 1946-01-09       0              0.00   \n",
       "1 2007-11-09 2008-12-31 2016-06-17 1950-06-20       0              0.00   \n",
       "2 2007-11-09 2014-02-28 2013-04-25 1947-06-13       0              0.25   \n",
       "3 2007-11-09 2009-12-31 2016-06-17 1951-10-30       1              0.00   \n",
       "4 2007-11-09 2008-12-31 2016-06-17 1959-11-08       1              0.25   \n",
       "\n",
       "   LATITUDE  LONGITUDE  APARTMENT  POBOX  ...  join_age  expiry_in_years  \\\n",
       "0  50.49179 -104.64473          0      0  ...        61                2   \n",
       "1  52.16252 -106.63034          0      0  ...        57                1   \n",
       "2  52.17229 -106.64965          0      1  ...        60                6   \n",
       "3  53.36190 -104.01632          0      1  ...        56                2   \n",
       "4  52.26408 -105.52338          0      1  ...        48                1   \n",
       "\n",
       "   cancel_in_years  join_year  join_month  cancel_year  cancel_month  \\\n",
       "0                1       2007          11         2009             3   \n",
       "1                8       2007          11         2016             6   \n",
       "2                5       2007          11         2013             4   \n",
       "3                8       2007          11         2016             6   \n",
       "4                8       2007          11         2016             6   \n",
       "\n",
       "   not_current_member  cancel_before_expiry  age_bins  \n",
       "0                True                  True  (60, 70]  \n",
       "1                True                 False  (50, 60]  \n",
       "2                True                  True  (50, 60]  \n",
       "3                True                 False  (50, 60]  \n",
       "4                True                 False  (40, 50]  \n",
       "\n",
       "[5 rows x 317 columns]"
      ]
     },
     "execution_count": 17,
     "metadata": {},
     "output_type": "execute_result"
    }
   ],
   "source": [
    "clean_customer_df.head()"
   ]
  },
  {
   "cell_type": "code",
   "execution_count": 18,
   "metadata": {},
   "outputs": [
    {
     "data": {
      "text/plain": [
       "-1"
      ]
     },
     "execution_count": 18,
     "metadata": {},
     "output_type": "execute_result"
    }
   ],
   "source": [
    "clean_customer_df['cancel_in_years'].min()"
   ]
  },
  {
   "cell_type": "code",
   "execution_count": 19,
   "metadata": {},
   "outputs": [],
   "source": [
    "## create bins for cancellation\n",
    "bins=[0,5, 10, 15, 20, 25, 35, 55 ]\n",
    "clean_customer_df['cancel_bins'] = pd.cut(clean_customer_df['cancel_in_years'], bins)"
   ]
  },
  {
   "cell_type": "code",
   "execution_count": 20,
   "metadata": {},
   "outputs": [
    {
     "data": {
      "text/html": [
       "<div>\n",
       "<style scoped>\n",
       "    .dataframe tbody tr th:only-of-type {\n",
       "        vertical-align: middle;\n",
       "    }\n",
       "\n",
       "    .dataframe tbody tr th {\n",
       "        vertical-align: top;\n",
       "    }\n",
       "\n",
       "    .dataframe thead th {\n",
       "        text-align: right;\n",
       "    }\n",
       "</style>\n",
       "<table border=\"1\" class=\"dataframe\">\n",
       "  <thead>\n",
       "    <tr style=\"text-align: right;\">\n",
       "      <th></th>\n",
       "      <th>joindate</th>\n",
       "      <th>expirydate</th>\n",
       "      <th>canceldate</th>\n",
       "      <th>birthdate</th>\n",
       "      <th>gender</th>\n",
       "      <th>maxcoveragelevel</th>\n",
       "      <th>LATITUDE</th>\n",
       "      <th>LONGITUDE</th>\n",
       "      <th>APARTMENT</th>\n",
       "      <th>POBOX</th>\n",
       "      <th>...</th>\n",
       "      <th>expiry_in_years</th>\n",
       "      <th>cancel_in_years</th>\n",
       "      <th>join_year</th>\n",
       "      <th>join_month</th>\n",
       "      <th>cancel_year</th>\n",
       "      <th>cancel_month</th>\n",
       "      <th>not_current_member</th>\n",
       "      <th>cancel_before_expiry</th>\n",
       "      <th>age_bins</th>\n",
       "      <th>cancel_bins</th>\n",
       "    </tr>\n",
       "  </thead>\n",
       "  <tbody>\n",
       "    <tr>\n",
       "      <th>0</th>\n",
       "      <td>2007-11-09</td>\n",
       "      <td>2010-02-28</td>\n",
       "      <td>2009-03-17</td>\n",
       "      <td>1946-01-09</td>\n",
       "      <td>0</td>\n",
       "      <td>0.00</td>\n",
       "      <td>50.49179</td>\n",
       "      <td>-104.64473</td>\n",
       "      <td>0</td>\n",
       "      <td>0</td>\n",
       "      <td>...</td>\n",
       "      <td>2</td>\n",
       "      <td>1</td>\n",
       "      <td>2007</td>\n",
       "      <td>11</td>\n",
       "      <td>2009</td>\n",
       "      <td>3</td>\n",
       "      <td>True</td>\n",
       "      <td>True</td>\n",
       "      <td>(60, 70]</td>\n",
       "      <td>(0, 5]</td>\n",
       "    </tr>\n",
       "    <tr>\n",
       "      <th>1</th>\n",
       "      <td>2007-11-09</td>\n",
       "      <td>2008-12-31</td>\n",
       "      <td>2016-06-17</td>\n",
       "      <td>1950-06-20</td>\n",
       "      <td>0</td>\n",
       "      <td>0.00</td>\n",
       "      <td>52.16252</td>\n",
       "      <td>-106.63034</td>\n",
       "      <td>0</td>\n",
       "      <td>0</td>\n",
       "      <td>...</td>\n",
       "      <td>1</td>\n",
       "      <td>8</td>\n",
       "      <td>2007</td>\n",
       "      <td>11</td>\n",
       "      <td>2016</td>\n",
       "      <td>6</td>\n",
       "      <td>True</td>\n",
       "      <td>False</td>\n",
       "      <td>(50, 60]</td>\n",
       "      <td>(5, 10]</td>\n",
       "    </tr>\n",
       "    <tr>\n",
       "      <th>2</th>\n",
       "      <td>2007-11-09</td>\n",
       "      <td>2014-02-28</td>\n",
       "      <td>2013-04-25</td>\n",
       "      <td>1947-06-13</td>\n",
       "      <td>0</td>\n",
       "      <td>0.25</td>\n",
       "      <td>52.17229</td>\n",
       "      <td>-106.64965</td>\n",
       "      <td>0</td>\n",
       "      <td>1</td>\n",
       "      <td>...</td>\n",
       "      <td>6</td>\n",
       "      <td>5</td>\n",
       "      <td>2007</td>\n",
       "      <td>11</td>\n",
       "      <td>2013</td>\n",
       "      <td>4</td>\n",
       "      <td>True</td>\n",
       "      <td>True</td>\n",
       "      <td>(50, 60]</td>\n",
       "      <td>(0, 5]</td>\n",
       "    </tr>\n",
       "    <tr>\n",
       "      <th>3</th>\n",
       "      <td>2007-11-09</td>\n",
       "      <td>2009-12-31</td>\n",
       "      <td>2016-06-17</td>\n",
       "      <td>1951-10-30</td>\n",
       "      <td>1</td>\n",
       "      <td>0.00</td>\n",
       "      <td>53.36190</td>\n",
       "      <td>-104.01632</td>\n",
       "      <td>0</td>\n",
       "      <td>1</td>\n",
       "      <td>...</td>\n",
       "      <td>2</td>\n",
       "      <td>8</td>\n",
       "      <td>2007</td>\n",
       "      <td>11</td>\n",
       "      <td>2016</td>\n",
       "      <td>6</td>\n",
       "      <td>True</td>\n",
       "      <td>False</td>\n",
       "      <td>(50, 60]</td>\n",
       "      <td>(5, 10]</td>\n",
       "    </tr>\n",
       "    <tr>\n",
       "      <th>4</th>\n",
       "      <td>2007-11-09</td>\n",
       "      <td>2008-12-31</td>\n",
       "      <td>2016-06-17</td>\n",
       "      <td>1959-11-08</td>\n",
       "      <td>1</td>\n",
       "      <td>0.25</td>\n",
       "      <td>52.26408</td>\n",
       "      <td>-105.52338</td>\n",
       "      <td>0</td>\n",
       "      <td>1</td>\n",
       "      <td>...</td>\n",
       "      <td>1</td>\n",
       "      <td>8</td>\n",
       "      <td>2007</td>\n",
       "      <td>11</td>\n",
       "      <td>2016</td>\n",
       "      <td>6</td>\n",
       "      <td>True</td>\n",
       "      <td>False</td>\n",
       "      <td>(40, 50]</td>\n",
       "      <td>(5, 10]</td>\n",
       "    </tr>\n",
       "  </tbody>\n",
       "</table>\n",
       "<p>5 rows × 318 columns</p>\n",
       "</div>"
      ],
      "text/plain": [
       "    joindate expirydate canceldate  birthdate  gender  maxcoveragelevel  \\\n",
       "0 2007-11-09 2010-02-28 2009-03-17 1946-01-09       0              0.00   \n",
       "1 2007-11-09 2008-12-31 2016-06-17 1950-06-20       0              0.00   \n",
       "2 2007-11-09 2014-02-28 2013-04-25 1947-06-13       0              0.25   \n",
       "3 2007-11-09 2009-12-31 2016-06-17 1951-10-30       1              0.00   \n",
       "4 2007-11-09 2008-12-31 2016-06-17 1959-11-08       1              0.25   \n",
       "\n",
       "   LATITUDE  LONGITUDE  APARTMENT  POBOX  ...  expiry_in_years  \\\n",
       "0  50.49179 -104.64473          0      0  ...                2   \n",
       "1  52.16252 -106.63034          0      0  ...                1   \n",
       "2  52.17229 -106.64965          0      1  ...                6   \n",
       "3  53.36190 -104.01632          0      1  ...                2   \n",
       "4  52.26408 -105.52338          0      1  ...                1   \n",
       "\n",
       "   cancel_in_years  join_year  join_month  cancel_year  cancel_month  \\\n",
       "0                1       2007          11         2009             3   \n",
       "1                8       2007          11         2016             6   \n",
       "2                5       2007          11         2013             4   \n",
       "3                8       2007          11         2016             6   \n",
       "4                8       2007          11         2016             6   \n",
       "\n",
       "   not_current_member  cancel_before_expiry  age_bins  cancel_bins  \n",
       "0                True                  True  (60, 70]       (0, 5]  \n",
       "1                True                 False  (50, 60]      (5, 10]  \n",
       "2                True                  True  (50, 60]       (0, 5]  \n",
       "3                True                 False  (50, 60]      (5, 10]  \n",
       "4                True                 False  (40, 50]      (5, 10]  \n",
       "\n",
       "[5 rows x 318 columns]"
      ]
     },
     "execution_count": 20,
     "metadata": {},
     "output_type": "execute_result"
    }
   ],
   "source": [
    "clean_customer_df.head()"
   ]
  },
  {
   "cell_type": "code",
   "execution_count": 21,
   "metadata": {},
   "outputs": [],
   "source": [
    "## Save a temp file for visual exploration in quicksight\n",
    "clean_customer_df.to_csv('caa_cleaned_data_for_EDA.csv',index=False)"
   ]
  },
  {
   "cell_type": "markdown",
   "metadata": {},
   "source": [
    "Now, what features do you have to work with?"
   ]
  },
  {
   "cell_type": "code",
   "execution_count": 22,
   "metadata": {},
   "outputs": [
    {
     "name": "stdout",
     "output_type": "stream",
     "text": [
      "Features: \n",
      " ['joindate' 'expirydate' 'canceldate' 'birthdate' 'gender'\n",
      " 'maxcoveragelevel' 'LATITUDE' 'LONGITUDE' 'APARTMENT' 'POBOX' 'status_B'\n",
      " 'status_C' 'status_X' 'renewtype_R' 'ratetype_10YR' 'ratetype_50AL'\n",
      " 'ratetype_50YR' 'ratetype_A' 'ratetype_AMPP' 'ratetype_E' 'ratetype_HLM'\n",
      " 'ratetype_MPP' 'ratetype_R' 'COMMNAME_ABERNETHY' 'COMMNAME_AIR RONGE'\n",
      " 'COMMNAME_ALLAN' 'COMMNAME_ANEROID' 'COMMNAME_ARCOLA' 'COMMNAME_ARRAN'\n",
      " 'COMMNAME_ASSINIBOIA' 'COMMNAME_BALCARRES' 'COMMNAME_BALDWINTON'\n",
      " 'COMMNAME_BARTHEL' 'COMMNAME_BATEMAN' 'COMMNAME_BATTLEFORD'\n",
      " 'COMMNAME_BEAUVAL' 'COMMNAME_BEECHY' 'COMMNAME_BENGOUGH'\n",
      " 'COMMNAME_BENSON' 'COMMNAME_BIG RIVER' 'COMMNAME_BIGGAR'\n",
      " 'COMMNAME_BLAINE LAKE' 'COMMNAME_BORDEN' 'COMMNAME_BROADVIEW'\n",
      " 'COMMNAME_BRUNO' 'COMMNAME_BUCHANAN' 'COMMNAME_BUFFALO NARROWS'\n",
      " 'COMMNAME_BURSTALL' 'COMMNAME_CABRI' 'COMMNAME_CANDIAC'\n",
      " 'COMMNAME_CANDLE LAKE' 'COMMNAME_CANDO' 'COMMNAME_CANOE NARROWS'\n",
      " 'COMMNAME_CANORA' 'COMMNAME_CANWOOD' 'COMMNAME_CARLYLE'\n",
      " 'COMMNAME_CARROT RIVER' 'COMMNAME_CENTRAL BUTTE' 'COMMNAME_CEYLON'\n",
      " 'COMMNAME_CHAMBERLAIN' 'COMMNAME_CHAPLIN' 'COMMNAME_CHELAN'\n",
      " 'COMMNAME_CHITEK LAKE' 'COMMNAME_CHOICELAND' 'COMMNAME_CHRISTOPHER LAKE'\n",
      " 'COMMNAME_CLAYDON' 'COMMNAME_CLEARWATER RIVER' 'COMMNAME_COCHIN'\n",
      " 'COMMNAME_COLEVILLE' 'COMMNAME_COLONSAY' 'COMMNAME_CONSUL'\n",
      " 'COMMNAME_CORONACH' 'COMMNAME_COWESSESS' 'COMMNAME_CRAIK'\n",
      " 'COMMNAME_CRAVEN' 'COMMNAME_CREIGHTON' 'COMMNAME_CUDWORTH'\n",
      " 'COMMNAME_CUMBERLAND HOUSE' 'COMMNAME_CUT KNIFE' 'COMMNAME_DAVIDSON'\n",
      " 'COMMNAME_DEBDEN' 'COMMNAME_DELMAS' 'COMMNAME_DENARE BEACH'\n",
      " 'COMMNAME_DESCHAMBAULT LAKE' 'COMMNAME_DILKE' 'COMMNAME_DILLON'\n",
      " 'COMMNAME_DORINTOSH' 'COMMNAME_DUCK LAKE' 'COMMNAME_DUVAL'\n",
      " 'COMMNAME_EASTEND' 'COMMNAME_EATONIA' 'COMMNAME_EDAM' 'COMMNAME_EDENWOLD'\n",
      " 'COMMNAME_EDGELEY' 'COMMNAME_ELBOW' 'COMMNAME_ELFROS'\n",
      " 'COMMNAME_ESTERHAZY' 'COMMNAME_FINDLATER' 'COMMNAME_FIR MOUNTAIN'\n",
      " 'COMMNAME_FLIN FLON' 'COMMNAME_FOAM LAKE' 'COMMNAME_FOND DU LAC'\n",
      " \"COMMNAME_FORT QU'APPELLE\" 'COMMNAME_FRENCHMAN BUTTE'\n",
      " 'COMMNAME_FROBISHER' 'COMMNAME_FRONTIER' 'COMMNAME_GAINSBOROUGH'\n",
      " 'COMMNAME_GALLIVAN' 'COMMNAME_GLASLYN' 'COMMNAME_GLENAVON'\n",
      " 'COMMNAME_GOODEVE' 'COMMNAME_GOODSOIL' 'COMMNAME_GOVAN'\n",
      " 'COMMNAME_GRAVELBOURG' 'COMMNAME_GREEN LAKE' 'COMMNAME_GRENFELL'\n",
      " 'COMMNAME_GRONLID' 'COMMNAME_GULL LAKE' 'COMMNAME_HAFFORD'\n",
      " 'COMMNAME_HARRIS' 'COMMNAME_HAZLET' 'COMMNAME_HENDON' 'COMMNAME_HERBERT'\n",
      " 'COMMNAME_HODGEVILLE' 'COMMNAME_HOEY' 'COMMNAME_HOLBEIN'\n",
      " 'COMMNAME_HUDSON BAY' 'COMMNAME_HUMBOLDT' 'COMMNAME_ILE-A-LA-CROSSE'\n",
      " 'COMMNAME_INDIAN HEAD' 'COMMNAME_INVERMAY' 'COMMNAME_ISLAND LAKE'\n",
      " 'COMMNAME_ITUNA' 'COMMNAME_KAMSACK' 'COMMNAME_KAYVILLE'\n",
      " 'COMMNAME_KERROBERT' 'COMMNAME_KINDERSLEY' 'COMMNAME_KINISTINO'\n",
      " 'COMMNAME_KIPLING' 'COMMNAME_KISBEY' 'COMMNAME_KYLE' 'COMMNAME_LA LOCHE'\n",
      " 'COMMNAME_LA RONGE' 'COMMNAME_LANIGAN' 'COMMNAME_LAPORTE'\n",
      " 'COMMNAME_LASHBURN' 'COMMNAME_LEADER' 'COMMNAME_LEASK'\n",
      " 'COMMNAME_LEOVILLE' 'COMMNAME_LESTOCK' 'COMMNAME_LIBERTY'\n",
      " 'COMMNAME_LIMERICK' 'COMMNAME_LIVELONG' 'COMMNAME_LLOYDMINSTER'\n",
      " 'COMMNAME_LOON LAKE' 'COMMNAME_LOVE' 'COMMNAME_LUMSDEN'\n",
      " 'COMMNAME_LUSELAND' 'COMMNAME_MACKLIN' 'COMMNAME_MAIDSTONE'\n",
      " 'COMMNAME_MAJOR' 'COMMNAME_MAKWA' 'COMMNAME_MAPLE CREEK'\n",
      " 'COMMNAME_MARCELIN' 'COMMNAME_MARSDEN' 'COMMNAME_MARYFIELD'\n",
      " 'COMMNAME_MAYFAIR' 'COMMNAME_MAYMONT' 'COMMNAME_MCLEAN'\n",
      " 'COMMNAME_MEADOW LAKE' 'COMMNAME_MEATH PARK' 'COMMNAME_MEDSTEAD'\n",
      " 'COMMNAME_MELFORT' 'COMMNAME_MEOTA' 'COMMNAME_MERVIN' 'COMMNAME_MEYRONNE'\n",
      " 'COMMNAME_MIDALE' 'COMMNAME_MIDDLE LAKE' 'COMMNAME_MIKADO'\n",
      " 'COMMNAME_MILDEN' 'COMMNAME_MILDRED' 'COMMNAME_MONT NEBO'\n",
      " 'COMMNAME_MONTMARTRE' 'COMMNAME_MONTREAL LAKE' 'COMMNAME_MOOSE JAW'\n",
      " 'COMMNAME_MORSE' 'COMMNAME_MOSSBANK' 'COMMNAME_MUENSTER'\n",
      " 'COMMNAME_MUSKODAY' 'COMMNAME_NEILBURG' 'COMMNAME_NIPAWIN'\n",
      " 'COMMNAME_NOKOMIS' 'COMMNAME_NORQUAY' 'COMMNAME_NORTH BATTLEFORD'\n",
      " 'COMMNAME_OGEMA' 'COMMNAME_OKLA' 'COMMNAME_ONION LAKE'\n",
      " 'COMMNAME_ORMISTON' 'COMMNAME_PADDOCKWOOD' 'COMMNAME_PAKWAW LAKE'\n",
      " 'COMMNAME_PARADISE HILL' 'COMMNAME_PARKMAN' 'COMMNAME_PATUANAK'\n",
      " 'COMMNAME_PAYNTON' 'COMMNAME_PELICAN NARROWS' 'COMMNAME_PENNANT STATION'\n",
      " 'COMMNAME_PIERCELAND' 'COMMNAME_PINEHOUSE LAKE' 'COMMNAME_PONTEIX'\n",
      " 'COMMNAME_PORCUPINE PLAIN' 'COMMNAME_PREECEVILLE'\n",
      " 'COMMNAME_PRINCE ALBERT' 'COMMNAME_PUNNICHY' \"COMMNAME_QU'APPELLE\"\n",
      " 'COMMNAME_QUILL LAKE' 'COMMNAME_RABBIT LAKE' 'COMMNAME_RAMA'\n",
      " 'COMMNAME_RAYMORE' 'COMMNAME_RED EARTH' 'COMMNAME_REGINA'\n",
      " 'COMMNAME_REGINA BEACH' 'COMMNAME_RICHARD' 'COMMNAME_RIDGEDALE'\n",
      " 'COMMNAME_RIVERHURST' 'COMMNAME_ROSE VALLEY' 'COMMNAME_ROSETOWN'\n",
      " 'COMMNAME_ROSTHERN' 'COMMNAME_RUSH LAKE' 'COMMNAME_SANDY BAY'\n",
      " 'COMMNAME_SASKATOON' 'COMMNAME_SCEPTRE' 'COMMNAME_SHAUNAVON'\n",
      " 'COMMNAME_SHELL LAKE' 'COMMNAME_SHELLBROOK' 'COMMNAME_SINTALUTA'\n",
      " 'COMMNAME_SONNINGDALE' 'COMMNAME_SOUTHEND' 'COMMNAME_SPEERS'\n",
      " 'COMMNAME_SPIRITWOOD' 'COMMNAME_SPRUCE HOME' 'COMMNAME_SPY HILL'\n",
      " 'COMMNAME_ST BENEDICT' 'COMMNAME_ST LOUIS' 'COMMNAME_ST WALBURG'\n",
      " 'COMMNAME_STANLEY MISSION' 'COMMNAME_STAR CITY' 'COMMNAME_STONY RAPIDS'\n",
      " 'COMMNAME_STOUGHTON' 'COMMNAME_STRASBOURG' 'COMMNAME_STURGIS'\n",
      " 'COMMNAME_SUCCESS' 'COMMNAME_TIMBER BAY' 'COMMNAME_TOMPKINS'\n",
      " 'COMMNAME_TURNOR LAKE' 'COMMNAME_TURTLEFORD' 'COMMNAME_UNITY'\n",
      " 'COMMNAME_VAL MARIE' 'COMMNAME_VANGUARD' 'COMMNAME_VISCOUNT'\n",
      " 'COMMNAME_WADENA' 'COMMNAME_WAKAW' 'COMMNAME_WALDECK' 'COMMNAME_WAPELLA'\n",
      " 'COMMNAME_WASECA' 'COMMNAME_WASKESIU LAKE' 'COMMNAME_WATERHEN LAKE'\n",
      " 'COMMNAME_WATROUS' 'COMMNAME_WAWOTA' 'COMMNAME_WEEKES'\n",
      " 'COMMNAME_WEIRDALE' 'COMMNAME_WELDON' 'COMMNAME_WEYAKWIN'\n",
      " 'COMMNAME_WHITE BEAR' 'COMMNAME_WHITE FOX' 'COMMNAME_WHITEWOOD'\n",
      " 'COMMNAME_WILKIE' 'COMMNAME_WOLSELEY' 'COMMNAME_YELLOW CREEK'\n",
      " 'COMMNAME_YORKTON' 'SG_F3' 'SG_R1' 'SG_R2' 'SG_S1' 'SG_S2' 'SG_S3'\n",
      " 'SG_S5' 'SG_S6' 'SG_T1' 'SG_U1' 'SG_U2' 'SG_U3' 'SG_U4' 'SG_U5' 'LS_F2'\n",
      " 'LS_F3' 'LS_M1' 'LS_M2' 'LS_Y1' 'LS_Y2' 'LS_Y3'\n",
      " 'ERNAME_Prince Albert, SK' 'ERNAME_Regina--Moose Mountain, SK'\n",
      " 'ERNAME_Saskatoon--Biggar, SK' 'ERNAME_Swift Current--Moose Jaw, SK'\n",
      " 'ERNAME_Yorkton--Melville, SK' 'is_associate_yes' 'status_A' 'join_age'\n",
      " 'expiry_in_years' 'cancel_in_years' 'join_year' 'join_month'\n",
      " 'cancel_year' 'cancel_month' 'not_current_member' 'cancel_before_expiry'\n",
      " 'age_bins' 'cancel_bins']\n"
     ]
    }
   ],
   "source": [
    "# all features we have at the moment\n",
    "features_list = clean_customer_df.columns.values\n",
    "print('Features: \\n', features_list)"
   ]
  },
  {
   "cell_type": "markdown",
   "metadata": {},
   "source": [
    "## Step 3: Visualizing the Data\n",
    "\n",
    "In general, you can see that features come in a variety of ranges, mostly percentages from 0-1, and counts that are integer values in a large range. Let's visualize the data in some of our feature columns and see what the distribution, over all Customers, looks like.\n",
    "\n",
    "Explore your data for trends,anomalies and ensure they make business sense \n",
    "\n",
    "### This can be done in Amazon Quicksight"
   ]
  },
  {
   "cell_type": "code",
   "execution_count": 23,
   "metadata": {},
   "outputs": [],
   "source": [
    "### drop columns you know so far to add no value \n",
    "clean_customer_df.drop(columns=['joindate', 'canceldate', 'expirydate','birthdate'], inplace=True)"
   ]
  },
  {
   "cell_type": "markdown",
   "metadata": {},
   "source": [
    "**Let's Categorize the bins we created**"
   ]
  },
  {
   "cell_type": "code",
   "execution_count": 24,
   "metadata": {},
   "outputs": [],
   "source": [
    "clean_customer_df=pd.get_dummies(clean_customer_df, columns=['age_bins','cancel_bins'])"
   ]
  },
  {
   "cell_type": "markdown",
   "metadata": {},
   "source": [
    "### Step 4: Normalize the data\n",
    "\n",
    "You need to standardize the scale of the numerical columns in order to consistently compare the values of different features. You can use a [MinMaxScaler](https://scikit-learn.org/stable/modules/generated/sklearn.preprocessing.MinMaxScaler.html) to transform the numerical values so that they all fall between 0 and 1."
   ]
  },
  {
   "cell_type": "code",
   "execution_count": 25,
   "metadata": {},
   "outputs": [
    {
     "data": {
      "text/html": [
       "<div>\n",
       "<style scoped>\n",
       "    .dataframe tbody tr th:only-of-type {\n",
       "        vertical-align: middle;\n",
       "    }\n",
       "\n",
       "    .dataframe tbody tr th {\n",
       "        vertical-align: top;\n",
       "    }\n",
       "\n",
       "    .dataframe thead th {\n",
       "        text-align: right;\n",
       "    }\n",
       "</style>\n",
       "<table border=\"1\" class=\"dataframe\">\n",
       "  <thead>\n",
       "    <tr style=\"text-align: right;\">\n",
       "      <th></th>\n",
       "      <th>gender</th>\n",
       "      <th>maxcoveragelevel</th>\n",
       "      <th>LATITUDE</th>\n",
       "      <th>LONGITUDE</th>\n",
       "      <th>APARTMENT</th>\n",
       "      <th>POBOX</th>\n",
       "      <th>status_B</th>\n",
       "      <th>status_C</th>\n",
       "      <th>status_X</th>\n",
       "      <th>renewtype_R</th>\n",
       "      <th>...</th>\n",
       "      <th>age_bins_(50, 60]</th>\n",
       "      <th>age_bins_(60, 70]</th>\n",
       "      <th>age_bins_(70, 80]</th>\n",
       "      <th>cancel_bins_(0, 5]</th>\n",
       "      <th>cancel_bins_(5, 10]</th>\n",
       "      <th>cancel_bins_(10, 15]</th>\n",
       "      <th>cancel_bins_(15, 20]</th>\n",
       "      <th>cancel_bins_(20, 25]</th>\n",
       "      <th>cancel_bins_(25, 35]</th>\n",
       "      <th>cancel_bins_(35, 55]</th>\n",
       "    </tr>\n",
       "  </thead>\n",
       "  <tbody>\n",
       "    <tr>\n",
       "      <th>0</th>\n",
       "      <td>0.0</td>\n",
       "      <td>0.00</td>\n",
       "      <td>0.141093</td>\n",
       "      <td>0.626427</td>\n",
       "      <td>0.0</td>\n",
       "      <td>0.0</td>\n",
       "      <td>0.0</td>\n",
       "      <td>0.0</td>\n",
       "      <td>0.0</td>\n",
       "      <td>0.0</td>\n",
       "      <td>...</td>\n",
       "      <td>0.0</td>\n",
       "      <td>1.0</td>\n",
       "      <td>0.0</td>\n",
       "      <td>1.0</td>\n",
       "      <td>0.0</td>\n",
       "      <td>0.0</td>\n",
       "      <td>0.0</td>\n",
       "      <td>0.0</td>\n",
       "      <td>0.0</td>\n",
       "      <td>0.0</td>\n",
       "    </tr>\n",
       "    <tr>\n",
       "      <th>1</th>\n",
       "      <td>0.0</td>\n",
       "      <td>0.00</td>\n",
       "      <td>0.299132</td>\n",
       "      <td>0.394389</td>\n",
       "      <td>0.0</td>\n",
       "      <td>0.0</td>\n",
       "      <td>0.0</td>\n",
       "      <td>0.0</td>\n",
       "      <td>0.0</td>\n",
       "      <td>1.0</td>\n",
       "      <td>...</td>\n",
       "      <td>1.0</td>\n",
       "      <td>0.0</td>\n",
       "      <td>0.0</td>\n",
       "      <td>0.0</td>\n",
       "      <td>1.0</td>\n",
       "      <td>0.0</td>\n",
       "      <td>0.0</td>\n",
       "      <td>0.0</td>\n",
       "      <td>0.0</td>\n",
       "      <td>0.0</td>\n",
       "    </tr>\n",
       "    <tr>\n",
       "      <th>2</th>\n",
       "      <td>0.0</td>\n",
       "      <td>0.25</td>\n",
       "      <td>0.300056</td>\n",
       "      <td>0.392133</td>\n",
       "      <td>0.0</td>\n",
       "      <td>1.0</td>\n",
       "      <td>0.0</td>\n",
       "      <td>0.0</td>\n",
       "      <td>0.0</td>\n",
       "      <td>1.0</td>\n",
       "      <td>...</td>\n",
       "      <td>1.0</td>\n",
       "      <td>0.0</td>\n",
       "      <td>0.0</td>\n",
       "      <td>1.0</td>\n",
       "      <td>0.0</td>\n",
       "      <td>0.0</td>\n",
       "      <td>0.0</td>\n",
       "      <td>0.0</td>\n",
       "      <td>0.0</td>\n",
       "      <td>0.0</td>\n",
       "    </tr>\n",
       "    <tr>\n",
       "      <th>3</th>\n",
       "      <td>1.0</td>\n",
       "      <td>0.00</td>\n",
       "      <td>0.412585</td>\n",
       "      <td>0.699863</td>\n",
       "      <td>0.0</td>\n",
       "      <td>1.0</td>\n",
       "      <td>0.0</td>\n",
       "      <td>0.0</td>\n",
       "      <td>0.0</td>\n",
       "      <td>1.0</td>\n",
       "      <td>...</td>\n",
       "      <td>1.0</td>\n",
       "      <td>0.0</td>\n",
       "      <td>0.0</td>\n",
       "      <td>0.0</td>\n",
       "      <td>1.0</td>\n",
       "      <td>0.0</td>\n",
       "      <td>0.0</td>\n",
       "      <td>0.0</td>\n",
       "      <td>0.0</td>\n",
       "      <td>0.0</td>\n",
       "    </tr>\n",
       "    <tr>\n",
       "      <th>4</th>\n",
       "      <td>1.0</td>\n",
       "      <td>0.25</td>\n",
       "      <td>0.308739</td>\n",
       "      <td>0.523748</td>\n",
       "      <td>0.0</td>\n",
       "      <td>1.0</td>\n",
       "      <td>0.0</td>\n",
       "      <td>0.0</td>\n",
       "      <td>0.0</td>\n",
       "      <td>1.0</td>\n",
       "      <td>...</td>\n",
       "      <td>0.0</td>\n",
       "      <td>0.0</td>\n",
       "      <td>0.0</td>\n",
       "      <td>0.0</td>\n",
       "      <td>1.0</td>\n",
       "      <td>0.0</td>\n",
       "      <td>0.0</td>\n",
       "      <td>0.0</td>\n",
       "      <td>0.0</td>\n",
       "      <td>0.0</td>\n",
       "    </tr>\n",
       "  </tbody>\n",
       "</table>\n",
       "<p>5 rows × 326 columns</p>\n",
       "</div>"
      ],
      "text/plain": [
       "   gender  maxcoveragelevel  LATITUDE  LONGITUDE  APARTMENT  POBOX  status_B  \\\n",
       "0     0.0              0.00  0.141093   0.626427        0.0    0.0       0.0   \n",
       "1     0.0              0.00  0.299132   0.394389        0.0    0.0       0.0   \n",
       "2     0.0              0.25  0.300056   0.392133        0.0    1.0       0.0   \n",
       "3     1.0              0.00  0.412585   0.699863        0.0    1.0       0.0   \n",
       "4     1.0              0.25  0.308739   0.523748        0.0    1.0       0.0   \n",
       "\n",
       "   status_C  status_X  renewtype_R  ...  age_bins_(50, 60]  age_bins_(60, 70]  \\\n",
       "0       0.0       0.0          0.0  ...                0.0                1.0   \n",
       "1       0.0       0.0          1.0  ...                1.0                0.0   \n",
       "2       0.0       0.0          1.0  ...                1.0                0.0   \n",
       "3       0.0       0.0          1.0  ...                1.0                0.0   \n",
       "4       0.0       0.0          1.0  ...                0.0                0.0   \n",
       "\n",
       "   age_bins_(70, 80]  cancel_bins_(0, 5]  cancel_bins_(5, 10]  \\\n",
       "0                0.0                 1.0                  0.0   \n",
       "1                0.0                 0.0                  1.0   \n",
       "2                0.0                 1.0                  0.0   \n",
       "3                0.0                 0.0                  1.0   \n",
       "4                0.0                 0.0                  1.0   \n",
       "\n",
       "   cancel_bins_(10, 15]  cancel_bins_(15, 20]  cancel_bins_(20, 25]  \\\n",
       "0                   0.0                   0.0                   0.0   \n",
       "1                   0.0                   0.0                   0.0   \n",
       "2                   0.0                   0.0                   0.0   \n",
       "3                   0.0                   0.0                   0.0   \n",
       "4                   0.0                   0.0                   0.0   \n",
       "\n",
       "   cancel_bins_(25, 35]  cancel_bins_(35, 55]  \n",
       "0                   0.0                   0.0  \n",
       "1                   0.0                   0.0  \n",
       "2                   0.0                   0.0  \n",
       "3                   0.0                   0.0  \n",
       "4                   0.0                   0.0  \n",
       "\n",
       "[5 rows x 326 columns]"
      ]
     },
     "execution_count": 25,
     "metadata": {},
     "output_type": "execute_result"
    }
   ],
   "source": [
    "# scale numerical features into a normalized range, 0-1\n",
    "# store them in this dataframe\n",
    "from sklearn.preprocessing import MinMaxScaler\n",
    "\n",
    "scaler = MinMaxScaler().fit(clean_customer_df.astype(float))\n",
    "\n",
    "customer_scaled = pd.DataFrame(scaler.transform(clean_customer_df.astype(float)))\n",
    "\n",
    "customer_scaled.columns = clean_customer_df.columns\n",
    "customer_scaled.index = clean_customer_df.index\n",
    "\n",
    "customer_scaled.head()"
   ]
  },
  {
   "cell_type": "code",
   "execution_count": 26,
   "metadata": {},
   "outputs": [],
   "source": [
    "customer_scaled.to_csv(f's3://{bucket_name}/{prefix}/batch/transform_input.csv',index=False, header=False)"
   ]
  },
  {
   "cell_type": "markdown",
   "metadata": {},
   "source": [
    "---\n",
    "# Data Modeling\n",
    "\n",
    "\n",
    "Now, the data is ready to be fed into a machine learning model!\n",
    "\n",
    "Each data point has 326 features, which means the data is 326-dimensional. Clustering algorithms rely on finding clusters in n-dimensional feature space. For higher dimensions, an algorithm like k-means has a difficult time figuring out which features are most important, and the result is, often, noisier clusters. *While we are using KMeans here , you can explore other clustering algorithms*\n",
    "\n",
    "Some dimensions are not as important as others. For example, some particular feature doesn’t give us any distinguishing information; it will not help to separate customers into different groups because its value doesn’t *vary* between customers.\n",
    "\n",
    "> Instead, we really want to find the features that help to separate and group data. We want to find features that cause the **most variance** in the dataset!\n",
    "\n",
    "So, before we cluster this data, we’ll want to take a dimensionality reduction step. Our aim will be to form a smaller set of features that will better help to separate our data. The technique you will use is called PCA or **principal component analysis**\n",
    "\n",
    "## Dimensionality Reduction\n",
    "\n",
    "PCA attempts to reduce the number of features within a dataset while retaining the “principal components”, which are defined as *weighted*, linear combinations of existing features that are designed to be linearly independent and account for the largest possible variability in the data! We can think of this method as taking many features and combining similar or redundant features together to form a new, smaller feature set.\n",
    "\n",
    "We can reduce dimensionality with the built-in SageMaker model for PCA."
   ]
  },
  {
   "cell_type": "code",
   "execution_count": 27,
   "metadata": {},
   "outputs": [
    {
     "name": "stdout",
     "output_type": "stream",
     "text": [
      "[0.10657769 0.19995023 0.25868004 0.31530039 0.36753852 0.41304313\n",
      " 0.4547574  0.49463864 0.53027611 0.56402326 0.59450723 0.62087471\n",
      " 0.64653955 0.66971819 0.69066591 0.71093329 0.72906667 0.74485527\n",
      " 0.7591469  0.77235084 0.78512405 0.79745445 0.80921879 0.82071571\n",
      " 0.83188195 0.84233172 0.85252337 0.86176963 0.87081972 0.87950601\n",
      " 0.88734732 0.8937478  0.89970099 0.9051759  0.90961399 0.91398656\n",
      " 0.91828131 0.92235754 0.92592775 0.92932743 0.93253579 0.93537527\n",
      " 0.9381788  0.94085703 0.9433553  0.94569932 0.94774707 0.94955084\n",
      " 0.95128653]\n"
     ]
    },
    {
     "data": {
      "text/plain": [
       "48"
      ]
     },
     "execution_count": 27,
     "metadata": {},
     "output_type": "execute_result"
    }
   ],
   "source": [
    "# sklearn PCA\n",
    "from sklearn.decomposition import PCA\n",
    "pca = PCA(n_components=0.95)\n",
    "pca.fit(customer_scaled)\n",
    "print(np.cumsum(pca.explained_variance_ratio_))\n",
    "num_components_req = sum(np.cumsum(pca.explained_variance_ratio_)<=0.95)\n",
    "num_components_req"
   ]
  },
  {
   "cell_type": "code",
   "execution_count": 28,
   "metadata": {},
   "outputs": [
    {
     "data": {
      "text/plain": [
       "Text(0, 0.5, 'Explained variance')"
      ]
     },
     "execution_count": 28,
     "metadata": {},
     "output_type": "execute_result"
    },
    {
     "data": {
      "image/png": "[encoded data removed]",
      "text/plain": [
       "<Figure size 432x288 with 1 Axes>"
      ]
     },
     "metadata": {
      "needs_background": "light"
     },
     "output_type": "display_data"
    }
   ],
   "source": [
    "plt.plot(np.cumsum(pca.explained_variance_ratio_ ))\n",
    "plt.xlabel ('Number of components')\n",
    "plt.ylabel ('Explained variance')"
   ]
  },
  {
   "cell_type": "markdown",
   "metadata": {},
   "source": [
    "## SageMaker Training and Inference in Sections Below"
   ]
  },
  {
   "cell_type": "markdown",
   "metadata": {},
   "source": [
    "---\n",
    "### Roles and Buckets\n",
    "\n",
    "> To create a model, you'll first need to specify an IAM role, and to save the model attributes, you'll need to store them in an S3 bucket.\n",
    "\n",
    "The `get_execution_role` function retrieves the IAM role you created at the time you created your notebook instance. Roles are essentially used to manage permissions and you can read more about that [in this documentation](https://docs.aws.amazon.com/sagemaker/latest/dg/sagemaker-roles.html). For now, know that we have a FullAccess notebook, which allowed us to access and download the census data stored in S3.\n",
    "\n",
    "You must specify a bucket name for an S3 bucket in your account where you want SageMaker model parameters to be stored. Note that the bucket must be in the same region as this notebook. You can get a default S3 bucket, which automatically creates a bucket for you and in your region, by storing the current SageMaker session and calling `session.default_bucket()`."
   ]
  },
  {
   "cell_type": "code",
   "execution_count": 29,
   "metadata": {},
   "outputs": [
    {
     "name": "stdout",
     "output_type": "stream",
     "text": [
      "arn:aws:iam::050431322405:role/service-role/AmazonSageMaker-ExecutionRole-20220502T134169\n"
     ]
    }
   ],
   "source": [
    "# We need to role so we can make API call to the SageMaker services\n",
    "from sagemaker import get_execution_role\n",
    "\n",
    "session = sagemaker.Session() # store the current SageMaker session\n",
    "\n",
    "# get IAM role\n",
    "role = get_execution_role()\n",
    "print(role)"
   ]
  },
  {
   "cell_type": "markdown",
   "metadata": {},
   "source": [
    "---\n",
    "## Let's define a PCA Model\n",
    "\n",
    "To create a PCA model, we'll use the **built-in SageMaker resource**. A SageMaker estimator requires a number of parameters to be specified; these define the type of training instance to use and the model hyperparameters. A PCA model requires the following constructor arguments:\n",
    "\n",
    "* role: The IAM role, which was specified, above.\n",
    "* train_instance_count: The number of training instances (typically, 1).\n",
    "* train_instance_type: The type of SageMaker instance for training.\n",
    "* num_components: An integer that defines the number of PCA components to produce.\n",
    "* sagemaker_session: The session used to train on SageMaker.\n",
    "\n",
    "Documentation on the PCA model can be found [here](http://sagemaker.readthedocs.io/en/latest/pca.html).\n",
    "\n",
    "Let's specify where to save the model training data, using prefix and the `output_path`."
   ]
  },
  {
   "cell_type": "code",
   "execution_count": 30,
   "metadata": {},
   "outputs": [
    {
     "name": "stdout",
     "output_type": "stream",
     "text": [
      "Training artifacts will be uploaded to: s3://esti-sm-demo-rk/caa-customers-seg/\n"
     ]
    }
   ],
   "source": [
    "# define location to store model artifacts\n",
    "model_prefix = 'caa-customers-seg'\n",
    "\n",
    "output_path='s3://{}/{}/'.format(bucket_name, model_prefix)\n",
    "\n",
    "print('Training artifacts will be uploaded to: {}'.format(output_path))"
   ]
  },
  {
   "cell_type": "code",
   "execution_count": 31,
   "metadata": {},
   "outputs": [],
   "source": [
    "# define a PCA model\n",
    "from sagemaker import PCA\n",
    "\n",
    "# this is current features - 1\n",
    "# you'll select only a portion of these to use, later\n",
    "N_COMPONENTS=40\n",
    "\n",
    "pca_SM = PCA(role=role,\n",
    "             instance_count=1,\n",
    "             instance_type='ml.c4.xlarge',\n",
    "             output_path=output_path, # specified, above\n",
    "             num_components=N_COMPONENTS, \n",
    "             sagemaker_session=session)\n"
   ]
  },
  {
   "cell_type": "markdown",
   "metadata": {},
   "source": [
    "### Convert data into a RecordSet format\n",
    "\n",
    "Next, prepare the data for a built-in model by converting the DataFrame to a numpy array of float values.\n",
    "\n",
    "The *record_set* function in the SageMaker PCA model converts a numpy array into a **RecordSet** format that is the required format for the training input data. This is a requirement for _all_ of SageMaker's built-in models. The use of this data type is one of the reasons that allows training of models within Amazon SageMaker to perform faster, especially for large datasets."
   ]
  },
  {
   "cell_type": "code",
   "execution_count": 32,
   "metadata": {},
   "outputs": [],
   "source": [
    "# convert df to np array\n",
    "# reduce the size of the data since I am getting size issue ---\n",
    "# reduced_train_data = customer_scaled.sample(frac=0.1) # Get 50% of the data\n",
    "#len(reduced_train_data) \n",
    "reduced_train_data = customer_scaled\n",
    "\n",
    "train_data_np = customer_scaled.values.astype('float32')\n",
    "reduced_train_data_np = reduced_train_data.values.astype('float32')\n",
    "\n",
    "len(reduced_train_data) \n",
    "#reduced_train_data\n",
    "# convert to RecordSet format\n",
    "#formatted_train_data = pca_SM.record_set(train_data_np)\n",
    "formatted_train_data = pca_SM.record_set(reduced_train_data_np)"
   ]
  },
  {
   "cell_type": "markdown",
   "metadata": {},
   "source": [
    "---\n",
    "## Train the model\n",
    "\n",
    "Call the fit function on the PCA model, passing in our formatted, training data. This spins up a training instance to perform the training job.\n",
    "\n",
    "Note that it takes the longest to launch the specified training instance; the fitting itself doesn't take much time.\n",
    "\n"
   ]
  },
  {
   "cell_type": "code",
   "execution_count": 33,
   "metadata": {
    "scrolled": true
   },
   "outputs": [
    {
     "name": "stderr",
     "output_type": "stream",
     "text": [
      "Defaulting to the only supported framework/algorithm version: 1. Ignoring framework/algorithm version: 1.\n",
      "Defaulting to the only supported framework/algorithm version: 1. Ignoring framework/algorithm version: 1.\n"
     ]
    },
    {
     "name": "stdout",
     "output_type": "stream",
     "text": [
      "2022-05-02 19:58:18 Starting - Starting the training job...\n",
      "2022-05-02 19:58:45 Starting - Preparing the instances for trainingProfilerReport-1651521498: InProgress\n",
      ".........\n",
      "2022-05-02 20:00:12 Downloading - Downloading input data...\n",
      "2022-05-02 20:00:32 Training - Downloading the training image.....\u001b[34mDocker entrypoint called with argument(s): train\u001b[0m\n",
      "\u001b[34mRunning default environment configuration script\u001b[0m\n",
      "\u001b[34m[05/02/2022 20:01:33 INFO 139922473154368 integration.py:636] worker started\u001b[0m\n",
      "\u001b[34m[05/02/2022 20:01:33 INFO 139922473154368] Reading default configuration from /opt/amazon/lib/python3.7/site-packages/algorithm/resources/default-conf.json: {'algorithm_mode': 'regular', 'subtract_mean': 'true', 'extra_components': '-1', 'force_dense': 'true', 'epochs': 1, '_log_level': 'info', '_kvstore': 'dist_sync', '_num_kv_servers': 'auto', '_num_gpus': 'auto'}\u001b[0m\n",
      "\u001b[34m[05/02/2022 20:01:33 INFO 139922473154368] Merging with provided configuration from /opt/ml/input/config/hyperparameters.json: {'feature_dim': '326', 'mini_batch_size': '500', 'num_components': '40'}\u001b[0m\n",
      "\u001b[34m[05/02/2022 20:01:33 INFO 139922473154368] Final configuration: {'algorithm_mode': 'regular', 'subtract_mean': 'true', 'extra_components': '-1', 'force_dense': 'true', 'epochs': 1, '_log_level': 'info', '_kvstore': 'dist_sync', '_num_kv_servers': 'auto', '_num_gpus': 'auto', 'feature_dim': '326', 'mini_batch_size': '500', 'num_components': '40'}\u001b[0m\n",
      "\u001b[34m[05/02/2022 20:01:33 WARNING 139922473154368] Loggers have already been setup.\u001b[0m\n",
      "\u001b[34m[05/02/2022 20:01:33 INFO 139922473154368] Launching parameter server for role scheduler\u001b[0m\n",
      "\u001b[34m[05/02/2022 20:01:33 INFO 139922473154368] {'ENVROOT': '/opt/amazon', 'PROTOCOL_BUFFERS_PYTHON_IMPLEMENTATION': 'cpp', 'HOSTNAME': 'ip-10-2-94-58.ec2.internal', 'TRAINING_JOB_NAME': 'pca-2022-05-02-19-58-18-756', 'NVIDIA_REQUIRE_CUDA': 'cuda>=9.0', 'TRAINING_JOB_ARN': 'arn:aws:sagemaker:us-east-1:050431322405:training-job/pca-2022-05-02-19-58-18-756', 'AWS_CONTAINER_CREDENTIALS_RELATIVE_URI': '/v2/credentials/proxy-fd9ac29a72348b3f7ea843d42aec0864eeec0bf3a9eb057c8f06119c3923661d-customer', 'CANONICAL_ENVROOT': '/opt/amazon', 'PYTHONUNBUFFERED': 'TRUE', 'NVIDIA_VISIBLE_DEVICES': 'all', 'LD_LIBRARY_PATH': '/opt/amazon/lib/python3.7/site-packages/cv2/../../../../lib:/usr/local/nvidia/lib64:/opt/amazon/lib', 'NVIDIA_DRIVER_CAPABILITIES': 'compute,utility', 'PATH': '/opt/amazon/bin:/usr/local/nvidia/bin:/usr/local/sbin:/usr/local/bin:/usr/sbin:/usr/bin:/sbin:/bin', 'PWD': '/', 'LANG': 'en_US.utf8', 'AWS_REGION': 'us-east-1', 'HOME': '/root', 'SHLVL': '1', 'PROTOCOL_BUFFERS_PYTHON_IMPLEMENTATION_VERSION': '2', 'OMP_NUM_THREADS': '2', 'DMLC_INTERFACE': 'eth0', 'SAGEMAKER_HTTP_PORT': '8080', 'SAGEMAKER_DATA_PATH': '/opt/ml'}\u001b[0m\n",
      "\u001b[34m[05/02/2022 20:01:33 INFO 139922473154368] envs={'ENVROOT': '/opt/amazon', 'PROTOCOL_BUFFERS_PYTHON_IMPLEMENTATION': 'cpp', 'HOSTNAME': 'ip-10-2-94-58.ec2.internal', 'TRAINING_JOB_NAME': 'pca-2022-05-02-19-58-18-756', 'NVIDIA_REQUIRE_CUDA': 'cuda>=9.0', 'TRAINING_JOB_ARN': 'arn:aws:sagemaker:us-east-1:050431322405:training-job/pca-2022-05-02-19-58-18-756', 'AWS_CONTAINER_CREDENTIALS_RELATIVE_URI': '/v2/credentials/proxy-fd9ac29a72348b3f7ea843d42aec0864eeec0bf3a9eb057c8f06119c3923661d-customer', 'CANONICAL_ENVROOT': '/opt/amazon', 'PYTHONUNBUFFERED': 'TRUE', 'NVIDIA_VISIBLE_DEVICES': 'all', 'LD_LIBRARY_PATH': '/opt/amazon/lib/python3.7/site-packages/cv2/../../../../lib:/usr/local/nvidia/lib64:/opt/amazon/lib', 'NVIDIA_DRIVER_CAPABILITIES': 'compute,utility', 'PATH': '/opt/amazon/bin:/usr/local/nvidia/bin:/usr/local/sbin:/usr/local/bin:/usr/sbin:/usr/bin:/sbin:/bin', 'PWD': '/', 'LANG': 'en_US.utf8', 'AWS_REGION': 'us-east-1', 'HOME': '/root', 'SHLVL': '1', 'PROTOCOL_BUFFERS_PYTHON_IMPLEMENTATION_VERSION': '2', 'OMP_NUM_THREADS': '2', 'DMLC_INTERFACE': 'eth0', 'SAGEMAKER_HTTP_PORT': '8080', 'SAGEMAKER_DATA_PATH': '/opt/ml', 'DMLC_ROLE': 'scheduler', 'DMLC_PS_ROOT_URI': '10.2.94.58', 'DMLC_PS_ROOT_PORT': '9000', 'DMLC_NUM_SERVER': '1', 'DMLC_NUM_WORKER': '1'}\u001b[0m\n",
      "\u001b[34m[05/02/2022 20:01:33 INFO 139922473154368] Launching parameter server for role server\u001b[0m\n",
      "\u001b[34m[05/02/2022 20:01:33 INFO 139922473154368] {'ENVROOT': '/opt/amazon', 'PROTOCOL_BUFFERS_PYTHON_IMPLEMENTATION': 'cpp', 'HOSTNAME': 'ip-10-2-94-58.ec2.internal', 'TRAINING_JOB_NAME': 'pca-2022-05-02-19-58-18-756', 'NVIDIA_REQUIRE_CUDA': 'cuda>=9.0', 'TRAINING_JOB_ARN': 'arn:aws:sagemaker:us-east-1:050431322405:training-job/pca-2022-05-02-19-58-18-756', 'AWS_CONTAINER_CREDENTIALS_RELATIVE_URI': '/v2/credentials/proxy-fd9ac29a72348b3f7ea843d42aec0864eeec0bf3a9eb057c8f06119c3923661d-customer', 'CANONICAL_ENVROOT': '/opt/amazon', 'PYTHONUNBUFFERED': 'TRUE', 'NVIDIA_VISIBLE_DEVICES': 'all', 'LD_LIBRARY_PATH': '/opt/amazon/lib/python3.7/site-packages/cv2/../../../../lib:/usr/local/nvidia/lib64:/opt/amazon/lib', 'NVIDIA_DRIVER_CAPABILITIES': 'compute,utility', 'PATH': '/opt/amazon/bin:/usr/local/nvidia/bin:/usr/local/sbin:/usr/local/bin:/usr/sbin:/usr/bin:/sbin:/bin', 'PWD': '/', 'LANG': 'en_US.utf8', 'AWS_REGION': 'us-east-1', 'HOME': '/root', 'SHLVL': '1', 'PROTOCOL_BUFFERS_PYTHON_IMPLEMENTATION_VERSION': '2', 'OMP_NUM_THREADS': '2', 'DMLC_INTERFACE': 'eth0', 'SAGEMAKER_HTTP_PORT': '8080', 'SAGEMAKER_DATA_PATH': '/opt/ml'}\u001b[0m\n",
      "\u001b[34m[05/02/2022 20:01:33 INFO 139922473154368] envs={'ENVROOT': '/opt/amazon', 'PROTOCOL_BUFFERS_PYTHON_IMPLEMENTATION': 'cpp', 'HOSTNAME': 'ip-10-2-94-58.ec2.internal', 'TRAINING_JOB_NAME': 'pca-2022-05-02-19-58-18-756', 'NVIDIA_REQUIRE_CUDA': 'cuda>=9.0', 'TRAINING_JOB_ARN': 'arn:aws:sagemaker:us-east-1:050431322405:training-job/pca-2022-05-02-19-58-18-756', 'AWS_CONTAINER_CREDENTIALS_RELATIVE_URI': '/v2/credentials/proxy-fd9ac29a72348b3f7ea843d42aec0864eeec0bf3a9eb057c8f06119c3923661d-customer', 'CANONICAL_ENVROOT': '/opt/amazon', 'PYTHONUNBUFFERED': 'TRUE', 'NVIDIA_VISIBLE_DEVICES': 'all', 'LD_LIBRARY_PATH': '/opt/amazon/lib/python3.7/site-packages/cv2/../../../../lib:/usr/local/nvidia/lib64:/opt/amazon/lib', 'NVIDIA_DRIVER_CAPABILITIES': 'compute,utility', 'PATH': '/opt/amazon/bin:/usr/local/nvidia/bin:/usr/local/sbin:/usr/local/bin:/usr/sbin:/usr/bin:/sbin:/bin', 'PWD': '/', 'LANG': 'en_US.utf8', 'AWS_REGION': 'us-east-1', 'HOME': '/root', 'SHLVL': '1', 'PROTOCOL_BUFFERS_PYTHON_IMPLEMENTATION_VERSION': '2', 'OMP_NUM_THREADS': '2', 'DMLC_INTERFACE': 'eth0', 'SAGEMAKER_HTTP_PORT': '8080', 'SAGEMAKER_DATA_PATH': '/opt/ml', 'DMLC_ROLE': 'server', 'DMLC_PS_ROOT_URI': '10.2.94.58', 'DMLC_PS_ROOT_PORT': '9000', 'DMLC_NUM_SERVER': '1', 'DMLC_NUM_WORKER': '1'}\u001b[0m\n",
      "\u001b[34m[05/02/2022 20:01:33 INFO 139922473154368] Environment: {'ENVROOT': '/opt/amazon', 'PROTOCOL_BUFFERS_PYTHON_IMPLEMENTATION': 'cpp', 'HOSTNAME': 'ip-10-2-94-58.ec2.internal', 'TRAINING_JOB_NAME': 'pca-2022-05-02-19-58-18-756', 'NVIDIA_REQUIRE_CUDA': 'cuda>=9.0', 'TRAINING_JOB_ARN': 'arn:aws:sagemaker:us-east-1:050431322405:training-job/pca-2022-05-02-19-58-18-756', 'AWS_CONTAINER_CREDENTIALS_RELATIVE_URI': '/v2/credentials/proxy-fd9ac29a72348b3f7ea843d42aec0864eeec0bf3a9eb057c8f06119c3923661d-customer', 'CANONICAL_ENVROOT': '/opt/amazon', 'PYTHONUNBUFFERED': 'TRUE', 'NVIDIA_VISIBLE_DEVICES': 'all', 'LD_LIBRARY_PATH': '/opt/amazon/lib/python3.7/site-packages/cv2/../../../../lib:/usr/local/nvidia/lib64:/opt/amazon/lib', 'NVIDIA_DRIVER_CAPABILITIES': 'compute,utility', 'PATH': '/opt/amazon/bin:/usr/local/nvidia/bin:/usr/local/sbin:/usr/local/bin:/usr/sbin:/usr/bin:/sbin:/bin', 'PWD': '/', 'LANG': 'en_US.utf8', 'AWS_REGION': 'us-east-1', 'HOME': '/root', 'SHLVL': '1', 'PROTOCOL_BUFFERS_PYTHON_IMPLEMENTATION_VERSION': '2', 'OMP_NUM_THREADS': '2', 'DMLC_INTERFACE': 'eth0', 'SAGEMAKER_HTTP_PORT': '8080', 'SAGEMAKER_DATA_PATH': '/opt/ml', 'DMLC_ROLE': 'worker', 'DMLC_PS_ROOT_URI': '10.2.94.58', 'DMLC_PS_ROOT_PORT': '9000', 'DMLC_NUM_SERVER': '1', 'DMLC_NUM_WORKER': '1'}\u001b[0m\n",
      "\u001b[34mProcess 35 is a shell:scheduler.\u001b[0m\n",
      "\u001b[34mProcess 44 is a shell:server.\u001b[0m\n",
      "\u001b[34mProcess 1 is a worker.\u001b[0m\n",
      "\u001b[34m[05/02/2022 20:01:33 INFO 139922473154368] Using default worker.\u001b[0m\n",
      "\u001b[34m[05/02/2022 20:01:33 INFO 139922473154368] Loaded iterator creator application/x-labeled-vector-protobuf for content type ('application/x-labeled-vector-protobuf', '1.0')\u001b[0m\n",
      "\u001b[34m[05/02/2022 20:01:33 INFO 139922473154368] Loaded iterator creator application/x-recordio-protobuf for content type ('application/x-recordio-protobuf', '1.0')\u001b[0m\n",
      "\u001b[34m[05/02/2022 20:01:33 INFO 139922473154368] Loaded iterator creator protobuf for content type ('protobuf', '1.0')\u001b[0m\n",
      "\u001b[34m[05/02/2022 20:01:33 INFO 139922473154368] Checkpoint loading and saving are disabled.\u001b[0m\n",
      "\u001b[34m[05/02/2022 20:01:33 INFO 139922473154368] Create Store: dist_sync\u001b[0m\n",
      "\u001b[34m[05/02/2022 20:01:34 INFO 139922473154368] nvidia-smi: took 0.031 seconds to run.\u001b[0m\n",
      "\u001b[34m[05/02/2022 20:01:34 INFO 139922473154368] nvidia-smi identified 0 GPUs.\u001b[0m\n",
      "\u001b[34m[05/02/2022 20:01:34 INFO 139922473154368] Number of GPUs being used: 0\u001b[0m\n",
      "\u001b[34m[05/02/2022 20:01:34 INFO 139922473154368] The default executor is <PCAExecutor on cpu(0)>.\u001b[0m\n",
      "\u001b[34m[05/02/2022 20:01:34 INFO 139922473154368] 326 feature(s) found in 'data'.\u001b[0m\n",
      "\u001b[34m[05/02/2022 20:01:34 INFO 139922473154368] <PCAExecutor on cpu(0)> is assigned to batch slice from 0 to 499.\u001b[0m\n",
      "\u001b[34m#metrics {\"StartTime\": 1651521693.4706326, \"EndTime\": 1651521694.3743422, \"Dimensions\": {\"Algorithm\": \"PCA\", \"Host\": \"algo-1\", \"Operation\": \"training\"}, \"Metrics\": {\"initialize.time\": {\"sum\": 870.0041770935059, \"count\": 1, \"min\": 870.0041770935059, \"max\": 870.0041770935059}}}\u001b[0m\n",
      "\u001b[34m#metrics {\"StartTime\": 1651521694.374606, \"EndTime\": 1651521694.3746564, \"Dimensions\": {\"Algorithm\": \"PCA\", \"Host\": \"algo-1\", \"Operation\": \"training\", \"Meta\": \"init_train_data_iter\"}, \"Metrics\": {\"Total Records Seen\": {\"sum\": 0.0, \"count\": 1, \"min\": 0, \"max\": 0}, \"Total Batches Seen\": {\"sum\": 0.0, \"count\": 1, \"min\": 0, \"max\": 0}, \"Max Records Seen Between Resets\": {\"sum\": 0.0, \"count\": 1, \"min\": 0, \"max\": 0}, \"Max Batches Seen Between Resets\": {\"sum\": 0.0, \"count\": 1, \"min\": 0, \"max\": 0}, \"Reset Count\": {\"sum\": 0.0, \"count\": 1, \"min\": 0, \"max\": 0}, \"Number of Records Since Last Reset\": {\"sum\": 0.0, \"count\": 1, \"min\": 0, \"max\": 0}, \"Number of Batches Since Last Reset\": {\"sum\": 0.0, \"count\": 1, \"min\": 0, \"max\": 0}}}\u001b[0m\n",
      "\u001b[34m[2022-05-02 20:01:34.376] [tensorio] [info] epoch_stats={\"data_pipeline\": \"/opt/ml/input/data/train\", \"epoch\": 0, \"duration\": 904, \"num_examples\": 1, \"num_bytes\": 666000}\u001b[0m\n",
      "\u001b[34m[2022-05-02 20:01:34.516] [tensorio] [info] epoch_stats={\"data_pipeline\": \"/opt/ml/input/data/train\", \"epoch\": 1, \"duration\": 129, \"num_examples\": 28, \"num_bytes\": 18504144}\u001b[0m\n",
      "\u001b[34m#metrics {\"StartTime\": 1651521694.374539, \"EndTime\": 1651521694.516383, \"Dimensions\": {\"Algorithm\": \"PCA\", \"Host\": \"algo-1\", \"Operation\": \"training\"}, \"Metrics\": {\"epochs\": {\"sum\": 1.0, \"count\": 1, \"min\": 1, \"max\": 1}, \"update.time\": {\"sum\": 140.13934135437012, \"count\": 1, \"min\": 140.13934135437012, \"max\": 140.13934135437012}}}\u001b[0m\n",
      "\u001b[34m[05/02/2022 20:01:34 INFO 139922473154368] #progress_metric: host=algo-1, completed 100.0 % of epochs\u001b[0m\n",
      "\u001b[34m#metrics {\"StartTime\": 1651521694.3762074, \"EndTime\": 1651521694.516767, \"Dimensions\": {\"Algorithm\": \"PCA\", \"Host\": \"algo-1\", \"Operation\": \"training\", \"epoch\": 0, \"Meta\": \"training_data_iter\"}, \"Metrics\": {\"Total Records Seen\": {\"sum\": 13892.0, \"count\": 1, \"min\": 13892, \"max\": 13892}, \"Total Batches Seen\": {\"sum\": 28.0, \"count\": 1, \"min\": 28, \"max\": 28}, \"Max Records Seen Between Resets\": {\"sum\": 13892.0, \"count\": 1, \"min\": 13892, \"max\": 13892}, \"Max Batches Seen Between Resets\": {\"sum\": 28.0, \"count\": 1, \"min\": 28, \"max\": 28}, \"Reset Count\": {\"sum\": 1.0, \"count\": 1, \"min\": 1, \"max\": 1}, \"Number of Records Since Last Reset\": {\"sum\": 13892.0, \"count\": 1, \"min\": 13892, \"max\": 13892}, \"Number of Batches Since Last Reset\": {\"sum\": 28.0, \"count\": 1, \"min\": 28, \"max\": 28}}}\u001b[0m\n",
      "\u001b[34m[05/02/2022 20:01:34 INFO 139922473154368] #throughput_metric: host=algo-1, train throughput=98739.84495745701 records/second\u001b[0m\n",
      "\u001b[34m#metrics {\"StartTime\": 1651521694.5164666, \"EndTime\": 1651521694.5717428, \"Dimensions\": {\"Algorithm\": \"PCA\", \"Host\": \"algo-1\", \"Operation\": \"training\"}, \"Metrics\": {\"finalize.time\": {\"sum\": 54.53228950500488, \"count\": 1, \"min\": 54.53228950500488, \"max\": 54.53228950500488}}}\u001b[0m\n",
      "\u001b[34m[05/02/2022 20:01:34 INFO 139922473154368] Test data is not provided.\u001b[0m\n",
      "\u001b[34m#metrics {\"StartTime\": 1651521694.571834, \"EndTime\": 1651521694.5723038, \"Dimensions\": {\"Algorithm\": \"PCA\", \"Host\": \"algo-1\", \"Operation\": \"training\"}, \"Metrics\": {\"setuptime\": {\"sum\": 26.117563247680664, \"count\": 1, \"min\": 26.117563247680664, \"max\": 26.117563247680664}, \"totaltime\": {\"sum\": 1295.3550815582275, \"count\": 1, \"min\": 1295.3550815582275, \"max\": 1295.3550815582275}}}\u001b[0m\n",
      "\u001b[34m[05/02/2022 20:01:34 INFO 139922473154368 integration.py:636] worker closed\u001b[0m\n",
      "\n",
      "2022-05-02 20:01:48 Uploading - Uploading generated training model\n",
      "2022-05-02 20:01:48 Completed - Training job completed\n",
      "Training seconds: 98\n",
      "Billable seconds: 98\n",
      "CPU times: user 559 ms, sys: 31.6 ms, total: 591 ms\n",
      "Wall time: 3min 43s\n"
     ]
    }
   ],
   "source": [
    "%%time\n",
    "# train the PCA mode on the formatted data\n",
    "# can take up to 9 min\n",
    "pca_SM.fit(formatted_train_data)\n"
   ]
  },
  {
   "cell_type": "markdown",
   "metadata": {},
   "source": [
    "---\n",
    "## Accessing the PCA Model Attributes\n",
    "\n",
    "After the model is trained, we can access the underlying model parameters.\n",
    "\n",
    "### Unzip the Model Details\n",
    "\n",
    "Now that the training job is complete, you can find the job under **Jobs** in the **Training**  subsection  in the Amazon SageMaker console. You can find the job name listed in the training jobs. Use that job name in the following code to specify which model to examine.\n",
    "\n",
    "Model artifacts are stored in S3 as a TAR file; a compressed file in the output path we specified + 'output/model.tar.gz'. The artifacts stored here can be used to deploy a trained model."
   ]
  },
  {
   "cell_type": "code",
   "execution_count": 35,
   "metadata": {},
   "outputs": [
    {
     "name": "stdout",
     "output_type": "stream",
     "text": [
      "caa-customers-seg/pca-2022-05-02-19-58-18-756/output/model.tar.gz\n"
     ]
    },
    {
     "data": {
      "text/plain": [
       "2304"
      ]
     },
     "execution_count": 35,
     "metadata": {},
     "output_type": "execute_result"
    }
   ],
   "source": [
    "# Get the name of the training job, you need to copy-paste\n",
    "\n",
    "# from time import gmtime, strftime\n",
    "# output_time = strftime(\"%Y-%m-%d-%H-%M-%S\", gmtime())\n",
    "\n",
    "# output_folder = 'kmeans-' + output_time\n",
    "\n",
    "# Note: copy training_job from SageMaker console - Training - Training Job or else you'll get an error\n",
    "# Need to fix this later\n",
    "training_job_name = pca_SM.latest_training_job.job_name\n",
    "\n",
    "# where the model is saved, by default\n",
    "model_key = os.path.join(model_prefix, training_job_name, 'output/model.tar.gz')\n",
    "print(model_key)\n",
    "\n",
    "# download and unzip model\n",
    "boto3.resource('s3').Bucket(bucket_name).download_file(model_key, 'model.tar.gz')\n",
    "\n",
    "# unzipping as model_algo-1\n",
    "os.system('tar -zxvf model.tar.gz')\n",
    "os.system('unzip model_algo-1')"
   ]
  },
  {
   "cell_type": "markdown",
   "metadata": {},
   "source": [
    "### MXNet Array\n",
    "\n",
    "Many of the Amazon SageMaker algorithms use MXNet for computational speed, including PCA, and so the model artifacts are stored as an array. After the model is unzipped and decompressed, we can load the array using MXNet.\n",
    "\n",
    "You can take a look at the MXNet [documentation, here](https://aws.amazon.com/mxnet/)."
   ]
  },
  {
   "cell_type": "code",
   "execution_count": 37,
   "metadata": {},
   "outputs": [
    {
     "name": "stdout",
     "output_type": "stream",
     "text": [
      "{'s': \n",
      "[16.124136 16.52358  17.655766 18.12279  18.286295 18.422806 20.461885\n",
      " 21.336954 22.123997 24.487906 25.773563 26.307755 26.591352 27.917677\n",
      " 28.269022 29.22206  29.651596 29.994473 30.707602 31.254147 31.776722\n",
      " 33.059696 34.747944 37.238895 39.369156 40.024483 42.101868 44.302334\n",
      " 44.904686 48.28287  50.80143  52.204845 55.225758 56.48065  58.990906\n",
      " 63.20496  65.80269  67.01726  84.50199  90.279785]\n",
      "<NDArray 40 @cpu(0)>, 'v': \n",
      "[[-0.00031207 -0.00568408  0.00152706 ...  0.18228847 -0.00111665\n",
      "   0.00509285]\n",
      " [-0.00618004 -0.05020567  0.01372331 ...  0.03060548 -0.00195808\n",
      "   0.00072446]\n",
      " [-0.02844065  0.00374719  0.04218556 ... -0.0130204   0.09644474\n",
      "  -0.03190135]\n",
      " ...\n",
      " [-0.01915166  0.03283451  0.00301005 ... -0.01799604  0.00223555\n",
      "  -0.00050097]\n",
      " [ 0.03682139  0.10483966 -0.04209843 ... -0.03685244 -0.00337039\n",
      "  -0.00116878]\n",
      " [ 0.05418318  0.01238547  0.02960724 ... -0.0220144  -0.00246071\n",
      "  -0.00119931]]\n",
      "<NDArray 326x40 @cpu(0)>, 'mean': \n",
      "[[5.00000000e-01 2.35513240e-01 2.32212231e-01 5.19916415e-01\n",
      "  6.06104247e-02 3.98574710e-01 0.00000000e+00 0.00000000e+00\n",
      "  0.00000000e+00 9.20601785e-01 1.51166134e-03 1.43967758e-04\n",
      "  1.07975816e-03 2.15951633e-02 0.00000000e+00 5.75871032e-04\n",
      "  0.00000000e+00 3.34005170e-02 9.41549122e-01 2.15951630e-04\n",
      "  9.35790362e-04 5.03887131e-04 1.43967758e-04 1.15174206e-03\n",
      "  0.00000000e+00 2.87935510e-03 1.87158072e-03 0.00000000e+00\n",
      "  0.00000000e+00 7.19838790e-05 5.68672596e-03 1.22372585e-03\n",
      "  9.35790362e-04 8.63806519e-04 7.19838790e-05 9.35790362e-04\n",
      "  2.15951633e-03 1.07975816e-03 5.75871032e-04 1.51166134e-03\n",
      "  5.03887131e-04 7.91822618e-04 7.91822618e-04 7.19838790e-05\n",
      "  5.03887131e-04 0.00000000e+00 8.63806519e-04 1.22372585e-03\n",
      "  6.47854875e-04 2.73538730e-03 9.35790362e-04 2.44745170e-03\n",
      "  1.22372585e-03 1.00777426e-03 3.59919388e-04 0.00000000e+00\n",
      "  5.75871032e-04 7.19838790e-05 4.31903260e-04 6.47854875e-04\n",
      "  2.59141950e-03 0.00000000e+00 1.43967758e-04 1.07975816e-03\n",
      "  4.31903260e-04 4.31903260e-04 1.43967758e-04 7.91822618e-04\n",
      "  7.91822618e-04 6.47854875e-04 1.58364524e-03 7.19838776e-04\n",
      "  9.35790362e-04 1.58364524e-03 2.37546791e-03 1.36769365e-03\n",
      "  1.65562914e-03 2.15951630e-04 4.31903260e-04 5.03887131e-04\n",
      "  3.59919388e-04 1.43967758e-04 1.43967758e-04 2.95133889e-03\n",
      "  0.00000000e+00 5.03887131e-04 7.91822618e-04 6.47854875e-04\n",
      "  5.75871032e-04 7.19838790e-05 3.59919388e-04 7.19838790e-05\n",
      "  3.74316145e-03 7.19838790e-05 0.00000000e+00 0.00000000e+00\n",
      "  1.58364524e-03 7.19838790e-05 4.67895204e-03 2.15951630e-04\n",
      "  5.03887131e-04 5.75871032e-04 5.75871032e-04 9.35790362e-04\n",
      "  8.63806519e-04 2.15951630e-04 1.43967758e-04 5.03887131e-04\n",
      "  4.31903260e-04 1.87158072e-03 7.19838790e-05 2.37546791e-03\n",
      "  7.19838790e-05 1.15174206e-03 7.91822618e-04 2.15951630e-04\n",
      "  4.31903260e-04 2.87935516e-04 7.91822618e-04 3.59919388e-04\n",
      "  1.43967758e-04 7.19838790e-05 1.94356462e-03 3.45522608e-03\n",
      "  4.31903260e-04 2.66340328e-03 2.15951630e-04 2.15951630e-04\n",
      "  1.07975816e-03 3.02332267e-03 7.19838790e-05 1.07975816e-03\n",
      "  2.73538730e-03 1.51166134e-03 1.87158072e-03 2.87935516e-04\n",
      "  1.07975816e-03 3.59919388e-04 3.09530669e-03 1.58364524e-03\n",
      "  0.00000000e+00 9.35790362e-04 6.47854875e-04 4.31903260e-04\n",
      "  5.75871032e-04 5.03887131e-04 1.43967758e-04 3.59919388e-04\n",
      "  7.91822618e-04 1.04376618e-02 1.29570975e-03 7.19838790e-05\n",
      "  2.87935510e-03 1.00777426e-03 1.00777426e-03 1.29570975e-03\n",
      "  2.15951630e-04 2.15951630e-04 3.74316145e-03 5.75871032e-04\n",
      "  3.59919388e-04 2.87935516e-04 2.15951630e-04 4.31903260e-04\n",
      "  7.19838776e-04 5.97466156e-03 6.47854875e-04 2.87935516e-04\n",
      "  7.48632289e-03 9.35790362e-04 4.31903260e-04 0.00000000e+00\n",
      "  1.00777426e-03 3.59919388e-04 2.15951630e-04 3.59919388e-04\n",
      "  7.19838790e-05 4.31903260e-04 1.07975816e-03 1.00777426e-03\n",
      "  4.03829552e-02 4.31903260e-04 5.03887131e-04 2.15951630e-04\n",
      "  7.91822618e-04 5.03887131e-04 4.39101644e-03 4.31903260e-04\n",
      "  1.22372585e-03 1.95796136e-02 3.59919388e-04 1.43967758e-04\n",
      "  1.15174206e-03 0.00000000e+00 2.15951630e-04 9.35790362e-04\n",
      "  7.91822618e-04 0.00000000e+00 4.31903260e-04 1.15174206e-03\n",
      "  5.75871032e-04 4.31903260e-04 7.91822618e-04 7.19838790e-05\n",
      "  1.00777426e-03 1.36769365e-03 1.36769365e-03 4.30463590e-02\n",
      "  7.19838776e-04 1.07975816e-03 3.59919388e-04 1.43967758e-04\n",
      "  7.19838790e-05 1.36769365e-03 1.00777426e-03 2.31428161e-01\n",
      "  1.94356462e-03 7.19838790e-05 7.19838790e-05 1.43967758e-04\n",
      "  2.87935516e-04 2.23150011e-03 1.36769365e-03 1.43967758e-04\n",
      "  1.43967758e-04 2.14583933e-01 1.43967758e-04 2.95133889e-03\n",
      "  3.59919388e-04 3.16729047e-03 8.63806519e-04 7.19838790e-05\n",
      "  7.19838776e-04 2.87935516e-04 1.94356462e-03 5.75871032e-04\n",
      "  2.87935516e-04 1.43967758e-04 5.03887131e-04 1.00777426e-03\n",
      "  5.75871032e-04 6.47854875e-04 0.00000000e+00 1.43967755e-03\n",
      "  1.51166134e-03 1.15174206e-03 1.43967758e-04 0.00000000e+00\n",
      "  2.15951630e-04 0.00000000e+00 1.79959694e-03 2.15951633e-03\n",
      "  3.59919388e-04 5.03887131e-04 3.59919388e-04 1.36769365e-03\n",
      "  1.07975816e-03 2.15951630e-04 6.47854875e-04 3.59919388e-04\n",
      "  2.15951630e-04 3.59919388e-04 2.30348413e-03 1.22372585e-03\n",
      "  2.15951630e-04 7.19838790e-05 3.59919388e-04 3.59919388e-04\n",
      "  7.19838790e-05 5.75871032e-04 1.87158072e-03 1.58364524e-03\n",
      "  1.00777426e-03 7.19838790e-05 2.15951633e-02 1.26691619e-02\n",
      "  3.26086953e-02 2.68355876e-01 5.39159216e-02 3.34005170e-02\n",
      "  8.88281018e-02 7.13360235e-02 4.89490367e-02 8.45090672e-02\n",
      "  1.02217104e-02 8.19176510e-02 1.31010655e-02 2.31788084e-02\n",
      "  1.56636909e-01 1.16325945e-01 3.08090985e-01 1.63403392e-01\n",
      "  1.81399360e-01 5.03887143e-03 1.17981575e-01 4.26864401e-02\n",
      "  1.79167867e-01 3.31557721e-01 2.85200119e-01 1.04448602e-01\n",
      "  8.45090672e-02 7.05441972e-03 0.00000000e+00 4.60576355e-01\n",
      "  8.91714171e-02 1.05185062e-01 8.16598654e-01 5.14737070e-01\n",
      "  7.16277659e-01 4.65925395e-01 0.00000000e+00 1.22660525e-01\n",
      "  5.48517145e-02 1.74416929e-01 2.16311544e-01 2.21854299e-01\n",
      "  1.77368268e-01 9.44428444e-02 4.36942130e-02 6.93924546e-01\n",
      "  1.75208747e-01 1.00777429e-02 4.89490340e-03 1.01497266e-02\n",
      "  1.95076298e-02 1.10855168e-02]]\n",
      "<NDArray 1x326 @cpu(0)>}\n"
     ]
    }
   ],
   "source": [
    "import mxnet as mx\n",
    "\n",
    "# loading the unzipped artifacts\n",
    "pca_model_params = mx.ndarray.load('model_algo-1')\n",
    "\n",
    "# what are the params\n",
    "print(pca_model_params)"
   ]
  },
  {
   "cell_type": "markdown",
   "metadata": {},
   "source": [
    "---\n",
    "## PCA Model Attributes\n",
    "\n",
    "Three types of model attributes are contained within the PCA model.\n",
    "\n",
    "* **mean**: The mean that was subtracted from a component in order to center it.\n",
    "* **v**: The makeup of the principal components; (same as ‘components_’ in an sklearn PCA model).\n",
    "* **s**: The singular values of the components for the PCA transformation. This does not exactly give the % variance from the original feature space, but can give the % variance from the projected feature space.\n",
    "    \n",
    "We are only interested in v and s. \n",
    "\n",
    "From s, we can get an approximation of the data variance that is covered in the first `n` principal components. The approximate explained variance is given by the formula: the sum of squared s values for all top n components over the sum over squared s values for _all_ components:\n",
    "\n",
    "\\begin{equation*}\n",
    "\\frac{\\sum_{n}^{ } s_n^2}{\\sum s^2}\n",
    "\\end{equation*}\n",
    "\n",
    "From v, we can learn more about the combinations of original features that make up each principal component.\n"
   ]
  },
  {
   "cell_type": "code",
   "execution_count": 38,
   "metadata": {},
   "outputs": [],
   "source": [
    "import pandas as pd\n",
    "# get selected params\n",
    "s=pd.DataFrame(pca_model_params['s'].asnumpy())\n",
    "v=pd.DataFrame(pca_model_params['v'].asnumpy())"
   ]
  },
  {
   "cell_type": "markdown",
   "metadata": {},
   "source": [
    "## Data Variance\n",
    "\n",
    "Our current PCA model creates 40 principal components, but when we create new dimensionality-reduced training data, we'll only select a few, top n components to use. To decide how many top components to include, it's helpful to look at how much **data variance** the components capture. For our original, high-dimensional data, 48 features captured 95%+ of our data variance. If we discard some of these higher dimensions, we will lower the amount of variance we can capture.\n",
    "\n",
    "### Tradeoff: dimensionality vs. data variance\n",
    "\n",
    "As an illustrative example, say we have original data in three dimensions. So, three dimensions capture 100% of our data variance; these dimensions cover the entire spread of our data. The below images are taken from the PhD thesis,  [“Approaches to analyse and interpret biological profile data”](https://publishup.uni-potsdam.de/opus4-ubp/frontdoor/index/index/docId/696) by Matthias Scholz, (2006, University of Potsdam, Germany).\n",
    "\n",
    "<img src='nbimg/pca-image-1.png' width=35% />\n",
    "\n",
    "Now, you may also note that most of this data seems related; it falls close to a 2D plane, and just by looking at the spread of the data, we  can visualize that the original, three dimensions have some correlation. So, we can instead choose to create two new dimensions, made up of linear combinations of the original, three dimensions. These dimensions are represented by the two axes/lines, centered in the data. \n",
    "\n",
    "<img src='nbimg/pca-image-2.png' width=70% />\n",
    "\n",
    "If we project this in a new, 2D space, we can see that we still capture most of the original data variance using *just* two dimensions. There is a tradeoff between the amount of variance we can capture and the number of component-dimensions we use to represent our data.\n",
    "\n",
    "When we select the top n components to use in a new data model, we'll typically want to include enough components to capture about 80-90% of the original data variance. In this project, we are looking at generalizing over a lot of data and we'll aim for about 80% coverage."
   ]
  },
  {
   "cell_type": "markdown",
   "metadata": {},
   "source": [
    "**Note**: The _top_ principal components, with the largest s values, are actually at the end of the s DataFrame. Let's print out the s values for the top n, principal components."
   ]
  },
  {
   "cell_type": "code",
   "execution_count": 39,
   "metadata": {},
   "outputs": [
    {
     "name": "stdout",
     "output_type": "stream",
     "text": [
      "            0\n",
      "35  63.204960\n",
      "36  65.802689\n",
      "37  67.017258\n",
      "38  84.501991\n",
      "39  90.279785\n"
     ]
    }
   ],
   "source": [
    "# Need to try - looking at top 5 components\n",
    "n_principal_components = 5\n",
    "\n",
    "start_idx = N_COMPONENTS - n_principal_components  # 40-n\n",
    "\n",
    "# print a selection of s\n",
    "print(s.iloc[start_idx:, :])"
   ]
  },
  {
   "cell_type": "markdown",
   "metadata": {},
   "source": [
    "### Now let's  Calculate the explained variance\n",
    "\n",
    "In creating new training data, you'll want to choose the top n principal components that account for at least 80% data variance. \n",
    "\n",
    "Complete a function, `explained_variance` that takes in the entire array `s` and a number of top principal components to consider. Then return the approximate, explained variance for those top n components. \n",
    "\n",
    "For example, to calculate the explained variance for the top 5 components, calculate s squared for *each* of the top 5 components, add those up and normalize by the sum of *all* squared s values, according to this formula:\n",
    "\n",
    "\\begin{equation*}\n",
    "\\frac{\\sum_{5}^{ } s_n^2}{\\sum s^2}\n",
    "\\end{equation*}\n",
    "\n",
    "> Using this function, you should be able to answer the **question**: What is the smallest number of principal components that captures at least 80% of the total variance in the dataset?"
   ]
  },
  {
   "cell_type": "code",
   "execution_count": 40,
   "metadata": {},
   "outputs": [],
   "source": [
    "# Calculate the explained variance for the top n principal components\n",
    "# you may assume you have access to the global var N_COMPONENTS\n",
    "def explained_variance(s, n_top_components):\n",
    "    '''Calculates the approx. data variance that n_top_components captures.\n",
    "       :param s: A dataframe of singular values for top components; \n",
    "           the top value is in the last row.\n",
    "       :param n_top_components: An integer, the number of top components to use.\n",
    "       :return: The expected data variance covered by the n_top_components.'''\n",
    "    \n",
    "    # your code here\n",
    "    \n",
    "    start_idx = len(s) - n_top_components  # 40-n\n",
    "\n",
    "    # print a selection of s\n",
    "    s_sq_topn_sum = np.sum(np.square(s.iloc[start_idx:, :].values))\n",
    "    s_sq_sum = s_sq_topn_sum + np.sum(np.square(s.iloc[:start_idx, :].values))\n",
    "    return s_sq_topn_sum / s_sq_sum\n"
   ]
  },
  {
   "cell_type": "markdown",
   "metadata": {},
   "source": [
    "### Test Cell\n",
    "\n",
    "Test out your own code by seeing how it responds to different inputs; does it return a reasonable value for the single, top component? What about for the top 5 components?"
   ]
  },
  {
   "cell_type": "code",
   "execution_count": 41,
   "metadata": {},
   "outputs": [
    {
     "name": "stdout",
     "output_type": "stream",
     "text": [
      "Explained variance:  0.39548874\n"
     ]
    }
   ],
   "source": [
    "import numpy as np\n",
    "# test cell - 5\n",
    "n_top_components = 5 # select a value for the number of top components\n",
    "\n",
    "# calculate the explained variance\n",
    "exp_variance = explained_variance(s, n_top_components)\n",
    "print('Explained variance: ', exp_variance)"
   ]
  },
  {
   "cell_type": "markdown",
   "metadata": {},
   "source": [
    "As an example, you should see that the top 5 principal components accounts for about 40% of our data variance! Next, you may be wondering what makes up this (and other components); what linear combination of features make these components so influential in describing the spread of our data?\n",
    "\n",
    "Below, let's take a look at our original features and use that as a reference."
   ]
  },
  {
   "cell_type": "code",
   "execution_count": 42,
   "metadata": {},
   "outputs": [],
   "source": [
    "# features\n",
    "#features_list = customer_scaled.columns.values\n",
    "#print('Features: \\n', features_list)"
   ]
  },
  {
   "cell_type": "markdown",
   "metadata": {},
   "source": [
    "## Component Makeup\n",
    "\n",
    "We can now examine the makeup of each PCA component based on **the weightings of the original features that are included in the component**. The following code shows the feature-level makeup of the first component.\n",
    "\n",
    "Note that the components are again ordered from smallest to largest and so I am getting the correct rows by calling N_COMPONENTS-1 to get the top, 1, component."
   ]
  },
  {
   "cell_type": "code",
   "execution_count": 43,
   "metadata": {},
   "outputs": [
    {
     "name": "stdout",
     "output_type": "stream",
     "text": [
      "Requirement already satisfied: seaborn in /usr/local/lib/python3.7/site-packages (0.11.2)\n",
      "Requirement already satisfied: pandas>=0.23 in /usr/local/lib/python3.7/site-packages (from seaborn) (1.3.4)\n",
      "Requirement already satisfied: numpy>=1.15 in /usr/local/lib/python3.7/site-packages (from seaborn) (1.19.1)\n",
      "Requirement already satisfied: matplotlib>=2.2 in /usr/local/lib/python3.7/site-packages (from seaborn) (3.5.0)\n",
      "Requirement already satisfied: scipy>=1.0 in /usr/local/lib/python3.7/site-packages (from seaborn) (1.4.1)\n",
      "Requirement already satisfied: setuptools-scm>=4 in /usr/local/lib/python3.7/site-packages (from matplotlib>=2.2->seaborn) (6.3.2)\n",
      "Requirement already satisfied: fonttools>=4.22.0 in /usr/local/lib/python3.7/site-packages (from matplotlib>=2.2->seaborn) (4.28.2)\n",
      "Requirement already satisfied: packaging>=20.0 in /usr/local/lib/python3.7/site-packages (from matplotlib>=2.2->seaborn) (21.3)\n",
      "Requirement already satisfied: pillow>=6.2.0 in /usr/local/lib/python3.7/site-packages (from matplotlib>=2.2->seaborn) (8.4.0)\n",
      "Requirement already satisfied: python-dateutil>=2.7 in /usr/local/lib/python3.7/site-packages (from matplotlib>=2.2->seaborn) (2.8.2)\n",
      "Requirement already satisfied: cycler>=0.10 in /usr/local/lib/python3.7/site-packages (from matplotlib>=2.2->seaborn) (0.11.0)\n",
      "Requirement already satisfied: kiwisolver>=1.0.1 in /usr/local/lib/python3.7/site-packages (from matplotlib>=2.2->seaborn) (1.3.2)\n",
      "Requirement already satisfied: pyparsing>=2.2.1 in /usr/local/lib/python3.7/site-packages (from matplotlib>=2.2->seaborn) (3.0.6)\n",
      "Requirement already satisfied: pytz>=2017.3 in /usr/local/lib/python3.7/site-packages (from pandas>=0.23->seaborn) (2021.3)\n",
      "Requirement already satisfied: six>=1.5 in /usr/local/lib/python3.7/site-packages (from python-dateutil>=2.7->matplotlib>=2.2->seaborn) (1.16.0)\n",
      "Requirement already satisfied: tomli>=1.0.0 in /usr/local/lib/python3.7/site-packages (from setuptools-scm>=4->matplotlib>=2.2->seaborn) (1.2.2)\n",
      "Requirement already satisfied: setuptools in /usr/local/lib/python3.7/site-packages (from setuptools-scm>=4->matplotlib>=2.2->seaborn) (59.4.0)\n",
      "\u001b[33mWARNING: Running pip as the 'root' user can result in broken permissions and conflicting behaviour with the system package manager. It is recommended to use a virtual environment instead: https://pip.pypa.io/warnings/venv\u001b[0m\n",
      "\u001b[33mWARNING: You are using pip version 21.3.1; however, version 22.0.4 is available.\n",
      "You should consider upgrading via the '/usr/local/bin/python3.7 -m pip install --upgrade pip' command.\u001b[0m\n"
     ]
    }
   ],
   "source": [
    "!pip install seaborn"
   ]
  },
  {
   "cell_type": "code",
   "execution_count": 44,
   "metadata": {},
   "outputs": [],
   "source": [
    "import seaborn as sns\n",
    "\n",
    "def display_component(v, features_list, component_num, n_weights=10):\n",
    "    \n",
    "    ## Function displays component make up of features based on number of features selected by n_weights \n",
    "    \n",
    "#     print(v)\n",
    "    \n",
    "    # get index of component (last row - component_num)\n",
    "    row_idx = N_COMPONENTS-component_num\n",
    "\n",
    "    # get the list of weights from a row in v, dataframe\n",
    "    v_1_row = v.iloc[:, row_idx]\n",
    "    \n",
    "    v_1 = np.squeeze(v_1_row.values)\n",
    "    \n",
    "    # match weights to features in customer_scaled dataframe, using list comprehension\n",
    "    comps = pd.DataFrame(list(zip(v_1, features_list)), \n",
    "                         columns=['weights', 'features'])\n",
    "\n",
    "    # we'll want to sort by the largest n_weights\n",
    "    # weights can be neg/pos and we'll sort by magnitude\n",
    "    comps['abs_weights']=comps['weights'].apply(lambda x: np.abs(x))\n",
    "    sorted_weight_data = comps.sort_values('abs_weights', ascending=False).head(n_weights)\n",
    "\n",
    "    # display using seaborn\n",
    "    ax=plt.subplots(figsize=(10,6))\n",
    "    ax=sns.barplot(data=sorted_weight_data, \n",
    "                   x=\"weights\", \n",
    "                   y=\"features\", \n",
    "                   palette=\"Blues_d\")\n",
    "    ax.set_title(\"PCA Component Makeup, Component #\" + str(component_num))\n",
    "    plt.show()\n"
   ]
  },
  {
   "cell_type": "code",
   "execution_count": 45,
   "metadata": {},
   "outputs": [
    {
     "data": {
      "image/png": "[encoded data removed]",
      "text/plain": [
       "<Figure size 720x432 with 1 Axes>"
      ]
     },
     "metadata": {
      "needs_background": "light"
     },
     "output_type": "display_data"
    }
   ],
   "source": [
    "# display makeup of second component\n",
    "num=2\n",
    "display_component(v, customer_scaled.columns.values, component_num=num, n_weights=12) # nweights=12 shows 12 features below"
   ]
  },
  {
   "cell_type": "markdown",
   "metadata": {},
   "source": [
    "---\n",
    "# Deploying the PCA Model\n",
    "\n",
    "We can now deploy this model and use it to make \"predictions\". Instead of seeing what happens with some test data, we'll actually want to pass our training data into the deployed endpoint to create principal components for each data point. \n",
    "\n",
    "Run the cell below to deploy/host this model on an instance_type that we specify."
   ]
  },
  {
   "cell_type": "code",
   "execution_count": 46,
   "metadata": {},
   "outputs": [
    {
     "name": "stdout",
     "output_type": "stream",
     "text": [
      "\n",
      "2022-05-02 20:03:13 Starting - Preparing the instances for training\n",
      "2022-05-02 20:03:13 Downloading - Downloading input data\n",
      "2022-05-02 20:03:13 Training - Training image download completed. Training in progress.\n",
      "2022-05-02 20:03:13 Uploading - Uploading generated training model\n",
      "2022-05-02 20:03:13 Completed - Training job completed\n"
     ]
    }
   ],
   "source": [
    "pca_SM=sagemaker.estimator.Estimator.attach(training_job_name=pca_SM.latest_training_job.name, sagemaker_session=None)"
   ]
  },
  {
   "cell_type": "code",
   "execution_count": 47,
   "metadata": {},
   "outputs": [
    {
     "name": "stdout",
     "output_type": "stream",
     "text": [
      "---------!CPU times: user 150 ms, sys: 22.5 ms, total: 172 ms\n",
      "Wall time: 4min 32s\n"
     ]
    }
   ],
   "source": [
    "%%time\n",
    "# this takes a little while, around 7mins\n",
    "pca_predictor = pca_SM.deploy(initial_instance_count=2, \n",
    "                              instance_type='ml.c4.4xlarge')"
   ]
  },
  {
   "cell_type": "markdown",
   "metadata": {},
   "source": [
    "We can pass the original, numpy dataset to the model and transform the data using the model we created. Then we can take the largest n components to reduce the dimensionality of our data."
   ]
  },
  {
   "cell_type": "code",
   "execution_count": 48,
   "metadata": {},
   "outputs": [],
   "source": [
    "pca_predictor=sagemaker.PCAPredictor(endpoint_name=pca_predictor.endpoint_name)"
   ]
  },
  {
   "cell_type": "code",
   "execution_count": 49,
   "metadata": {},
   "outputs": [],
   "source": [
    "# from sagemaker.serializers import NumpySerializer\n",
    "# from sagemaker.deserializers import NumpyDeserializer\n",
    "# pca_predictor.serializer = NumpySerializer()\n",
    "# pca_predictor.deserializer = NumpyDeserializer()\n",
    "\n",
    "reduced_train_data_2 = customer_scaled.sample(frac=0.2)\n",
    "reduced_train_data_pred = reduced_train_data_2.values.astype('float32')\n",
    "\n"
   ]
  },
  {
   "cell_type": "code",
   "execution_count": 50,
   "metadata": {},
   "outputs": [
    {
     "name": "stdout",
     "output_type": "stream",
     "text": [
      "application/x-recordio-protobuf\n",
      "('application/x-recordio-protobuf',)\n"
     ]
    }
   ],
   "source": [
    "print(pca_predictor.content_type)\n",
    "print(pca_predictor.accept)"
   ]
  },
  {
   "cell_type": "code",
   "execution_count": 51,
   "metadata": {},
   "outputs": [
    {
     "name": "stdout",
     "output_type": "stream",
     "text": [
      "done\n"
     ]
    }
   ],
   "source": [
    "print(\"done\")"
   ]
  },
  {
   "cell_type": "code",
   "execution_count": 52,
   "metadata": {},
   "outputs": [],
   "source": [
    "# pass np train data to the PCA model reduced_train_data_np\n",
    "import json\n",
    "train_pca = pca_predictor.predict(reduced_train_data_pred)"
   ]
  },
  {
   "cell_type": "code",
   "execution_count": 53,
   "metadata": {},
   "outputs": [
    {
     "name": "stdout",
     "output_type": "stream",
     "text": [
      "label {\n",
      "  key: \"projection\"\n",
      "  value {\n",
      "    float32_tensor {\n",
      "      values: -0.10783682763576508\n",
      "      values: -0.1753077208995819\n",
      "      values: -0.0898422971367836\n",
      "      values: 0.09873241186141968\n",
      "      values: -0.01132124662399292\n",
      "      values: -0.03368663787841797\n",
      "      values: -0.04170083999633789\n",
      "      values: -0.015291161835193634\n",
      "      values: 0.029626984149217606\n",
      "      values: -0.06748785078525543\n",
      "      values: -0.0687500536441803\n",
      "      values: -0.11307545006275177\n",
      "      values: 0.1023564338684082\n",
      "      values: 0.13359999656677246\n",
      "      values: -0.02081000804901123\n",
      "      values: 0.4195825457572937\n",
      "      values: 0.0732751339673996\n",
      "      values: -0.08104562014341354\n",
      "      values: 0.38063693046569824\n",
      "      values: -0.05540338531136513\n",
      "      values: 0.3242374658584595\n",
      "      values: 0.007301792502403259\n",
      "      values: -0.10280997306108475\n",
      "      values: -0.09421072900295258\n",
      "      values: -0.4346792995929718\n",
      "      values: -0.37418538331985474\n",
      "      values: 0.6484639644622803\n",
      "      values: -0.12712839245796204\n",
      "      values: 0.38619264960289\n",
      "      values: 0.09975752234458923\n",
      "      values: -0.712874174118042\n",
      "      values: 0.5448943376541138\n",
      "      values: 0.2917230725288391\n",
      "      values: 0.7722759246826172\n",
      "      values: 0.5452231764793396\n",
      "      values: 0.7702891826629639\n",
      "      values: -0.28319284319877625\n",
      "      values: 0.1332697868347168\n",
      "      values: 0.1259717345237732\n",
      "      values: -0.5609589219093323\n",
      "    }\n",
      "  }\n",
      "}\n",
      "\n"
     ]
    }
   ],
   "source": [
    "# check out the first item in the produced training features\n",
    "data_idx = 0\n",
    "print(train_pca[data_idx])"
   ]
  },
  {
   "cell_type": "code",
   "execution_count": 54,
   "metadata": {},
   "outputs": [
    {
     "data": {
      "text/plain": [
       "2778"
      ]
     },
     "execution_count": 54,
     "metadata": {},
     "output_type": "execute_result"
    }
   ],
   "source": [
    "len(train_pca)"
   ]
  },
  {
   "cell_type": "markdown",
   "metadata": {},
   "source": [
    "### Batch Predictions"
   ]
  },
  {
   "cell_type": "code",
   "execution_count": 55,
   "metadata": {},
   "outputs": [
    {
     "name": "stdout",
     "output_type": "stream",
     "text": [
      ".....................................\u001b[34mDocker entrypoint called with argument(s): serve\u001b[0m\n",
      "\u001b[34mRunning default environment configuration script\u001b[0m\n",
      "\u001b[34m[05/02/2022 20:21:58 INFO 139825906640704] loaded entry point class algorithm.serve.server_config:config_api\u001b[0m\n",
      "\u001b[34m[05/02/2022 20:21:58 INFO 139825906640704] nvidia-smi: took 0.031 seconds to run.\u001b[0m\n",
      "\u001b[34m[05/02/2022 20:21:58 INFO 139825906640704] nvidia-smi identified 0 GPUs.\u001b[0m\n",
      "\u001b[34m[05/02/2022 20:21:58 INFO 139825906640704] loading entry points\u001b[0m\n",
      "\u001b[34m[05/02/2022 20:21:58 INFO 139825906640704] Loaded iterator creator application/x-labeled-vector-protobuf for content type ('application/x-labeled-vector-protobuf', '1.0')\u001b[0m\n",
      "\u001b[34m[05/02/2022 20:21:58 INFO 139825906640704] Loaded iterator creator application/x-recordio-protobuf for content type ('application/x-recordio-protobuf', '1.0')\u001b[0m\n",
      "\u001b[34m[05/02/2022 20:21:58 INFO 139825906640704] Loaded iterator creator protobuf for content type ('protobuf', '1.0')\u001b[0m\n",
      "\u001b[34m[05/02/2022 20:21:58 INFO 139825906640704] loaded request iterator application/json\u001b[0m\n",
      "\u001b[35mDocker entrypoint called with argument(s): serve\u001b[0m\n",
      "\u001b[35mRunning default environment configuration script\u001b[0m\n",
      "\u001b[35m[05/02/2022 20:21:58 INFO 139825906640704] loaded entry point class algorithm.serve.server_config:config_api\u001b[0m\n",
      "\u001b[35m[05/02/2022 20:21:58 INFO 139825906640704] nvidia-smi: took 0.031 seconds to run.\u001b[0m\n",
      "\u001b[35m[05/02/2022 20:21:58 INFO 139825906640704] nvidia-smi identified 0 GPUs.\u001b[0m\n",
      "\u001b[35m[05/02/2022 20:21:58 INFO 139825906640704] loading entry points\u001b[0m\n",
      "\u001b[35m[05/02/2022 20:21:58 INFO 139825906640704] Loaded iterator creator application/x-labeled-vector-protobuf for content type ('application/x-labeled-vector-protobuf', '1.0')\u001b[0m\n",
      "\u001b[35m[05/02/2022 20:21:58 INFO 139825906640704] Loaded iterator creator application/x-recordio-protobuf for content type ('application/x-recordio-protobuf', '1.0')\u001b[0m\n",
      "\u001b[35m[05/02/2022 20:21:58 INFO 139825906640704] Loaded iterator creator protobuf for content type ('protobuf', '1.0')\u001b[0m\n",
      "\u001b[35m[05/02/2022 20:21:58 INFO 139825906640704] loaded request iterator application/json\u001b[0m\n",
      "\u001b[34m[05/02/2022 20:21:58 INFO 139825906640704] loaded request iterator application/jsonlines\u001b[0m\n",
      "\u001b[34m[05/02/2022 20:21:58 INFO 139825906640704] loaded request iterator application/x-recordio-protobuf\u001b[0m\n",
      "\u001b[34m[05/02/2022 20:21:58 INFO 139825906640704] loaded request iterator text/csv\u001b[0m\n",
      "\u001b[34m[05/02/2022 20:21:58 INFO 139825906640704] loaded response encoder application/json\u001b[0m\n",
      "\u001b[34m[05/02/2022 20:21:58 INFO 139825906640704] loaded response encoder application/jsonlines\u001b[0m\n",
      "\u001b[34m[05/02/2022 20:21:58 INFO 139825906640704] loaded response encoder application/x-recordio-protobuf\u001b[0m\n",
      "\u001b[34m[05/02/2022 20:21:58 INFO 139825906640704] loaded entry point class algorithm:model\u001b[0m\n",
      "\u001b[34m[05/02/2022 20:21:58 INFO 139825906640704] Loaded iterator creator application/x-labeled-vector-protobuf for content type ('application/x-labeled-vector-protobuf', '1.0')\u001b[0m\n",
      "\u001b[34m[05/02/2022 20:21:58 INFO 139825906640704] Loaded iterator creator application/x-recordio-protobuf for content type ('application/x-recordio-protobuf', '1.0')\u001b[0m\n",
      "\u001b[34m[05/02/2022 20:21:58 INFO 139825906640704] Loaded iterator creator protobuf for content type ('protobuf', '1.0')\u001b[0m\n",
      "\u001b[34m[05/02/2022 20:21:58 INFO 139825906640704] Number of server workers: 4\u001b[0m\n",
      "\u001b[34m[2022-05-02 20:21:58 +0000] [1] [INFO] Starting gunicorn 20.1.0\u001b[0m\n",
      "\u001b[34m[2022-05-02 20:21:58 +0000] [1] [INFO] Listening at: http://0.0.0.0:8080 (1)\u001b[0m\n",
      "\u001b[34m[2022-05-02 20:21:58 +0000] [1] [INFO] Using worker: sync\u001b[0m\n",
      "\u001b[34m[2022-05-02 20:21:58 +0000] [55] [INFO] Booting worker with pid: 55\u001b[0m\n",
      "\u001b[34m[05/02/2022 20:21:58 INFO 139825906640704] loading model...\u001b[0m\n",
      "\u001b[34m[05/02/2022 20:21:58 INFO 139825906640704] ...model loaded.\u001b[0m\n",
      "\u001b[34m[2022-05-02 20:21:58 +0000] [66] [INFO] Booting worker with pid: 66\u001b[0m\n",
      "\u001b[34m[05/02/2022 20:21:58 INFO 139825906640704] loading model...\u001b[0m\n",
      "\u001b[34m[05/02/2022 20:21:58 INFO 139825906640704] ...model loaded.\u001b[0m\n",
      "\u001b[34m[2022-05-02 20:21:58 +0000] [77] [INFO] Booting worker with pid: 77\u001b[0m\n",
      "\u001b[35m[05/02/2022 20:21:58 INFO 139825906640704] loaded request iterator application/jsonlines\u001b[0m\n",
      "\u001b[35m[05/02/2022 20:21:58 INFO 139825906640704] loaded request iterator application/x-recordio-protobuf\u001b[0m\n",
      "\u001b[35m[05/02/2022 20:21:58 INFO 139825906640704] loaded request iterator text/csv\u001b[0m\n",
      "\u001b[35m[05/02/2022 20:21:58 INFO 139825906640704] loaded response encoder application/json\u001b[0m\n",
      "\u001b[35m[05/02/2022 20:21:58 INFO 139825906640704] loaded response encoder application/jsonlines\u001b[0m\n",
      "\u001b[35m[05/02/2022 20:21:58 INFO 139825906640704] loaded response encoder application/x-recordio-protobuf\u001b[0m\n",
      "\u001b[35m[05/02/2022 20:21:58 INFO 139825906640704] loaded entry point class algorithm:model\u001b[0m\n",
      "\u001b[35m[05/02/2022 20:21:58 INFO 139825906640704] Loaded iterator creator application/x-labeled-vector-protobuf for content type ('application/x-labeled-vector-protobuf', '1.0')\u001b[0m\n",
      "\u001b[35m[05/02/2022 20:21:58 INFO 139825906640704] Loaded iterator creator application/x-recordio-protobuf for content type ('application/x-recordio-protobuf', '1.0')\u001b[0m\n",
      "\u001b[35m[05/02/2022 20:21:58 INFO 139825906640704] Loaded iterator creator protobuf for content type ('protobuf', '1.0')\u001b[0m\n",
      "\u001b[35m[05/02/2022 20:21:58 INFO 139825906640704] Number of server workers: 4\u001b[0m\n",
      "\u001b[35m[2022-05-02 20:21:58 +0000] [1] [INFO] Starting gunicorn 20.1.0\u001b[0m\n",
      "\u001b[35m[2022-05-02 20:21:58 +0000] [1] [INFO] Listening at: http://0.0.0.0:8080 (1)\u001b[0m\n",
      "\u001b[35m[2022-05-02 20:21:58 +0000] [1] [INFO] Using worker: sync\u001b[0m\n",
      "\u001b[35m[2022-05-02 20:21:58 +0000] [55] [INFO] Booting worker with pid: 55\u001b[0m\n",
      "\u001b[35m[05/02/2022 20:21:58 INFO 139825906640704] loading model...\u001b[0m\n",
      "\u001b[35m[05/02/2022 20:21:58 INFO 139825906640704] ...model loaded.\u001b[0m\n",
      "\u001b[35m[2022-05-02 20:21:58 +0000] [66] [INFO] Booting worker with pid: 66\u001b[0m\n",
      "\u001b[35m[05/02/2022 20:21:58 INFO 139825906640704] loading model...\u001b[0m\n",
      "\u001b[35m[05/02/2022 20:21:58 INFO 139825906640704] ...model loaded.\u001b[0m\n",
      "\u001b[35m[2022-05-02 20:21:58 +0000] [77] [INFO] Booting worker with pid: 77\u001b[0m\n",
      "\u001b[34m[05/02/2022 20:21:58 INFO 139825906640704] loading model...\u001b[0m\n",
      "\u001b[34m[05/02/2022 20:21:58 INFO 139825906640704] ...model loaded.\u001b[0m\n",
      "\u001b[34m[2022-05-02 20:21:58 +0000] [86] [INFO] Booting worker with pid: 86\u001b[0m\n",
      "\u001b[34m[05/02/2022 20:21:58 INFO 139825906640704] loading model...\u001b[0m\n",
      "\u001b[34m[05/02/2022 20:21:58 INFO 139825906640704] ...model loaded.\u001b[0m\n",
      "\u001b[35m[05/02/2022 20:21:58 INFO 139825906640704] loading model...\u001b[0m\n",
      "\u001b[35m[05/02/2022 20:21:58 INFO 139825906640704] ...model loaded.\u001b[0m\n",
      "\u001b[35m[2022-05-02 20:21:58 +0000] [86] [INFO] Booting worker with pid: 86\u001b[0m\n",
      "\u001b[35m[05/02/2022 20:21:58 INFO 139825906640704] loading model...\u001b[0m\n",
      "\u001b[35m[05/02/2022 20:21:58 INFO 139825906640704] ...model loaded.\u001b[0m\n",
      "\u001b[34m#metrics {\"StartTime\": 1651522918.5888052, \"EndTime\": 1651522920.4769788, \"Dimensions\": {\"Algorithm\": \"AlgorithmModel\", \"Host\": \"UNKNOWN\", \"Operation\": \"scoring\"}, \"Metrics\": {\"execution_parameters.count\": {\"sum\": 1.0, \"count\": 1, \"min\": 1, \"max\": 1}}}\u001b[0m\n",
      "\u001b[35m#metrics {\"StartTime\": 1651522918.5888052, \"EndTime\": 1651522920.4769788, \"Dimensions\": {\"Algorithm\": \"AlgorithmModel\", \"Host\": \"UNKNOWN\", \"Operation\": \"scoring\"}, \"Metrics\": {\"execution_parameters.count\": {\"sum\": 1.0, \"count\": 1, \"min\": 1, \"max\": 1}}}\u001b[0m\n",
      "\u001b[34m[05/02/2022 20:22:01 WARNING 139825906640704] Requesting context without setting the requested num of gpus. Using 'auto'\u001b[0m\n",
      "\u001b[34m[05/02/2022 20:22:01 INFO 139825906640704] Number of GPUs being used: 0\u001b[0m\n",
      "\u001b[34m[05/02/2022 20:22:01 INFO 139825906640704] The default executor is <PCAModel on cpu(0)>.\u001b[0m\n",
      "\u001b[34m[05/02/2022 20:22:01 INFO 139825906640704] <PCAModel on cpu(0)> is assigned to batch slice from 0 to 774.\u001b[0m\n",
      "\u001b[34m#metrics {\"StartTime\": 1651522918.5971663, \"EndTime\": 1651522921.8805075, \"Dimensions\": {\"Algorithm\": \"AlgorithmModel\", \"Host\": \"UNKNOWN\", \"Operation\": \"scoring\"}, \"Metrics\": {\"invocations.count\": {\"sum\": 1.0, \"count\": 1, \"min\": 1, \"max\": 1}}}\u001b[0m\n",
      "\u001b[34m[05/02/2022 20:22:01 WARNING 139825906640704] Requesting context without setting the requested num of gpus. Using 'auto'\u001b[0m\n",
      "\u001b[34m[05/02/2022 20:22:01 INFO 139825906640704] Number of GPUs being used: 0\u001b[0m\n",
      "\u001b[34m[05/02/2022 20:22:01 INFO 139825906640704] The default executor is <PCAModel on cpu(0)>.\u001b[0m\n",
      "\u001b[35m[05/02/2022 20:22:01 WARNING 139825906640704] Requesting context without setting the requested num of gpus. Using 'auto'\u001b[0m\n",
      "\u001b[35m[05/02/2022 20:22:01 INFO 139825906640704] Number of GPUs being used: 0\u001b[0m\n",
      "\u001b[35m[05/02/2022 20:22:01 INFO 139825906640704] The default executor is <PCAModel on cpu(0)>.\u001b[0m\n",
      "\u001b[35m[05/02/2022 20:22:01 INFO 139825906640704] <PCAModel on cpu(0)> is assigned to batch slice from 0 to 774.\u001b[0m\n",
      "\u001b[35m#metrics {\"StartTime\": 1651522918.5971663, \"EndTime\": 1651522921.8805075, \"Dimensions\": {\"Algorithm\": \"AlgorithmModel\", \"Host\": \"UNKNOWN\", \"Operation\": \"scoring\"}, \"Metrics\": {\"invocations.count\": {\"sum\": 1.0, \"count\": 1, \"min\": 1, \"max\": 1}}}\u001b[0m\n",
      "\u001b[35m[05/02/2022 20:22:01 WARNING 139825906640704] Requesting context without setting the requested num of gpus. Using 'auto'\u001b[0m\n",
      "\u001b[35m[05/02/2022 20:22:01 INFO 139825906640704] Number of GPUs being used: 0\u001b[0m\n",
      "\u001b[35m[05/02/2022 20:22:01 INFO 139825906640704] The default executor is <PCAModel on cpu(0)>.\u001b[0m\n",
      "\u001b[34m[05/02/2022 20:22:01 INFO 139825906640704] <PCAModel on cpu(0)> is assigned to batch slice from 0 to 4370.\u001b[0m\n",
      "\u001b[35m[05/02/2022 20:22:01 INFO 139825906640704] <PCAModel on cpu(0)> is assigned to batch slice from 0 to 4370.\u001b[0m\n",
      "\u001b[34m[05/02/2022 20:22:02 WARNING 139825906640704] Requesting context without setting the requested num of gpus. Using 'auto'\u001b[0m\n",
      "\u001b[34m[05/02/2022 20:22:02 INFO 139825906640704] Number of GPUs being used: 0\u001b[0m\n",
      "\u001b[34m[05/02/2022 20:22:02 INFO 139825906640704] The default executor is <PCAModel on cpu(0)>.\u001b[0m\n",
      "\u001b[34m[05/02/2022 20:22:02 INFO 139825906640704] <PCAModel on cpu(0)> is assigned to batch slice from 0 to 4370.\u001b[0m\n",
      "\u001b[34m#metrics {\"StartTime\": 1651522918.536919, \"EndTime\": 1651522922.2698164, \"Dimensions\": {\"Algorithm\": \"AlgorithmModel\", \"Host\": \"UNKNOWN\", \"Operation\": \"scoring\"}, \"Metrics\": {\"invocations.count\": {\"sum\": 1.0, \"count\": 1, \"min\": 1, \"max\": 1}}}\u001b[0m\n",
      "\u001b[34m[05/02/2022 20:22:02 WARNING 139825906640704] Requesting context without setting the requested num of gpus. Using 'auto'\u001b[0m\n",
      "\u001b[34m[05/02/2022 20:22:02 INFO 139825906640704] Number of GPUs being used: 0\u001b[0m\n",
      "\u001b[34m[05/02/2022 20:22:02 INFO 139825906640704] The default executor is <PCAModel on cpu(0)>.\u001b[0m\n",
      "\u001b[34m[05/02/2022 20:22:02 INFO 139825906640704] <PCAModel on cpu(0)> is assigned to batch slice from 0 to 4374.\u001b[0m\n",
      "\u001b[34m#metrics {\"StartTime\": 1651522918.4423685, \"EndTime\": 1651522922.5192356, \"Dimensions\": {\"Algorithm\": \"AlgorithmModel\", \"Host\": \"UNKNOWN\", \"Operation\": \"scoring\"}, \"Metrics\": {\"invocations.count\": {\"sum\": 1.0, \"count\": 1, \"min\": 1, \"max\": 1}}}\u001b[0m\n",
      "\u001b[34m#metrics {\"StartTime\": 1651522920.4771507, \"EndTime\": 1651522922.5879786, \"Dimensions\": {\"Algorithm\": \"AlgorithmModel\", \"Host\": \"UNKNOWN\", \"Operation\": \"scoring\"}, \"Metrics\": {\"invocations.count\": {\"sum\": 1.0, \"count\": 1, \"min\": 1, \"max\": 1}}}\u001b[0m\n",
      "\u001b[35m[05/02/2022 20:22:02 WARNING 139825906640704] Requesting context without setting the requested num of gpus. Using 'auto'\u001b[0m\n",
      "\u001b[35m[05/02/2022 20:22:02 INFO 139825906640704] Number of GPUs being used: 0\u001b[0m\n",
      "\u001b[35m[05/02/2022 20:22:02 INFO 139825906640704] The default executor is <PCAModel on cpu(0)>.\u001b[0m\n",
      "\u001b[35m[05/02/2022 20:22:02 INFO 139825906640704] <PCAModel on cpu(0)> is assigned to batch slice from 0 to 4370.\u001b[0m\n",
      "\u001b[35m#metrics {\"StartTime\": 1651522918.536919, \"EndTime\": 1651522922.2698164, \"Dimensions\": {\"Algorithm\": \"AlgorithmModel\", \"Host\": \"UNKNOWN\", \"Operation\": \"scoring\"}, \"Metrics\": {\"invocations.count\": {\"sum\": 1.0, \"count\": 1, \"min\": 1, \"max\": 1}}}\u001b[0m\n",
      "\u001b[35m[05/02/2022 20:22:02 WARNING 139825906640704] Requesting context without setting the requested num of gpus. Using 'auto'\u001b[0m\n",
      "\u001b[35m[05/02/2022 20:22:02 INFO 139825906640704] Number of GPUs being used: 0\u001b[0m\n",
      "\u001b[35m[05/02/2022 20:22:02 INFO 139825906640704] The default executor is <PCAModel on cpu(0)>.\u001b[0m\n",
      "\u001b[35m[05/02/2022 20:22:02 INFO 139825906640704] <PCAModel on cpu(0)> is assigned to batch slice from 0 to 4374.\u001b[0m\n",
      "\u001b[35m#metrics {\"StartTime\": 1651522918.4423685, \"EndTime\": 1651522922.5192356, \"Dimensions\": {\"Algorithm\": \"AlgorithmModel\", \"Host\": \"UNKNOWN\", \"Operation\": \"scoring\"}, \"Metrics\": {\"invocations.count\": {\"sum\": 1.0, \"count\": 1, \"min\": 1, \"max\": 1}}}\u001b[0m\n",
      "\u001b[35m#metrics {\"StartTime\": 1651522920.4771507, \"EndTime\": 1651522922.5879786, \"Dimensions\": {\"Algorithm\": \"AlgorithmModel\", \"Host\": \"UNKNOWN\", \"Operation\": \"scoring\"}, \"Metrics\": {\"invocations.count\": {\"sum\": 1.0, \"count\": 1, \"min\": 1, \"max\": 1}}}\u001b[0m\n",
      "\u001b[32m2022-05-02T20:22:00.484:[sagemaker logs]: MaxConcurrentTransforms=4, MaxPayloadInMB=6, BatchStrategy=MULTI_RECORD\u001b[0m\n",
      "\n",
      "\u001b[34mDocker entrypoint called with argument(s): serve\u001b[0m\n",
      "\u001b[34mRunning default environment configuration script\u001b[0m\n",
      "\u001b[34m[05/02/2022 20:21:58 INFO 139825906640704] loaded entry point class algorithm.serve.server_config:config_api\u001b[0m\n",
      "\u001b[34m[05/02/2022 20:21:58 INFO 139825906640704] nvidia-smi: took 0.031 seconds to run.\u001b[0m\n",
      "\u001b[34m[05/02/2022 20:21:58 INFO 139825906640704] nvidia-smi identified 0 GPUs.\u001b[0m\n",
      "\u001b[34m[05/02/2022 20:21:58 INFO 139825906640704] loading entry points\u001b[0m\n",
      "\u001b[34m[05/02/2022 20:21:58 INFO 139825906640704] Loaded iterator creator application/x-labeled-vector-protobuf for content type ('application/x-labeled-vector-protobuf', '1.0')\u001b[0m\n",
      "\u001b[34m[05/02/2022 20:21:58 INFO 139825906640704] Loaded iterator creator application/x-recordio-protobuf for content type ('application/x-recordio-protobuf', '1.0')\u001b[0m\n",
      "\u001b[34m[05/02/2022 20:21:58 INFO 139825906640704] Loaded iterator creator protobuf for content type ('protobuf', '1.0')\u001b[0m\n",
      "\u001b[34m[05/02/2022 20:21:58 INFO 139825906640704] loaded request iterator application/json\u001b[0m\n",
      "\u001b[35mDocker entrypoint called with argument(s): serve\u001b[0m\n",
      "\u001b[35mRunning default environment configuration script\u001b[0m\n",
      "\u001b[35m[05/02/2022 20:21:58 INFO 139825906640704] loaded entry point class algorithm.serve.server_config:config_api\u001b[0m\n",
      "\u001b[35m[05/02/2022 20:21:58 INFO 139825906640704] nvidia-smi: took 0.031 seconds to run.\u001b[0m\n",
      "\u001b[35m[05/02/2022 20:21:58 INFO 139825906640704] nvidia-smi identified 0 GPUs.\u001b[0m\n",
      "\u001b[35m[05/02/2022 20:21:58 INFO 139825906640704] loading entry points\u001b[0m\n",
      "\u001b[35m[05/02/2022 20:21:58 INFO 139825906640704] Loaded iterator creator application/x-labeled-vector-protobuf for content type ('application/x-labeled-vector-protobuf', '1.0')\u001b[0m\n",
      "\u001b[35m[05/02/2022 20:21:58 INFO 139825906640704] Loaded iterator creator application/x-recordio-protobuf for content type ('application/x-recordio-protobuf', '1.0')\u001b[0m\n",
      "\u001b[35m[05/02/2022 20:21:58 INFO 139825906640704] Loaded iterator creator protobuf for content type ('protobuf', '1.0')\u001b[0m\n",
      "\u001b[35m[05/02/2022 20:21:58 INFO 139825906640704] loaded request iterator application/json\u001b[0m\n",
      "\u001b[34m[05/02/2022 20:21:58 INFO 139825906640704] loaded request iterator application/jsonlines\u001b[0m\n",
      "\u001b[34m[05/02/2022 20:21:58 INFO 139825906640704] loaded request iterator application/x-recordio-protobuf\u001b[0m\n",
      "\u001b[34m[05/02/2022 20:21:58 INFO 139825906640704] loaded request iterator text/csv\u001b[0m\n",
      "\u001b[34m[05/02/2022 20:21:58 INFO 139825906640704] loaded response encoder application/json\u001b[0m\n",
      "\u001b[34m[05/02/2022 20:21:58 INFO 139825906640704] loaded response encoder application/jsonlines\u001b[0m\n",
      "\u001b[34m[05/02/2022 20:21:58 INFO 139825906640704] loaded response encoder application/x-recordio-protobuf\u001b[0m\n",
      "\u001b[34m[05/02/2022 20:21:58 INFO 139825906640704] loaded entry point class algorithm:model\u001b[0m\n",
      "\u001b[34m[05/02/2022 20:21:58 INFO 139825906640704] Loaded iterator creator application/x-labeled-vector-protobuf for content type ('application/x-labeled-vector-protobuf', '1.0')\u001b[0m\n",
      "\u001b[34m[05/02/2022 20:21:58 INFO 139825906640704] Loaded iterator creator application/x-recordio-protobuf for content type ('application/x-recordio-protobuf', '1.0')\u001b[0m\n",
      "\u001b[34m[05/02/2022 20:21:58 INFO 139825906640704] Loaded iterator creator protobuf for content type ('protobuf', '1.0')\u001b[0m\n",
      "\u001b[34m[05/02/2022 20:21:58 INFO 139825906640704] Number of server workers: 4\u001b[0m\n",
      "\u001b[34m[2022-05-02 20:21:58 +0000] [1] [INFO] Starting gunicorn 20.1.0\u001b[0m\n",
      "\u001b[34m[2022-05-02 20:21:58 +0000] [1] [INFO] Listening at: http://0.0.0.0:8080 (1)\u001b[0m\n",
      "\u001b[34m[2022-05-02 20:21:58 +0000] [1] [INFO] Using worker: sync\u001b[0m\n",
      "\u001b[34m[2022-05-02 20:21:58 +0000] [55] [INFO] Booting worker with pid: 55\u001b[0m\n",
      "\u001b[34m[05/02/2022 20:21:58 INFO 139825906640704] loading model...\u001b[0m\n",
      "\u001b[34m[05/02/2022 20:21:58 INFO 139825906640704] ...model loaded.\u001b[0m\n",
      "\u001b[34m[2022-05-02 20:21:58 +0000] [66] [INFO] Booting worker with pid: 66\u001b[0m\n",
      "\u001b[34m[05/02/2022 20:21:58 INFO 139825906640704] loading model...\u001b[0m\n",
      "\u001b[34m[05/02/2022 20:21:58 INFO 139825906640704] ...model loaded.\u001b[0m\n",
      "\u001b[34m[2022-05-02 20:21:58 +0000] [77] [INFO] Booting worker with pid: 77\u001b[0m\n",
      "\u001b[35m[05/02/2022 20:21:58 INFO 139825906640704] loaded request iterator application/jsonlines\u001b[0m\n",
      "\u001b[35m[05/02/2022 20:21:58 INFO 139825906640704] loaded request iterator application/x-recordio-protobuf\u001b[0m\n",
      "\u001b[35m[05/02/2022 20:21:58 INFO 139825906640704] loaded request iterator text/csv\u001b[0m\n",
      "\u001b[35m[05/02/2022 20:21:58 INFO 139825906640704] loaded response encoder application/json\u001b[0m\n",
      "\u001b[35m[05/02/2022 20:21:58 INFO 139825906640704] loaded response encoder application/jsonlines\u001b[0m\n",
      "\u001b[35m[05/02/2022 20:21:58 INFO 139825906640704] loaded response encoder application/x-recordio-protobuf\u001b[0m\n",
      "\u001b[35m[05/02/2022 20:21:58 INFO 139825906640704] loaded entry point class algorithm:model\u001b[0m\n",
      "\u001b[35m[05/02/2022 20:21:58 INFO 139825906640704] Loaded iterator creator application/x-labeled-vector-protobuf for content type ('application/x-labeled-vector-protobuf', '1.0')\u001b[0m\n",
      "\u001b[35m[05/02/2022 20:21:58 INFO 139825906640704] Loaded iterator creator application/x-recordio-protobuf for content type ('application/x-recordio-protobuf', '1.0')\u001b[0m\n",
      "\u001b[35m[05/02/2022 20:21:58 INFO 139825906640704] Loaded iterator creator protobuf for content type ('protobuf', '1.0')\u001b[0m\n",
      "\u001b[35m[05/02/2022 20:21:58 INFO 139825906640704] Number of server workers: 4\u001b[0m\n",
      "\u001b[35m[2022-05-02 20:21:58 +0000] [1] [INFO] Starting gunicorn 20.1.0\u001b[0m\n",
      "\u001b[35m[2022-05-02 20:21:58 +0000] [1] [INFO] Listening at: http://0.0.0.0:8080 (1)\u001b[0m\n",
      "\u001b[35m[2022-05-02 20:21:58 +0000] [1] [INFO] Using worker: sync\u001b[0m\n",
      "\u001b[35m[2022-05-02 20:21:58 +0000] [55] [INFO] Booting worker with pid: 55\u001b[0m\n",
      "\u001b[35m[05/02/2022 20:21:58 INFO 139825906640704] loading model...\u001b[0m\n",
      "\u001b[35m[05/02/2022 20:21:58 INFO 139825906640704] ...model loaded.\u001b[0m\n",
      "\u001b[35m[2022-05-02 20:21:58 +0000] [66] [INFO] Booting worker with pid: 66\u001b[0m\n",
      "\u001b[35m[05/02/2022 20:21:58 INFO 139825906640704] loading model...\u001b[0m\n",
      "\u001b[35m[05/02/2022 20:21:58 INFO 139825906640704] ...model loaded.\u001b[0m\n",
      "\u001b[35m[2022-05-02 20:21:58 +0000] [77] [INFO] Booting worker with pid: 77\u001b[0m\n",
      "\u001b[34m[05/02/2022 20:21:58 INFO 139825906640704] loading model...\u001b[0m\n",
      "\u001b[34m[05/02/2022 20:21:58 INFO 139825906640704] ...model loaded.\u001b[0m\n",
      "\u001b[34m[2022-05-02 20:21:58 +0000] [86] [INFO] Booting worker with pid: 86\u001b[0m\n",
      "\u001b[34m[05/02/2022 20:21:58 INFO 139825906640704] loading model...\u001b[0m\n",
      "\u001b[34m[05/02/2022 20:21:58 INFO 139825906640704] ...model loaded.\u001b[0m\n",
      "\u001b[35m[05/02/2022 20:21:58 INFO 139825906640704] loading model...\u001b[0m\n",
      "\u001b[35m[05/02/2022 20:21:58 INFO 139825906640704] ...model loaded.\u001b[0m\n",
      "\u001b[35m[2022-05-02 20:21:58 +0000] [86] [INFO] Booting worker with pid: 86\u001b[0m\n",
      "\u001b[35m[05/02/2022 20:21:58 INFO 139825906640704] loading model...\u001b[0m\n",
      "\u001b[35m[05/02/2022 20:21:58 INFO 139825906640704] ...model loaded.\u001b[0m\n",
      "\u001b[34m#metrics {\"StartTime\": 1651522918.5888052, \"EndTime\": 1651522920.4769788, \"Dimensions\": {\"Algorithm\": \"AlgorithmModel\", \"Host\": \"UNKNOWN\", \"Operation\": \"scoring\"}, \"Metrics\": {\"execution_parameters.count\": {\"sum\": 1.0, \"count\": 1, \"min\": 1, \"max\": 1}}}\u001b[0m\n",
      "\u001b[35m#metrics {\"StartTime\": 1651522918.5888052, \"EndTime\": 1651522920.4769788, \"Dimensions\": {\"Algorithm\": \"AlgorithmModel\", \"Host\": \"UNKNOWN\", \"Operation\": \"scoring\"}, \"Metrics\": {\"execution_parameters.count\": {\"sum\": 1.0, \"count\": 1, \"min\": 1, \"max\": 1}}}\u001b[0m\n",
      "\u001b[34m[05/02/2022 20:22:01 WARNING 139825906640704] Requesting context without setting the requested num of gpus. Using 'auto'\u001b[0m\n",
      "\u001b[34m[05/02/2022 20:22:01 INFO 139825906640704] Number of GPUs being used: 0\u001b[0m\n",
      "\u001b[34m[05/02/2022 20:22:01 INFO 139825906640704] The default executor is <PCAModel on cpu(0)>.\u001b[0m\n",
      "\u001b[34m[05/02/2022 20:22:01 INFO 139825906640704] <PCAModel on cpu(0)> is assigned to batch slice from 0 to 774.\u001b[0m\n",
      "\u001b[34m#metrics {\"StartTime\": 1651522918.5971663, \"EndTime\": 1651522921.8805075, \"Dimensions\": {\"Algorithm\": \"AlgorithmModel\", \"Host\": \"UNKNOWN\", \"Operation\": \"scoring\"}, \"Metrics\": {\"invocations.count\": {\"sum\": 1.0, \"count\": 1, \"min\": 1, \"max\": 1}}}\u001b[0m\n",
      "\u001b[34m[05/02/2022 20:22:01 WARNING 139825906640704] Requesting context without setting the requested num of gpus. Using 'auto'\u001b[0m\n",
      "\u001b[34m[05/02/2022 20:22:01 INFO 139825906640704] Number of GPUs being used: 0\u001b[0m\n",
      "\u001b[34m[05/02/2022 20:22:01 INFO 139825906640704] The default executor is <PCAModel on cpu(0)>.\u001b[0m\n",
      "\u001b[35m[05/02/2022 20:22:01 WARNING 139825906640704] Requesting context without setting the requested num of gpus. Using 'auto'\u001b[0m\n",
      "\u001b[35m[05/02/2022 20:22:01 INFO 139825906640704] Number of GPUs being used: 0\u001b[0m\n",
      "\u001b[35m[05/02/2022 20:22:01 INFO 139825906640704] The default executor is <PCAModel on cpu(0)>.\u001b[0m\n",
      "\u001b[35m[05/02/2022 20:22:01 INFO 139825906640704] <PCAModel on cpu(0)> is assigned to batch slice from 0 to 774.\u001b[0m\n",
      "\u001b[35m#metrics {\"StartTime\": 1651522918.5971663, \"EndTime\": 1651522921.8805075, \"Dimensions\": {\"Algorithm\": \"AlgorithmModel\", \"Host\": \"UNKNOWN\", \"Operation\": \"scoring\"}, \"Metrics\": {\"invocations.count\": {\"sum\": 1.0, \"count\": 1, \"min\": 1, \"max\": 1}}}\u001b[0m\n",
      "\u001b[35m[05/02/2022 20:22:01 WARNING 139825906640704] Requesting context without setting the requested num of gpus. Using 'auto'\u001b[0m\n",
      "\u001b[35m[05/02/2022 20:22:01 INFO 139825906640704] Number of GPUs being used: 0\u001b[0m\n",
      "\u001b[35m[05/02/2022 20:22:01 INFO 139825906640704] The default executor is <PCAModel on cpu(0)>.\u001b[0m\n",
      "\u001b[34m[05/02/2022 20:22:01 INFO 139825906640704] <PCAModel on cpu(0)> is assigned to batch slice from 0 to 4370.\u001b[0m\n",
      "\u001b[35m[05/02/2022 20:22:01 INFO 139825906640704] <PCAModel on cpu(0)> is assigned to batch slice from 0 to 4370.\u001b[0m\n",
      "\u001b[34m[05/02/2022 20:22:02 WARNING 139825906640704] Requesting context without setting the requested num of gpus. Using 'auto'\u001b[0m\n",
      "\u001b[34m[05/02/2022 20:22:02 INFO 139825906640704] Number of GPUs being used: 0\u001b[0m\n",
      "\u001b[34m[05/02/2022 20:22:02 INFO 139825906640704] The default executor is <PCAModel on cpu(0)>.\u001b[0m\n",
      "\u001b[34m[05/02/2022 20:22:02 INFO 139825906640704] <PCAModel on cpu(0)> is assigned to batch slice from 0 to 4370.\u001b[0m\n",
      "\u001b[34m#metrics {\"StartTime\": 1651522918.536919, \"EndTime\": 1651522922.2698164, \"Dimensions\": {\"Algorithm\": \"AlgorithmModel\", \"Host\": \"UNKNOWN\", \"Operation\": \"scoring\"}, \"Metrics\": {\"invocations.count\": {\"sum\": 1.0, \"count\": 1, \"min\": 1, \"max\": 1}}}\u001b[0m\n",
      "\u001b[34m[05/02/2022 20:22:02 WARNING 139825906640704] Requesting context without setting the requested num of gpus. Using 'auto'\u001b[0m\n",
      "\u001b[34m[05/02/2022 20:22:02 INFO 139825906640704] Number of GPUs being used: 0\u001b[0m\n",
      "\u001b[34m[05/02/2022 20:22:02 INFO 139825906640704] The default executor is <PCAModel on cpu(0)>.\u001b[0m\n",
      "\u001b[34m[05/02/2022 20:22:02 INFO 139825906640704] <PCAModel on cpu(0)> is assigned to batch slice from 0 to 4374.\u001b[0m\n",
      "\u001b[34m#metrics {\"StartTime\": 1651522918.4423685, \"EndTime\": 1651522922.5192356, \"Dimensions\": {\"Algorithm\": \"AlgorithmModel\", \"Host\": \"UNKNOWN\", \"Operation\": \"scoring\"}, \"Metrics\": {\"invocations.count\": {\"sum\": 1.0, \"count\": 1, \"min\": 1, \"max\": 1}}}\u001b[0m\n",
      "\u001b[34m#metrics {\"StartTime\": 1651522920.4771507, \"EndTime\": 1651522922.5879786, \"Dimensions\": {\"Algorithm\": \"AlgorithmModel\", \"Host\": \"UNKNOWN\", \"Operation\": \"scoring\"}, \"Metrics\": {\"invocations.count\": {\"sum\": 1.0, \"count\": 1, \"min\": 1, \"max\": 1}}}\u001b[0m\n",
      "\u001b[35m[05/02/2022 20:22:02 WARNING 139825906640704] Requesting context without setting the requested num of gpus. Using 'auto'\u001b[0m\n",
      "\u001b[35m[05/02/2022 20:22:02 INFO 139825906640704] Number of GPUs being used: 0\u001b[0m\n",
      "\u001b[35m[05/02/2022 20:22:02 INFO 139825906640704] The default executor is <PCAModel on cpu(0)>.\u001b[0m\n",
      "\u001b[35m[05/02/2022 20:22:02 INFO 139825906640704] <PCAModel on cpu(0)> is assigned to batch slice from 0 to 4370.\u001b[0m\n",
      "\u001b[35m#metrics {\"StartTime\": 1651522918.536919, \"EndTime\": 1651522922.2698164, \"Dimensions\": {\"Algorithm\": \"AlgorithmModel\", \"Host\": \"UNKNOWN\", \"Operation\": \"scoring\"}, \"Metrics\": {\"invocations.count\": {\"sum\": 1.0, \"count\": 1, \"min\": 1, \"max\": 1}}}\u001b[0m\n",
      "\u001b[35m[05/02/2022 20:22:02 WARNING 139825906640704] Requesting context without setting the requested num of gpus. Using 'auto'\u001b[0m\n",
      "\u001b[35m[05/02/2022 20:22:02 INFO 139825906640704] Number of GPUs being used: 0\u001b[0m\n",
      "\u001b[35m[05/02/2022 20:22:02 INFO 139825906640704] The default executor is <PCAModel on cpu(0)>.\u001b[0m\n",
      "\u001b[35m[05/02/2022 20:22:02 INFO 139825906640704] <PCAModel on cpu(0)> is assigned to batch slice from 0 to 4374.\u001b[0m\n",
      "\u001b[35m#metrics {\"StartTime\": 1651522918.4423685, \"EndTime\": 1651522922.5192356, \"Dimensions\": {\"Algorithm\": \"AlgorithmModel\", \"Host\": \"UNKNOWN\", \"Operation\": \"scoring\"}, \"Metrics\": {\"invocations.count\": {\"sum\": 1.0, \"count\": 1, \"min\": 1, \"max\": 1}}}\u001b[0m\n",
      "\u001b[35m#metrics {\"StartTime\": 1651522920.4771507, \"EndTime\": 1651522922.5879786, \"Dimensions\": {\"Algorithm\": \"AlgorithmModel\", \"Host\": \"UNKNOWN\", \"Operation\": \"scoring\"}, \"Metrics\": {\"invocations.count\": {\"sum\": 1.0, \"count\": 1, \"min\": 1, \"max\": 1}}}\u001b[0m\n",
      "\u001b[32m2022-05-02T20:22:00.484:[sagemaker logs]: MaxConcurrentTransforms=4, MaxPayloadInMB=6, BatchStrategy=MULTI_RECORD\u001b[0m\n"
     ]
    }
   ],
   "source": [
    "folder=f'{prefix}/batch'\n",
    "train_s3=f's3://{bucket_name}/{folder}/transform_input.csv'\n",
    "pca_transformer = pca_SM.transformer(\n",
    "    instance_count=1,\n",
    "    instance_type=\"ml.m4.xlarge\",\n",
    "    strategy=\"MultiRecord\",\n",
    "    assemble_with=\"Line\",\n",
    "    output_path=\"s3://{}/{}/pca/transformed\".format(bucket_name, folder),\n",
    ")\n",
    "pca_transformer.transform(train_s3, content_type=\"text/csv\", split_type=\"Line\")\n",
    "pca_transformer.wait()"
   ]
  },
  {
   "cell_type": "code",
   "execution_count": 56,
   "metadata": {},
   "outputs": [
    {
     "name": "stdout",
     "output_type": "stream",
     "text": [
      "download: s3://esti-sm-demo-rk/caa/batch/pca/transformed/transform_input.csv.out to ./transform_input.csv.out\n"
     ]
    }
   ],
   "source": [
    "!aws s3 cp --recursive $pca_transformer.output_path ./"
   ]
  },
  {
   "cell_type": "code",
   "execution_count": 57,
   "metadata": {},
   "outputs": [],
   "source": [
    "import json\n",
    "with open('transform_input.csv.out') as f:\n",
    "    train_pca_batch=[json.loads(x) for x in f.readlines()]"
   ]
  },
  {
   "cell_type": "code",
   "execution_count": 58,
   "metadata": {},
   "outputs": [
    {
     "data": {
      "text/plain": [
       "{'projection': [0.058930981904268,\n",
       "  0.314813941717147,\n",
       "  0.026734799146652,\n",
       "  -0.356682389974594,\n",
       "  0.13173758983612,\n",
       "  0.081881880760192,\n",
       "  -0.029709950089454,\n",
       "  0.042412631213665,\n",
       "  0.060818023979663,\n",
       "  -0.015885412693023,\n",
       "  -0.098773166537284,\n",
       "  -0.14441293478012,\n",
       "  -0.298982709646225,\n",
       "  -0.015863835811614,\n",
       "  0.375711858272552,\n",
       "  -0.076651960611343,\n",
       "  0.232430547475814,\n",
       "  -0.472367882728576,\n",
       "  -0.574166893959045,\n",
       "  -0.393378436565399,\n",
       "  0.433525383472442,\n",
       "  0.285595059394836,\n",
       "  -0.172194257378578,\n",
       "  0.034993648529052,\n",
       "  1.087530136108398,\n",
       "  -0.024444162845611,\n",
       "  -0.141823068261146,\n",
       "  0.554919481277465,\n",
       "  -0.776657938957214,\n",
       "  -0.048097699880599,\n",
       "  -0.277821272611618,\n",
       "  0.091885946691036,\n",
       "  0.241086453199386,\n",
       "  0.672033011913299,\n",
       "  0.575162529945373,\n",
       "  -0.646336197853088,\n",
       "  -0.27695620059967,\n",
       "  0.084701538085937,\n",
       "  -0.918903350830078,\n",
       "  0.82382583618164]}"
      ]
     },
     "execution_count": 58,
     "metadata": {},
     "output_type": "execute_result"
    }
   ],
   "source": [
    "train_pca_batch[0]"
   ]
  },
  {
   "cell_type": "markdown",
   "metadata": {},
   "source": [
    "### Step : Create a transformed DataFrame\n",
    "\n",
    "For each of our data points, get the top n component values from the list of component data points, returned by our predictor above, and put those into a new DataFrame.\n"
   ]
  },
  {
   "cell_type": "code",
   "execution_count": 59,
   "metadata": {},
   "outputs": [],
   "source": [
    "# create dimensionality-reduced data\n",
    "def create_transformed_df(train_pca, data_scaled, n_top_components):\n",
    "    ''' Return a dataframe of data points with component features. \n",
    "        The dataframe should be indexed by State-County and contain component values.\n",
    "        :param train_pca: A list of pca training data, returned by a PCA model.\n",
    "        :param data_scaled: A dataframe of normalized, original features.\n",
    "        :param n_top_components: An integer, the number of top components to use.\n",
    "        :return: A dataframe, indexed by State-County, with n_top_component values as columns.        \n",
    "     '''\n",
    "    # create a dataframe of component features, \n",
    "    # create new dataframe to add data to\n",
    "    transformed_df = pd.DataFrame()\n",
    "    \n",
    "    # for each of our new, transformed data points\n",
    "    # append the component values to the dataframe\n",
    "    for data in train_pca:\n",
    "        # get component values for each data point\n",
    "        components = data.label['projection'].float32_tensor.values\n",
    "        transformed_df = transformed_df.append([list(components)])\n",
    "    \n",
    "    transformed_df.index = data_scaled.index\n",
    "    \n",
    "    # keep only the top n components\n",
    "    start_idx = N_COMPONENTS - n_top_components\n",
    "    transformed_df = transformed_df.iloc[:,start_idx:]\n",
    "    \n",
    "    # reverse columns, component order\n",
    "    return transformed_df.iloc[:, ::-1]\n"
   ]
  },
  {
   "cell_type": "markdown",
   "metadata": {},
   "source": [
    "Now we can create a dataset where each customer is described by the top n principle components that we analyzed earlier. Each of these components is a linear combination of the original feature space. We can interpret each of these components by analyzing the makeup of the component, shown previously.\n",
    "\n",
    "### Define the `top_n` components to use in this transformed data\n",
    "\n",
    "Your code should return data and with as many columns as `top_n` components.\n",
    "\n",
    "You can also choose to add descriptive column names for this data; names that correspond to the component number or feature-level makeup."
   ]
  },
  {
   "cell_type": "code",
   "execution_count": 60,
   "metadata": {},
   "outputs": [
    {
     "data": {
      "text/html": [
       "<div>\n",
       "<style scoped>\n",
       "    .dataframe tbody tr th:only-of-type {\n",
       "        vertical-align: middle;\n",
       "    }\n",
       "\n",
       "    .dataframe tbody tr th {\n",
       "        vertical-align: top;\n",
       "    }\n",
       "\n",
       "    .dataframe thead th {\n",
       "        text-align: right;\n",
       "    }\n",
       "</style>\n",
       "<table border=\"1\" class=\"dataframe\">\n",
       "  <thead>\n",
       "    <tr style=\"text-align: right;\">\n",
       "      <th></th>\n",
       "      <th>c_1</th>\n",
       "      <th>c_2</th>\n",
       "      <th>c_3</th>\n",
       "      <th>c_4</th>\n",
       "      <th>c_5</th>\n",
       "      <th>c_6</th>\n",
       "      <th>c_7</th>\n",
       "      <th>c_8</th>\n",
       "      <th>c_9</th>\n",
       "      <th>c_10</th>\n",
       "    </tr>\n",
       "  </thead>\n",
       "  <tbody>\n",
       "    <tr>\n",
       "      <th>11235</th>\n",
       "      <td>-0.560959</td>\n",
       "      <td>0.125972</td>\n",
       "      <td>0.133270</td>\n",
       "      <td>-0.283193</td>\n",
       "      <td>0.770289</td>\n",
       "      <td>0.545223</td>\n",
       "      <td>0.772276</td>\n",
       "      <td>0.291723</td>\n",
       "      <td>0.544894</td>\n",
       "      <td>-0.712874</td>\n",
       "    </tr>\n",
       "    <tr>\n",
       "      <th>176</th>\n",
       "      <td>0.529364</td>\n",
       "      <td>1.019682</td>\n",
       "      <td>-0.816966</td>\n",
       "      <td>-0.049720</td>\n",
       "      <td>-0.594019</td>\n",
       "      <td>-0.755622</td>\n",
       "      <td>0.649897</td>\n",
       "      <td>-0.048670</td>\n",
       "      <td>0.399112</td>\n",
       "      <td>0.888831</td>\n",
       "    </tr>\n",
       "    <tr>\n",
       "      <th>4185</th>\n",
       "      <td>0.782251</td>\n",
       "      <td>-0.978071</td>\n",
       "      <td>0.407965</td>\n",
       "      <td>0.594037</td>\n",
       "      <td>0.183014</td>\n",
       "      <td>-0.470437</td>\n",
       "      <td>-0.039738</td>\n",
       "      <td>0.019753</td>\n",
       "      <td>0.546726</td>\n",
       "      <td>-0.661794</td>\n",
       "    </tr>\n",
       "    <tr>\n",
       "      <th>5161</th>\n",
       "      <td>0.742347</td>\n",
       "      <td>-0.879314</td>\n",
       "      <td>-0.620510</td>\n",
       "      <td>-0.301158</td>\n",
       "      <td>0.248062</td>\n",
       "      <td>-0.482766</td>\n",
       "      <td>0.628446</td>\n",
       "      <td>0.159329</td>\n",
       "      <td>0.435481</td>\n",
       "      <td>-0.886327</td>\n",
       "    </tr>\n",
       "    <tr>\n",
       "      <th>13583</th>\n",
       "      <td>0.835407</td>\n",
       "      <td>-0.899495</td>\n",
       "      <td>0.391060</td>\n",
       "      <td>-0.298418</td>\n",
       "      <td>-0.623410</td>\n",
       "      <td>0.526796</td>\n",
       "      <td>0.790402</td>\n",
       "      <td>0.142182</td>\n",
       "      <td>0.488273</td>\n",
       "      <td>0.753455</td>\n",
       "    </tr>\n",
       "    <tr>\n",
       "      <th>...</th>\n",
       "      <td>...</td>\n",
       "      <td>...</td>\n",
       "      <td>...</td>\n",
       "      <td>...</td>\n",
       "      <td>...</td>\n",
       "      <td>...</td>\n",
       "      <td>...</td>\n",
       "      <td>...</td>\n",
       "      <td>...</td>\n",
       "      <td>...</td>\n",
       "    </tr>\n",
       "    <tr>\n",
       "      <th>9819</th>\n",
       "      <td>0.508581</td>\n",
       "      <td>1.135181</td>\n",
       "      <td>0.198406</td>\n",
       "      <td>-0.002598</td>\n",
       "      <td>0.020724</td>\n",
       "      <td>0.511145</td>\n",
       "      <td>0.660480</td>\n",
       "      <td>0.201790</td>\n",
       "      <td>0.080048</td>\n",
       "      <td>0.049019</td>\n",
       "    </tr>\n",
       "    <tr>\n",
       "      <th>3102</th>\n",
       "      <td>0.584321</td>\n",
       "      <td>0.983347</td>\n",
       "      <td>0.370481</td>\n",
       "      <td>1.042956</td>\n",
       "      <td>0.037980</td>\n",
       "      <td>-0.477922</td>\n",
       "      <td>-0.070965</td>\n",
       "      <td>0.003365</td>\n",
       "      <td>0.578908</td>\n",
       "      <td>-0.631159</td>\n",
       "    </tr>\n",
       "    <tr>\n",
       "      <th>12624</th>\n",
       "      <td>-1.294865</td>\n",
       "      <td>-0.175446</td>\n",
       "      <td>0.420653</td>\n",
       "      <td>-0.156768</td>\n",
       "      <td>-0.615058</td>\n",
       "      <td>0.548920</td>\n",
       "      <td>-0.146291</td>\n",
       "      <td>-0.745405</td>\n",
       "      <td>-0.434156</td>\n",
       "      <td>-0.003031</td>\n",
       "    </tr>\n",
       "    <tr>\n",
       "      <th>3860</th>\n",
       "      <td>1.041175</td>\n",
       "      <td>-0.698020</td>\n",
       "      <td>0.349087</td>\n",
       "      <td>-0.777972</td>\n",
       "      <td>0.062290</td>\n",
       "      <td>0.715361</td>\n",
       "      <td>-0.406032</td>\n",
       "      <td>-0.755065</td>\n",
       "      <td>-0.452137</td>\n",
       "      <td>-0.118784</td>\n",
       "    </tr>\n",
       "    <tr>\n",
       "      <th>9960</th>\n",
       "      <td>-0.708196</td>\n",
       "      <td>0.153858</td>\n",
       "      <td>0.185922</td>\n",
       "      <td>-0.350387</td>\n",
       "      <td>1.010919</td>\n",
       "      <td>-0.243532</td>\n",
       "      <td>0.517335</td>\n",
       "      <td>0.049397</td>\n",
       "      <td>0.368779</td>\n",
       "      <td>0.428717</td>\n",
       "    </tr>\n",
       "  </tbody>\n",
       "</table>\n",
       "<p>2778 rows × 10 columns</p>\n",
       "</div>"
      ],
      "text/plain": [
       "            c_1       c_2       c_3       c_4       c_5       c_6       c_7  \\\n",
       "11235 -0.560959  0.125972  0.133270 -0.283193  0.770289  0.545223  0.772276   \n",
       "176    0.529364  1.019682 -0.816966 -0.049720 -0.594019 -0.755622  0.649897   \n",
       "4185   0.782251 -0.978071  0.407965  0.594037  0.183014 -0.470437 -0.039738   \n",
       "5161   0.742347 -0.879314 -0.620510 -0.301158  0.248062 -0.482766  0.628446   \n",
       "13583  0.835407 -0.899495  0.391060 -0.298418 -0.623410  0.526796  0.790402   \n",
       "...         ...       ...       ...       ...       ...       ...       ...   \n",
       "9819   0.508581  1.135181  0.198406 -0.002598  0.020724  0.511145  0.660480   \n",
       "3102   0.584321  0.983347  0.370481  1.042956  0.037980 -0.477922 -0.070965   \n",
       "12624 -1.294865 -0.175446  0.420653 -0.156768 -0.615058  0.548920 -0.146291   \n",
       "3860   1.041175 -0.698020  0.349087 -0.777972  0.062290  0.715361 -0.406032   \n",
       "9960  -0.708196  0.153858  0.185922 -0.350387  1.010919 -0.243532  0.517335   \n",
       "\n",
       "            c_8       c_9      c_10  \n",
       "11235  0.291723  0.544894 -0.712874  \n",
       "176   -0.048670  0.399112  0.888831  \n",
       "4185   0.019753  0.546726 -0.661794  \n",
       "5161   0.159329  0.435481 -0.886327  \n",
       "13583  0.142182  0.488273  0.753455  \n",
       "...         ...       ...       ...  \n",
       "9819   0.201790  0.080048  0.049019  \n",
       "3102   0.003365  0.578908 -0.631159  \n",
       "12624 -0.745405 -0.434156 -0.003031  \n",
       "3860  -0.755065 -0.452137 -0.118784  \n",
       "9960   0.049397  0.368779  0.428717  \n",
       "\n",
       "[2778 rows x 10 columns]"
      ]
     },
     "execution_count": 60,
     "metadata": {},
     "output_type": "execute_result"
    }
   ],
   "source": [
    "## Specify top n\n",
    "top_n = 10\n",
    "\n",
    "# call your function and create a new dataframe reduced_train_data\n",
    "#ustomers_transformed = create_transformed_df(train_pca, customer_scaled, n_top_components=top_n)\n",
    "customers_transformed = create_transformed_df(train_pca, reduced_train_data_2, n_top_components=top_n)\n",
    "\n",
    "## TODO: Add descriptive column names\n",
    "pca_cols = ['c_1','c_2','c_3','c_4','c_5','c_6','c_7','c_8','c_9','c_10']\n",
    "customers_transformed.columns = pca_cols\n",
    "\n",
    "# print result\n",
    "#customers_transformed.head()\n",
    "customers_transformed"
   ]
  },
  {
   "cell_type": "code",
   "execution_count": 62,
   "metadata": {},
   "outputs": [],
   "source": [
    "customers_transformed.to_csv(f\"s3://{bucket_name}/{folder}/km_batch_input.csv\", header=False)"
   ]
  },
  {
   "cell_type": "markdown",
   "metadata": {},
   "source": [
    "### Delete the Endpoint!\n",
    "\n",
    "Now that we've deployed the mode and created our new, transformed training data, we no longer need the PCA endpoint.\n",
    "\n",
    "As a clean up step, you should always delete your endpoints after you are done using them (and if you do not plan to deploy them to a website, for example)."
   ]
  },
  {
   "cell_type": "code",
   "execution_count": 63,
   "metadata": {},
   "outputs": [
    {
     "name": "stderr",
     "output_type": "stream",
     "text": [
      "The endpoint attribute has been renamed in sagemaker>=2.\n",
      "See: https://sagemaker.readthedocs.io/en/stable/v2.html for details.\n"
     ]
    }
   ],
   "source": [
    "# delete predictor endpoint - cost management\n",
    "session.delete_endpoint(pca_predictor.endpoint)"
   ]
  },
  {
   "cell_type": "markdown",
   "metadata": {},
   "source": [
    "---\n",
    "# Customer Segmentation \n",
    "\n",
    "Now, you’ll use the unsupervised clustering algorithm, k-means, to segment Customers using their PCA attributes, which are in the transformed DataFrame we just created. K-means is a clustering algorithm that identifies clusters of similar data points based on their component makeup. Since we have lots of customers and 326 attributes in the original dataset, the large feature space may have made it difficult to cluster the customers effectively. Instead, we have reduced the feature space to 10 PCA components, and we’ll cluster on this transformed dataset."
   ]
  },
  {
   "cell_type": "markdown",
   "metadata": {},
   "source": [
    "### Define a k-means model\n",
    "\n",
    "Your task will be to instantiate a k-means model. A `KMeans` estimator requires a number of parameters to be instantiated, which allow us to specify the type of training instance to use, and the model hyperparameters. \n",
    "\n",
    "You can read about the required parameters, in the [`KMeans` documentation](https://sagemaker.readthedocs.io/en/stable/kmeans.html); note that not all of the possible parameters are required.\n"
   ]
  },
  {
   "cell_type": "markdown",
   "metadata": {},
   "source": [
    "### Choosing a \"Good\" K\n",
    "\n",
    "One method for choosing a \"good\" k, is to choose based on empirical data. A bad k would be one so *high* that only one or two very close data points are near it, and another bad k would be one so *low* that data points are really far away from the centers.\n",
    "\n",
    "You want to select a k such that data points in a single cluster are close together but that there are enough clusters to effectively separate the data. You can approximate this separation by measuring how close your data points are to each cluster center; the average centroid distance between cluster points and a centroid. After trying several values for k, the centroid distance typically reaches some \"elbow\"; it stops decreasing at a sharp rate and this indicates a good value of k. "
   ]
  },
  {
   "cell_type": "code",
   "execution_count": 64,
   "metadata": {},
   "outputs": [
    {
     "name": "stderr",
     "output_type": "stream",
     "text": [
      "train_instance_count has been renamed in sagemaker>=2.\n",
      "See: https://sagemaker.readthedocs.io/en/stable/v2.html for details.\n",
      "train_instance_type has been renamed in sagemaker>=2.\n",
      "See: https://sagemaker.readthedocs.io/en/stable/v2.html for details.\n"
     ]
    }
   ],
   "source": [
    "# define a KMeans estimator\n",
    "# select cluster to 8\n",
    "from sagemaker import KMeans\n",
    "\n",
    "NUM_CLUSTERS = 5\n",
    "\n",
    "km = KMeans(role=role,\n",
    "            train_instance_count=1,\n",
    "            train_instance_type='ml.c4.xlarge',\n",
    "            output_path=output_path, # specified, above\n",
    "            k=NUM_CLUSTERS,\n",
    "            sagemaker_session=session)"
   ]
  },
  {
   "cell_type": "markdown",
   "metadata": {},
   "source": [
    "### Step : Create formatted, k-means training data\n",
    "\n",
    "Just as before, you should convert the `customers_transformed` df into a numpy array and then into a RecordSet. This is the required format for passing training data into a `KMeans` model."
   ]
  },
  {
   "cell_type": "code",
   "execution_count": 65,
   "metadata": {},
   "outputs": [],
   "source": [
    "# convert the transformed dataframe into record_set data\n",
    "customers_transformed_np = customers_transformed.values.astype('float32')\n",
    "\n",
    "# convert to RecordSet format\n",
    "formatted_train_data = km.record_set(customers_transformed_np)"
   ]
  },
  {
   "cell_type": "markdown",
   "metadata": {},
   "source": [
    "---\n",
    "## Train the k-means model\n",
    "\n",
    "Pass in the formatted training data and train the k-means model.\n",
    "\n",
    "note: Check out the profiler-report.ipynb under kmean-job folder"
   ]
  },
  {
   "cell_type": "code",
   "execution_count": 66,
   "metadata": {},
   "outputs": [
    {
     "name": "stderr",
     "output_type": "stream",
     "text": [
      "Defaulting to the only supported framework/algorithm version: 1. Ignoring framework/algorithm version: 1.\n",
      "Defaulting to the only supported framework/algorithm version: 1. Ignoring framework/algorithm version: 1.\n"
     ]
    },
    {
     "name": "stdout",
     "output_type": "stream",
     "text": [
      "2022-05-02 20:24:18 Starting - Starting the training job...ProfilerReport-1651523058: InProgress\n",
      "...\n",
      "2022-05-02 20:25:03 Starting - Preparing the instances for training...............\n",
      "2022-05-02 20:27:46 Downloading - Downloading input data\n",
      "2022-05-02 20:27:46 Training - Training image download completed. Training in progress..\u001b[34mDocker entrypoint called with argument(s): train\u001b[0m\n",
      "\u001b[34mRunning default environment configuration script\u001b[0m\n",
      "\u001b[34m[05/02/2022 20:27:50 INFO 140607784367936] Reading default configuration from /opt/amazon/lib/python3.7/site-packages/algorithm/resources/default-input.json: {'init_method': 'random', 'mini_batch_size': '5000', 'epochs': '1', 'extra_center_factor': 'auto', 'local_lloyd_max_iter': '300', 'local_lloyd_tol': '0.0001', 'local_lloyd_init_method': 'kmeans++', 'local_lloyd_num_trials': 'auto', 'half_life_time_size': '0', 'eval_metrics': '[\"msd\"]', 'force_dense': 'true', '_disable_wait_to_read': 'false', '_enable_profiler': 'false', '_kvstore': 'auto', '_log_level': 'info', '_num_gpus': 'auto', '_num_kv_servers': '1', '_num_slices': '1', '_tuning_objective_metric': ''}\u001b[0m\n",
      "\u001b[34m[05/02/2022 20:27:50 INFO 140607784367936] Merging with provided configuration from /opt/ml/input/config/hyperparameters.json: {'feature_dim': '10', 'force_dense': 'True', 'k': '5'}\u001b[0m\n",
      "\u001b[34m[05/02/2022 20:27:50 INFO 140607784367936] Final configuration: {'init_method': 'random', 'mini_batch_size': '5000', 'epochs': '1', 'extra_center_factor': 'auto', 'local_lloyd_max_iter': '300', 'local_lloyd_tol': '0.0001', 'local_lloyd_init_method': 'kmeans++', 'local_lloyd_num_trials': 'auto', 'half_life_time_size': '0', 'eval_metrics': '[\"msd\"]', 'force_dense': 'True', '_disable_wait_to_read': 'false', '_enable_profiler': 'false', '_kvstore': 'auto', '_log_level': 'info', '_num_gpus': 'auto', '_num_kv_servers': '1', '_num_slices': '1', '_tuning_objective_metric': '', 'feature_dim': '10', 'k': '5'}\u001b[0m\n",
      "\u001b[34m[05/02/2022 20:27:53 WARNING 140607784367936] Loggers have already been setup.\u001b[0m\n",
      "\u001b[34m[05/02/2022 20:27:53 INFO 140607784367936 integration.py:636] worker started\u001b[0m\n",
      "\u001b[34m[05/02/2022 20:27:53 INFO 140607784367936] Final configuration: {'init_method': 'random', 'mini_batch_size': '5000', 'epochs': '1', 'extra_center_factor': 'auto', 'local_lloyd_max_iter': '300', 'local_lloyd_tol': '0.0001', 'local_lloyd_init_method': 'kmeans++', 'local_lloyd_num_trials': 'auto', 'half_life_time_size': '0', 'eval_metrics': '[\"msd\"]', 'force_dense': 'True', '_disable_wait_to_read': 'false', '_enable_profiler': 'false', '_kvstore': 'auto', '_log_level': 'info', '_num_gpus': 'auto', '_num_kv_servers': '1', '_num_slices': '1', '_tuning_objective_metric': '', 'feature_dim': '10', 'k': '5'}\u001b[0m\n",
      "\u001b[34m[05/02/2022 20:27:53 WARNING 140607784367936] Loggers have already been setup.\u001b[0m\n",
      "\u001b[34mProcess 1 is a worker.\u001b[0m\n",
      "\u001b[34m[05/02/2022 20:27:53 INFO 140607784367936] Using default worker.\u001b[0m\n",
      "\u001b[34m[05/02/2022 20:27:53 INFO 140607784367936] Loaded iterator creator application/x-recordio-protobuf for content type ('application/x-recordio-protobuf', '1.0')\u001b[0m\n",
      "\u001b[34m[05/02/2022 20:27:53 INFO 140607784367936] Create Store: local\u001b[0m\n",
      "\u001b[34m[05/02/2022 20:27:53 INFO 140607784367936] nvidia-smi: took 0.037 seconds to run.\u001b[0m\n",
      "\u001b[34m[05/02/2022 20:27:53 INFO 140607784367936] nvidia-smi identified 0 GPUs.\u001b[0m\n",
      "\u001b[34m[05/02/2022 20:27:53 INFO 140607784367936] Number of GPUs being used: 0\u001b[0m\n",
      "\u001b[34m[05/02/2022 20:27:53 INFO 140607784367936] Checkpoint loading and saving are disabled.\u001b[0m\n",
      "\u001b[34m[05/02/2022 20:27:53 INFO 140607784367936] Setting up with params: {'init_method': 'random', 'mini_batch_size': '5000', 'epochs': '1', 'extra_center_factor': 'auto', 'local_lloyd_max_iter': '300', 'local_lloyd_tol': '0.0001', 'local_lloyd_init_method': 'kmeans++', 'local_lloyd_num_trials': 'auto', 'half_life_time_size': '0', 'eval_metrics': '[\"msd\"]', 'force_dense': 'True', '_disable_wait_to_read': 'false', '_enable_profiler': 'false', '_kvstore': 'auto', '_log_level': 'info', '_num_gpus': 'auto', '_num_kv_servers': '1', '_num_slices': '1', '_tuning_objective_metric': '', 'feature_dim': '10', 'k': '5'}\u001b[0m\n",
      "\u001b[34m[05/02/2022 20:27:53 INFO 140607784367936] 'extra_center_factor' was set to 'auto', evaluated to 10.\u001b[0m\n",
      "\u001b[34m[05/02/2022 20:27:53 INFO 140607784367936] Number of GPUs being used: 0\u001b[0m\n",
      "\u001b[34m[05/02/2022 20:27:53 INFO 140607784367936] number of center slices 1\u001b[0m\n",
      "\u001b[34m[05/02/2022 20:27:53 WARNING 140607784367936] Batch size 5000 is bigger than the first batch data. Effective batch size used to initialize is 2778\u001b[0m\n",
      "\u001b[34m#metrics {\"StartTime\": 1651523273.9129791, \"EndTime\": 1651523273.91302, \"Dimensions\": {\"Algorithm\": \"AWS/KMeansWebscale\", \"Host\": \"algo-1\", \"Operation\": \"training\", \"Meta\": \"init_train_data_iter\"}, \"Metrics\": {\"Total Records Seen\": {\"sum\": 2778.0, \"count\": 1, \"min\": 2778, \"max\": 2778}, \"Total Batches Seen\": {\"sum\": 1.0, \"count\": 1, \"min\": 1, \"max\": 1}, \"Max Records Seen Between Resets\": {\"sum\": 2778.0, \"count\": 1, \"min\": 2778, \"max\": 2778}, \"Max Batches Seen Between Resets\": {\"sum\": 1.0, \"count\": 1, \"min\": 1, \"max\": 1}, \"Reset Count\": {\"sum\": 0.0, \"count\": 1, \"min\": 0, \"max\": 0}, \"Number of Records Since Last Reset\": {\"sum\": 2778.0, \"count\": 1, \"min\": 2778, \"max\": 2778}, \"Number of Batches Since Last Reset\": {\"sum\": 1.0, \"count\": 1, \"min\": 1, \"max\": 1}}}\u001b[0m\n",
      "\u001b[34m[2022-05-02 20:27:53.913] [tensorio] [info] epoch_stats={\"data_pipeline\": \"/opt/ml/input/data/train\", \"epoch\": 0, \"duration\": 60, \"num_examples\": 1, \"num_bytes\": 177792}\u001b[0m\n",
      "\u001b[34m[2022-05-02 20:27:54.014] [tensorio] [info] epoch_stats={\"data_pipeline\": \"/opt/ml/input/data/train\", \"epoch\": 1, \"duration\": 96, \"num_examples\": 1, \"num_bytes\": 177792}\u001b[0m\n",
      "\u001b[34m[05/02/2022 20:27:54 INFO 140607784367936] processed a total of 2778 examples\u001b[0m\n",
      "\u001b[34m[05/02/2022 20:27:54 INFO 140607784367936] #progress_metric: host=algo-1, completed 100.0 % of epochs\u001b[0m\n",
      "\u001b[34m#metrics {\"StartTime\": 1651523273.9133613, \"EndTime\": 1651523274.014672, \"Dimensions\": {\"Algorithm\": \"AWS/KMeansWebscale\", \"Host\": \"algo-1\", \"Operation\": \"training\", \"epoch\": 0, \"Meta\": \"training_data_iter\"}, \"Metrics\": {\"Total Records Seen\": {\"sum\": 5556.0, \"count\": 1, \"min\": 5556, \"max\": 5556}, \"Total Batches Seen\": {\"sum\": 2.0, \"count\": 1, \"min\": 2, \"max\": 2}, \"Max Records Seen Between Resets\": {\"sum\": 2778.0, \"count\": 1, \"min\": 2778, \"max\": 2778}, \"Max Batches Seen Between Resets\": {\"sum\": 1.0, \"count\": 1, \"min\": 1, \"max\": 1}, \"Reset Count\": {\"sum\": 1.0, \"count\": 1, \"min\": 1, \"max\": 1}, \"Number of Records Since Last Reset\": {\"sum\": 2778.0, \"count\": 1, \"min\": 2778, \"max\": 2778}, \"Number of Batches Since Last Reset\": {\"sum\": 1.0, \"count\": 1, \"min\": 1, \"max\": 1}}}\u001b[0m\n",
      "\u001b[34m[05/02/2022 20:27:54 INFO 140607784367936] #throughput_metric: host=algo-1, train throughput=27386.174351645976 records/second\u001b[0m\n",
      "\u001b[34m[05/02/2022 20:27:54 WARNING 140607784367936] wait_for_all_workers will not sync workers since the kv store is not running distributed\u001b[0m\n",
      "\u001b[34m[05/02/2022 20:27:54 INFO 140607784367936] shrinking 50 centers into 5\u001b[0m\n",
      "\u001b[34m[05/02/2022 20:27:54 INFO 140607784367936] local kmeans attempt #0. Current mean square distance 0.976144\u001b[0m\n",
      "\u001b[34m[05/02/2022 20:27:54 INFO 140607784367936] local kmeans attempt #1. Current mean square distance 0.970973\u001b[0m\n",
      "\u001b[34m[05/02/2022 20:27:54 INFO 140607784367936] local kmeans attempt #2. Current mean square distance 0.958548\u001b[0m\n",
      "\u001b[34m[05/02/2022 20:27:54 INFO 140607784367936] local kmeans attempt #3. Current mean square distance 0.969989\u001b[0m\n",
      "\u001b[34m[05/02/2022 20:27:54 INFO 140607784367936] local kmeans attempt #4. Current mean square distance 0.982857\u001b[0m\n",
      "\u001b[34m[05/02/2022 20:27:54 INFO 140607784367936] local kmeans attempt #5. Current mean square distance 0.969900\u001b[0m\n",
      "\u001b[34m[05/02/2022 20:27:54 INFO 140607784367936] local kmeans attempt #6. Current mean square distance 0.946898\u001b[0m\n",
      "\u001b[34m[05/02/2022 20:27:54 INFO 140607784367936] local kmeans attempt #7. Current mean square distance 1.013358\u001b[0m\n",
      "\u001b[34m[05/02/2022 20:27:54 INFO 140607784367936] local kmeans attempt #8. Current mean square distance 0.958548\u001b[0m\n",
      "\u001b[34m[05/02/2022 20:27:54 INFO 140607784367936] local kmeans attempt #9. Current mean square distance 1.012160\u001b[0m\n",
      "\u001b[34m[05/02/2022 20:27:54 INFO 140607784367936] finished shrinking process. Mean Square Distance = 1\u001b[0m\n",
      "\u001b[34m[05/02/2022 20:27:54 INFO 140607784367936] #quality_metric: host=algo-1, train msd <loss>=0.9468979239463806\u001b[0m\n",
      "\u001b[34m[05/02/2022 20:27:54 INFO 140607784367936] compute all data-center distances: inner product took: 41.6677%, (0.044895 secs)\u001b[0m\n",
      "\u001b[34m[05/02/2022 20:27:54 INFO 140607784367936] gradient: cluster center took: 11.9684%, (0.012895 secs)\u001b[0m\n",
      "\u001b[34m[05/02/2022 20:27:54 INFO 140607784367936] batch data loading with context took: 8.4960%, (0.009154 secs)\u001b[0m\n",
      "\u001b[34m[05/02/2022 20:27:54 INFO 140607784367936] compute all data-center distances: point norm took: 8.0885%, (0.008715 secs)\u001b[0m\n",
      "\u001b[34m[05/02/2022 20:27:54 INFO 140607784367936] collect from kv store took: 6.9745%, (0.007515 secs)\u001b[0m\n",
      "\u001b[34m[05/02/2022 20:27:54 INFO 140607784367936] splitting centers key-value pair took: 6.8533%, (0.007384 secs)\u001b[0m\n",
      "\u001b[34m[05/02/2022 20:27:54 INFO 140607784367936] gradient: one_hot took: 5.9923%, (0.006456 secs)\u001b[0m\n",
      "\u001b[34m[05/02/2022 20:27:54 INFO 140607784367936] update state and report convergance took: 4.3077%, (0.004641 secs)\u001b[0m\n",
      "\u001b[34m[05/02/2022 20:27:54 INFO 140607784367936] predict compute msd took: 4.2276%, (0.004555 secs)\u001b[0m\n",
      "\u001b[34m[05/02/2022 20:27:54 INFO 140607784367936] gradient: cluster size  took: 0.9730%, (0.001048 secs)\u001b[0m\n",
      "\u001b[34m[05/02/2022 20:27:54 INFO 140607784367936] update set-up time took: 0.2261%, (0.000244 secs)\u001b[0m\n",
      "\u001b[34m[05/02/2022 20:27:54 INFO 140607784367936] compute all data-center distances: center norm took: 0.2005%, (0.000216 secs)\u001b[0m\n",
      "\u001b[34m[05/02/2022 20:27:54 INFO 140607784367936] predict minus dist took: 0.0246%, (0.000026 secs)\u001b[0m\n",
      "\u001b[34m[05/02/2022 20:27:54 INFO 140607784367936] TOTAL took: 0.10774517059326172\u001b[0m\n",
      "\u001b[34m[05/02/2022 20:27:54 INFO 140607784367936] Number of GPUs being used: 0\u001b[0m\n",
      "\u001b[34m#metrics {\"StartTime\": 1651523273.852448, \"EndTime\": 1651523274.2891035, \"Dimensions\": {\"Algorithm\": \"AWS/KMeansWebscale\", \"Host\": \"algo-1\", \"Operation\": \"training\"}, \"Metrics\": {\"initialize.time\": {\"sum\": 47.29866981506348, \"count\": 1, \"min\": 47.29866981506348, \"max\": 47.29866981506348}, \"epochs\": {\"sum\": 1.0, \"count\": 1, \"min\": 1, \"max\": 1}, \"update.time\": {\"sum\": 101.05681419372559, \"count\": 1, \"min\": 101.05681419372559, \"max\": 101.05681419372559}, \"_shrink.time\": {\"sum\": 269.9120044708252, \"count\": 1, \"min\": 269.9120044708252, \"max\": 269.9120044708252}, \"finalize.time\": {\"sum\": 271.84271812438965, \"count\": 1, \"min\": 271.84271812438965, \"max\": 271.84271812438965}, \"model.serialize.time\": {\"sum\": 2.1820068359375, \"count\": 1, \"min\": 2.1820068359375, \"max\": 2.1820068359375}}}\u001b[0m\n",
      "\u001b[34m[05/02/2022 20:27:54 INFO 140607784367936] Test data is not provided.\u001b[0m\n",
      "\u001b[34m#metrics {\"StartTime\": 1651523274.2892425, \"EndTime\": 1651523274.289524, \"Dimensions\": {\"Algorithm\": \"AWS/KMeansWebscale\", \"Host\": \"algo-1\", \"Operation\": \"training\"}, \"Metrics\": {\"setuptime\": {\"sum\": 3.6323070526123047, \"count\": 1, \"min\": 3.6323070526123047, \"max\": 3.6323070526123047}, \"totaltime\": {\"sum\": 503.84998321533203, \"count\": 1, \"min\": 503.84998321533203, \"max\": 503.84998321533203}}}\u001b[0m\n",
      "\u001b[34m[05/02/2022 20:27:54 INFO 140607784367936 integration.py:636] worker closed\u001b[0m\n",
      "\n",
      "2022-05-02 20:28:12 Uploading - Uploading generated training model\n",
      "2022-05-02 20:28:12 Completed - Training job completed\n",
      "Training seconds: 43\n",
      "Billable seconds: 43\n",
      "CPU times: user 548 ms, sys: 42.5 ms, total: 591 ms\n",
      "Wall time: 4min 12s\n"
     ]
    }
   ],
   "source": [
    "%%time\n",
    "# train kmeans - this takes around 4 min\n",
    "km.fit(formatted_train_data)"
   ]
  },
  {
   "cell_type": "markdown",
   "metadata": {},
   "source": [
    "---\n",
    "### Synchronous Inference: Deploy the k-means model for real-time inference\n",
    "\n",
    "Deploy the trained model to create a `kmeans_predictor`"
   ]
  },
  {
   "cell_type": "code",
   "execution_count": 67,
   "metadata": {},
   "outputs": [
    {
     "name": "stderr",
     "output_type": "stream",
     "text": [
      "Defaulting to the only supported framework/algorithm version: 1. Ignoring framework/algorithm version: 1.\n"
     ]
    },
    {
     "name": "stdout",
     "output_type": "stream",
     "text": [
      "----------!CPU times: user 198 ms, sys: 24.1 ms, total: 222 ms\n",
      "Wall time: 5min 2s\n"
     ]
    }
   ],
   "source": [
    "%%time\n",
    "# deploy the model to create a predictor ml.c4.xlarge\n",
    "kmeans_predictor = km.deploy(initial_instance_count=1,\n",
    "                             instance_type='ml.t2.medium')\n",
    "\n",
    "#if running from a disconnected notebook\n",
    "# kmeans_predictor=sagemaker.KmeansPredictor(endpoint_name=\"<your-endpoint-name>\")"
   ]
  },
  {
   "cell_type": "code",
   "execution_count": 68,
   "metadata": {},
   "outputs": [
    {
     "data": {
      "text/plain": [
       "<sagemaker.amazon.kmeans.KMeansPredictor at 0x7f0bcac80a10>"
      ]
     },
     "execution_count": 68,
     "metadata": {},
     "output_type": "execute_result"
    }
   ],
   "source": [
    "kmeans_predictor"
   ]
  },
  {
   "cell_type": "markdown",
   "metadata": {},
   "source": [
    "###  Pass in the training data and assign predicted cluster labels\n",
    "\n",
    "After deploying the model, you can pass in the k-means training data, as a numpy array, and get resultant, predicted cluster labels for each data point."
   ]
  },
  {
   "cell_type": "code",
   "execution_count": 69,
   "metadata": {},
   "outputs": [],
   "source": [
    "# get the predicted clusters for all the kmeans training data reduced_train_data_np\n",
    "\n",
    "cluster_info = kmeans_predictor.predict(customers_transformed_np)"
   ]
  },
  {
   "cell_type": "code",
   "execution_count": null,
   "metadata": {},
   "outputs": [],
   "source": []
  },
  {
   "cell_type": "markdown",
   "metadata": {},
   "source": [
    "---\n",
    "### Batch Inference - Amazon SageMaker Batch Transform\n",
    "\n",
    "\n",
    "Use Batch Transform when you need prediction for an entire dataset - one after another\n",
    "\n",
    "For this, we need to specify:\n",
    "- Hardware specification (instance count and type).  Prediction is embarassingly parallel, so feel free to test this with multiple instances, but since our dataset is not enormous, we'll stick to one.\n",
    "- `strategy`: Which determines how records should be batched into each prediction request within the batch transform job.  'MultiRecord' may be faster, but some use cases may require 'SingleRecord'.\n",
    "- `output_path`: The S3 location for batch transform to be output.  Note, file(s) will be named with '.out' suffixed to the input file(s) names.  In our case this will be 'train.csv.out'.  Note that in this case, multiple batch transform runs will overwrite existing values unless this is updated appropriately.\n"
   ]
  },
  {
   "cell_type": "code",
   "execution_count": 70,
   "metadata": {},
   "outputs": [],
   "source": [
    "'''\n",
    "In the previous example we used the model variable to access the transformed, here we will explictly specify model\n",
    "and inference to simulate a situation where model training and inference will be done in separate notebooks or at \n",
    "separate times.\n",
    "'''\n",
    "km_model = session.create_model_from_job(\n",
    "    km._current_job_name, name=\"{}-test\".format(km._current_job_name)\n",
    ")"
   ]
  },
  {
   "cell_type": "code",
   "execution_count": 71,
   "metadata": {},
   "outputs": [
    {
     "name": "stdout",
     "output_type": "stream",
     "text": [
      "......................................\u001b[34mDocker entrypoint called with argument(s): serve\u001b[0m\n",
      "\u001b[34mRunning default environment configuration script\u001b[0m\n",
      "\u001b[34m[05/02/2022 20:39:39 INFO 140020492883776] Memory profiler is not enabled by the environment variable ENABLE_PROFILER.\u001b[0m\n",
      "\u001b[34m[05/02/2022 20:39:42 WARNING 140020492883776] Loggers have already been setup.\u001b[0m\n",
      "\u001b[34m[05/02/2022 20:39:42 INFO 140020492883776] loading entry points\u001b[0m\n",
      "\u001b[34m[05/02/2022 20:39:42 INFO 140020492883776] Loaded iterator creator application/x-recordio-protobuf for content type ('application/x-recordio-protobuf', '1.0')\u001b[0m\n",
      "\u001b[34m[05/02/2022 20:39:42 INFO 140020492883776] loaded request iterator application/json\u001b[0m\n",
      "\u001b[34m[05/02/2022 20:39:42 INFO 140020492883776] loaded request iterator application/jsonlines\u001b[0m\n",
      "\u001b[34m[05/02/2022 20:39:42 INFO 140020492883776] loaded request iterator application/x-recordio-protobuf\u001b[0m\n",
      "\u001b[34m[05/02/2022 20:39:42 INFO 140020492883776] loaded request iterator text/csv\u001b[0m\n",
      "\u001b[34m[05/02/2022 20:39:42 INFO 140020492883776] loaded response encoder application/json\u001b[0m\n",
      "\u001b[34m[05/02/2022 20:39:42 INFO 140020492883776] loaded response encoder application/jsonlines\u001b[0m\n",
      "\u001b[34m[05/02/2022 20:39:42 INFO 140020492883776] loaded response encoder application/x-recordio-protobuf\u001b[0m\n",
      "\u001b[34m[05/02/2022 20:39:42 INFO 140020492883776] loaded response encoder text/csv\u001b[0m\n",
      "\u001b[34m[05/02/2022 20:39:42 INFO 140020492883776] loaded entry point class algorithm:model\u001b[0m\n",
      "\u001b[34m[05/02/2022 20:39:42 INFO 140020492883776] Loaded iterator creator application/x-recordio-protobuf for content type ('application/x-recordio-protobuf', '1.0')\u001b[0m\n",
      "\u001b[34m[05/02/2022 20:39:42 INFO 140020492883776] Number of server workers: 4\u001b[0m\n",
      "\u001b[34m[2022-05-02 20:39:42 +0000] [1] [INFO] Starting gunicorn 20.1.0\u001b[0m\n",
      "\u001b[34m[2022-05-02 20:39:42 +0000] [1] [INFO] Listening at: http://0.0.0.0:8080 (1)\u001b[0m\n",
      "\u001b[34m[2022-05-02 20:39:42 +0000] [1] [INFO] Using worker: sync\u001b[0m\n",
      "\u001b[34m[2022-05-02 20:39:42 +0000] [45] [INFO] Booting worker with pid: 45\u001b[0m\n",
      "\u001b[34m[05/02/2022 20:39:42 INFO 140020492883776] loading model...\u001b[0m\n",
      "\u001b[34m[05/02/2022 20:39:42 WARNING 140020492883776] Requesting context without setting the requested num of gpus. Using 'auto'\u001b[0m\n",
      "\u001b[35mDocker entrypoint called with argument(s): serve\u001b[0m\n",
      "\u001b[35mRunning default environment configuration script\u001b[0m\n",
      "\u001b[35m[05/02/2022 20:39:39 INFO 140020492883776] Memory profiler is not enabled by the environment variable ENABLE_PROFILER.\u001b[0m\n",
      "\u001b[35m[05/02/2022 20:39:42 WARNING 140020492883776] Loggers have already been setup.\u001b[0m\n",
      "\u001b[35m[05/02/2022 20:39:42 INFO 140020492883776] loading entry points\u001b[0m\n",
      "\u001b[35m[05/02/2022 20:39:42 INFO 140020492883776] Loaded iterator creator application/x-recordio-protobuf for content type ('application/x-recordio-protobuf', '1.0')\u001b[0m\n",
      "\u001b[35m[05/02/2022 20:39:42 INFO 140020492883776] loaded request iterator application/json\u001b[0m\n",
      "\u001b[35m[05/02/2022 20:39:42 INFO 140020492883776] loaded request iterator application/jsonlines\u001b[0m\n",
      "\u001b[35m[05/02/2022 20:39:42 INFO 140020492883776] loaded request iterator application/x-recordio-protobuf\u001b[0m\n",
      "\u001b[35m[05/02/2022 20:39:42 INFO 140020492883776] loaded request iterator text/csv\u001b[0m\n",
      "\u001b[35m[05/02/2022 20:39:42 INFO 140020492883776] loaded response encoder application/json\u001b[0m\n",
      "\u001b[35m[05/02/2022 20:39:42 INFO 140020492883776] loaded response encoder application/jsonlines\u001b[0m\n",
      "\u001b[35m[05/02/2022 20:39:42 INFO 140020492883776] loaded response encoder application/x-recordio-protobuf\u001b[0m\n",
      "\u001b[35m[05/02/2022 20:39:42 INFO 140020492883776] loaded response encoder text/csv\u001b[0m\n",
      "\u001b[35m[05/02/2022 20:39:42 INFO 140020492883776] loaded entry point class algorithm:model\u001b[0m\n",
      "\u001b[35m[05/02/2022 20:39:42 INFO 140020492883776] Loaded iterator creator application/x-recordio-protobuf for content type ('application/x-recordio-protobuf', '1.0')\u001b[0m\n",
      "\u001b[35m[05/02/2022 20:39:42 INFO 140020492883776] Number of server workers: 4\u001b[0m\n",
      "\u001b[35m[2022-05-02 20:39:42 +0000] [1] [INFO] Starting gunicorn 20.1.0\u001b[0m\n",
      "\u001b[35m[2022-05-02 20:39:42 +0000] [1] [INFO] Listening at: http://0.0.0.0:8080 (1)\u001b[0m\n",
      "\u001b[35m[2022-05-02 20:39:42 +0000] [1] [INFO] Using worker: sync\u001b[0m\n",
      "\u001b[35m[2022-05-02 20:39:42 +0000] [45] [INFO] Booting worker with pid: 45\u001b[0m\n",
      "\u001b[35m[05/02/2022 20:39:42 INFO 140020492883776] loading model...\u001b[0m\n",
      "\u001b[35m[05/02/2022 20:39:42 WARNING 140020492883776] Requesting context without setting the requested num of gpus. Using 'auto'\u001b[0m\n",
      "\u001b[34m[2022-05-02 20:39:43 +0000] [66] [INFO] Booting worker with pid: 66\u001b[0m\n",
      "\u001b[34m[05/02/2022 20:39:43 INFO 140020492883776] loading model...\u001b[0m\n",
      "\u001b[34m[05/02/2022 20:39:43 WARNING 140020492883776] Requesting context without setting the requested num of gpus. Using 'auto'\u001b[0m\n",
      "\u001b[34m[05/02/2022 20:39:43 INFO 140020492883776] nvidia-smi: took 0.032 seconds to run.\u001b[0m\n",
      "\u001b[34m[05/02/2022 20:39:43 INFO 140020492883776] nvidia-smi identified 0 GPUs.\u001b[0m\n",
      "\u001b[34m[05/02/2022 20:39:43 INFO 140020492883776] Number of GPUs being used: 0\u001b[0m\n",
      "\u001b[34m[05/02/2022 20:39:43 INFO 140020492883776] ...model loaded.\u001b[0m\n",
      "\u001b[34m[2022-05-02 20:39:43 +0000] [87] [INFO] Booting worker with pid: 87\u001b[0m\n",
      "\u001b[34m[05/02/2022 20:39:43 INFO 140020492883776] loading model...\u001b[0m\n",
      "\u001b[34m[05/02/2022 20:39:43 WARNING 140020492883776] Requesting context without setting the requested num of gpus. Using 'auto'\u001b[0m\n",
      "\u001b[34m[05/02/2022 20:39:43 INFO 140020492883776] nvidia-smi: took 0.032 seconds to run.\u001b[0m\n",
      "\u001b[34m[05/02/2022 20:39:43 INFO 140020492883776] nvidia-smi identified 0 GPUs.\u001b[0m\n",
      "\u001b[34m[05/02/2022 20:39:43 INFO 140020492883776] Number of GPUs being used: 0\u001b[0m\n",
      "\u001b[34m[05/02/2022 20:39:43 INFO 140020492883776] ...model loaded.\u001b[0m\n",
      "\u001b[34m[05/02/2022 20:39:43 INFO 140020492883776] nvidia-smi: took 0.032 seconds to run.\u001b[0m\n",
      "\u001b[34m[05/02/2022 20:39:43 INFO 140020492883776] nvidia-smi identified 0 GPUs.\u001b[0m\n",
      "\u001b[35m[2022-05-02 20:39:43 +0000] [66] [INFO] Booting worker with pid: 66\u001b[0m\n",
      "\u001b[35m[05/02/2022 20:39:43 INFO 140020492883776] loading model...\u001b[0m\n",
      "\u001b[35m[05/02/2022 20:39:43 WARNING 140020492883776] Requesting context without setting the requested num of gpus. Using 'auto'\u001b[0m\n",
      "\u001b[35m[05/02/2022 20:39:43 INFO 140020492883776] nvidia-smi: took 0.032 seconds to run.\u001b[0m\n",
      "\u001b[35m[05/02/2022 20:39:43 INFO 140020492883776] nvidia-smi identified 0 GPUs.\u001b[0m\n",
      "\u001b[35m[05/02/2022 20:39:43 INFO 140020492883776] Number of GPUs being used: 0\u001b[0m\n",
      "\u001b[35m[05/02/2022 20:39:43 INFO 140020492883776] ...model loaded.\u001b[0m\n",
      "\u001b[35m[2022-05-02 20:39:43 +0000] [87] [INFO] Booting worker with pid: 87\u001b[0m\n",
      "\u001b[35m[05/02/2022 20:39:43 INFO 140020492883776] loading model...\u001b[0m\n",
      "\u001b[35m[05/02/2022 20:39:43 WARNING 140020492883776] Requesting context without setting the requested num of gpus. Using 'auto'\u001b[0m\n",
      "\u001b[35m[05/02/2022 20:39:43 INFO 140020492883776] nvidia-smi: took 0.032 seconds to run.\u001b[0m\n",
      "\u001b[35m[05/02/2022 20:39:43 INFO 140020492883776] nvidia-smi identified 0 GPUs.\u001b[0m\n",
      "\u001b[35m[05/02/2022 20:39:43 INFO 140020492883776] Number of GPUs being used: 0\u001b[0m\n",
      "\u001b[35m[05/02/2022 20:39:43 INFO 140020492883776] ...model loaded.\u001b[0m\n",
      "\u001b[35m[05/02/2022 20:39:43 INFO 140020492883776] nvidia-smi: took 0.032 seconds to run.\u001b[0m\n",
      "\u001b[35m[05/02/2022 20:39:43 INFO 140020492883776] nvidia-smi identified 0 GPUs.\u001b[0m\n",
      "\u001b[34m[05/02/2022 20:39:43 INFO 140020492883776] Number of GPUs being used: 0\u001b[0m\n",
      "\u001b[34m[05/02/2022 20:39:43 INFO 140020492883776] ...model loaded.\u001b[0m\n",
      "\u001b[34m[2022-05-02 20:39:43 +0000] [108] [INFO] Booting worker with pid: 108\u001b[0m\n",
      "\u001b[34m[05/02/2022 20:39:43 INFO 140020492883776] loading model...\u001b[0m\n",
      "\u001b[34m[05/02/2022 20:39:43 WARNING 140020492883776] Requesting context without setting the requested num of gpus. Using 'auto'\u001b[0m\n",
      "\u001b[34m[05/02/2022 20:39:43 INFO 140020492883776] nvidia-smi: took 0.032 seconds to run.\u001b[0m\n",
      "\u001b[34m[05/02/2022 20:39:43 INFO 140020492883776] nvidia-smi identified 0 GPUs.\u001b[0m\n",
      "\u001b[34m[05/02/2022 20:39:43 INFO 140020492883776] Number of GPUs being used: 0\u001b[0m\n",
      "\u001b[34m[05/02/2022 20:39:43 INFO 140020492883776] ...model loaded.\u001b[0m\n",
      "\u001b[35m[05/02/2022 20:39:43 INFO 140020492883776] Number of GPUs being used: 0\u001b[0m\n",
      "\u001b[35m[05/02/2022 20:39:43 INFO 140020492883776] ...model loaded.\u001b[0m\n",
      "\u001b[35m[2022-05-02 20:39:43 +0000] [108] [INFO] Booting worker with pid: 108\u001b[0m\n",
      "\u001b[35m[05/02/2022 20:39:43 INFO 140020492883776] loading model...\u001b[0m\n",
      "\u001b[35m[05/02/2022 20:39:43 WARNING 140020492883776] Requesting context without setting the requested num of gpus. Using 'auto'\u001b[0m\n",
      "\u001b[35m[05/02/2022 20:39:43 INFO 140020492883776] nvidia-smi: took 0.032 seconds to run.\u001b[0m\n",
      "\u001b[35m[05/02/2022 20:39:43 INFO 140020492883776] nvidia-smi identified 0 GPUs.\u001b[0m\n",
      "\u001b[35m[05/02/2022 20:39:43 INFO 140020492883776] Number of GPUs being used: 0\u001b[0m\n",
      "\u001b[35m[05/02/2022 20:39:43 INFO 140020492883776] ...model loaded.\u001b[0m\n",
      "\u001b[34m#metrics {\"StartTime\": 1651523983.0644112, \"EndTime\": 1651523985.4476159, \"Dimensions\": {\"Algorithm\": \"KMeansModel\", \"Host\": \"UNKNOWN\", \"Operation\": \"scoring\"}, \"Metrics\": {\"execution_parameters.count\": {\"sum\": 1.0, \"count\": 1, \"min\": 1, \"max\": 1}}}\u001b[0m\n",
      "\u001b[34m#metrics {\"StartTime\": 1651523983.0457313, \"EndTime\": 1651523985.8037512, \"Dimensions\": {\"Algorithm\": \"KMeansModel\", \"Host\": \"UNKNOWN\", \"Operation\": \"scoring\"}, \"Metrics\": {\"model.evaluate.time\": {\"sum\": 0.05173683166503906, \"count\": 1, \"min\": 0.05173683166503906, \"max\": 0.05173683166503906}, \"invocations.count\": {\"sum\": 1.0, \"count\": 1, \"min\": 1, \"max\": 1}}}\u001b[0m\n",
      "\u001b[35m#metrics {\"StartTime\": 1651523983.0644112, \"EndTime\": 1651523985.4476159, \"Dimensions\": {\"Algorithm\": \"KMeansModel\", \"Host\": \"UNKNOWN\", \"Operation\": \"scoring\"}, \"Metrics\": {\"execution_parameters.count\": {\"sum\": 1.0, \"count\": 1, \"min\": 1, \"max\": 1}}}\u001b[0m\n",
      "\u001b[35m#metrics {\"StartTime\": 1651523983.0457313, \"EndTime\": 1651523985.8037512, \"Dimensions\": {\"Algorithm\": \"KMeansModel\", \"Host\": \"UNKNOWN\", \"Operation\": \"scoring\"}, \"Metrics\": {\"model.evaluate.time\": {\"sum\": 0.05173683166503906, \"count\": 1, \"min\": 0.05173683166503906, \"max\": 0.05173683166503906}, \"invocations.count\": {\"sum\": 1.0, \"count\": 1, \"min\": 1, \"max\": 1}}}\u001b[0m\n",
      "\u001b[32m2022-05-02T20:39:45.454:[sagemaker logs]: MaxConcurrentTransforms=1, MaxPayloadInMB=6, BatchStrategy=MULTI_RECORD\u001b[0m\n",
      "\n",
      "\u001b[34mDocker entrypoint called with argument(s): serve\u001b[0m\n",
      "\u001b[34mRunning default environment configuration script\u001b[0m\n",
      "\u001b[34m[05/02/2022 20:39:39 INFO 140020492883776] Memory profiler is not enabled by the environment variable ENABLE_PROFILER.\u001b[0m\n",
      "\u001b[34m[05/02/2022 20:39:42 WARNING 140020492883776] Loggers have already been setup.\u001b[0m\n",
      "\u001b[34m[05/02/2022 20:39:42 INFO 140020492883776] loading entry points\u001b[0m\n",
      "\u001b[34m[05/02/2022 20:39:42 INFO 140020492883776] Loaded iterator creator application/x-recordio-protobuf for content type ('application/x-recordio-protobuf', '1.0')\u001b[0m\n",
      "\u001b[34m[05/02/2022 20:39:42 INFO 140020492883776] loaded request iterator application/json\u001b[0m\n",
      "\u001b[34m[05/02/2022 20:39:42 INFO 140020492883776] loaded request iterator application/jsonlines\u001b[0m\n",
      "\u001b[34m[05/02/2022 20:39:42 INFO 140020492883776] loaded request iterator application/x-recordio-protobuf\u001b[0m\n",
      "\u001b[34m[05/02/2022 20:39:42 INFO 140020492883776] loaded request iterator text/csv\u001b[0m\n",
      "\u001b[34m[05/02/2022 20:39:42 INFO 140020492883776] loaded response encoder application/json\u001b[0m\n",
      "\u001b[34m[05/02/2022 20:39:42 INFO 140020492883776] loaded response encoder application/jsonlines\u001b[0m\n",
      "\u001b[34m[05/02/2022 20:39:42 INFO 140020492883776] loaded response encoder application/x-recordio-protobuf\u001b[0m\n",
      "\u001b[34m[05/02/2022 20:39:42 INFO 140020492883776] loaded response encoder text/csv\u001b[0m\n",
      "\u001b[34m[05/02/2022 20:39:42 INFO 140020492883776] loaded entry point class algorithm:model\u001b[0m\n",
      "\u001b[34m[05/02/2022 20:39:42 INFO 140020492883776] Loaded iterator creator application/x-recordio-protobuf for content type ('application/x-recordio-protobuf', '1.0')\u001b[0m\n",
      "\u001b[34m[05/02/2022 20:39:42 INFO 140020492883776] Number of server workers: 4\u001b[0m\n",
      "\u001b[34m[2022-05-02 20:39:42 +0000] [1] [INFO] Starting gunicorn 20.1.0\u001b[0m\n",
      "\u001b[34m[2022-05-02 20:39:42 +0000] [1] [INFO] Listening at: http://0.0.0.0:8080 (1)\u001b[0m\n",
      "\u001b[34m[2022-05-02 20:39:42 +0000] [1] [INFO] Using worker: sync\u001b[0m\n",
      "\u001b[34m[2022-05-02 20:39:42 +0000] [45] [INFO] Booting worker with pid: 45\u001b[0m\n",
      "\u001b[34m[05/02/2022 20:39:42 INFO 140020492883776] loading model...\u001b[0m\n",
      "\u001b[34m[05/02/2022 20:39:42 WARNING 140020492883776] Requesting context without setting the requested num of gpus. Using 'auto'\u001b[0m\n",
      "\u001b[35mDocker entrypoint called with argument(s): serve\u001b[0m\n",
      "\u001b[35mRunning default environment configuration script\u001b[0m\n",
      "\u001b[35m[05/02/2022 20:39:39 INFO 140020492883776] Memory profiler is not enabled by the environment variable ENABLE_PROFILER.\u001b[0m\n",
      "\u001b[35m[05/02/2022 20:39:42 WARNING 140020492883776] Loggers have already been setup.\u001b[0m\n",
      "\u001b[35m[05/02/2022 20:39:42 INFO 140020492883776] loading entry points\u001b[0m\n",
      "\u001b[35m[05/02/2022 20:39:42 INFO 140020492883776] Loaded iterator creator application/x-recordio-protobuf for content type ('application/x-recordio-protobuf', '1.0')\u001b[0m\n",
      "\u001b[35m[05/02/2022 20:39:42 INFO 140020492883776] loaded request iterator application/json\u001b[0m\n",
      "\u001b[35m[05/02/2022 20:39:42 INFO 140020492883776] loaded request iterator application/jsonlines\u001b[0m\n",
      "\u001b[35m[05/02/2022 20:39:42 INFO 140020492883776] loaded request iterator application/x-recordio-protobuf\u001b[0m\n",
      "\u001b[35m[05/02/2022 20:39:42 INFO 140020492883776] loaded request iterator text/csv\u001b[0m\n",
      "\u001b[35m[05/02/2022 20:39:42 INFO 140020492883776] loaded response encoder application/json\u001b[0m\n",
      "\u001b[35m[05/02/2022 20:39:42 INFO 140020492883776] loaded response encoder application/jsonlines\u001b[0m\n",
      "\u001b[35m[05/02/2022 20:39:42 INFO 140020492883776] loaded response encoder application/x-recordio-protobuf\u001b[0m\n",
      "\u001b[35m[05/02/2022 20:39:42 INFO 140020492883776] loaded response encoder text/csv\u001b[0m\n",
      "\u001b[35m[05/02/2022 20:39:42 INFO 140020492883776] loaded entry point class algorithm:model\u001b[0m\n",
      "\u001b[35m[05/02/2022 20:39:42 INFO 140020492883776] Loaded iterator creator application/x-recordio-protobuf for content type ('application/x-recordio-protobuf', '1.0')\u001b[0m\n",
      "\u001b[35m[05/02/2022 20:39:42 INFO 140020492883776] Number of server workers: 4\u001b[0m\n",
      "\u001b[35m[2022-05-02 20:39:42 +0000] [1] [INFO] Starting gunicorn 20.1.0\u001b[0m\n",
      "\u001b[35m[2022-05-02 20:39:42 +0000] [1] [INFO] Listening at: http://0.0.0.0:8080 (1)\u001b[0m\n",
      "\u001b[35m[2022-05-02 20:39:42 +0000] [1] [INFO] Using worker: sync\u001b[0m\n",
      "\u001b[35m[2022-05-02 20:39:42 +0000] [45] [INFO] Booting worker with pid: 45\u001b[0m\n",
      "\u001b[35m[05/02/2022 20:39:42 INFO 140020492883776] loading model...\u001b[0m\n",
      "\u001b[35m[05/02/2022 20:39:42 WARNING 140020492883776] Requesting context without setting the requested num of gpus. Using 'auto'\u001b[0m\n",
      "\u001b[34m[2022-05-02 20:39:43 +0000] [66] [INFO] Booting worker with pid: 66\u001b[0m\n",
      "\u001b[34m[05/02/2022 20:39:43 INFO 140020492883776] loading model...\u001b[0m\n",
      "\u001b[34m[05/02/2022 20:39:43 WARNING 140020492883776] Requesting context without setting the requested num of gpus. Using 'auto'\u001b[0m\n",
      "\u001b[34m[05/02/2022 20:39:43 INFO 140020492883776] nvidia-smi: took 0.032 seconds to run.\u001b[0m\n",
      "\u001b[34m[05/02/2022 20:39:43 INFO 140020492883776] nvidia-smi identified 0 GPUs.\u001b[0m\n",
      "\u001b[34m[05/02/2022 20:39:43 INFO 140020492883776] Number of GPUs being used: 0\u001b[0m\n",
      "\u001b[34m[05/02/2022 20:39:43 INFO 140020492883776] ...model loaded.\u001b[0m\n",
      "\u001b[34m[2022-05-02 20:39:43 +0000] [87] [INFO] Booting worker with pid: 87\u001b[0m\n",
      "\u001b[34m[05/02/2022 20:39:43 INFO 140020492883776] loading model...\u001b[0m\n",
      "\u001b[34m[05/02/2022 20:39:43 WARNING 140020492883776] Requesting context without setting the requested num of gpus. Using 'auto'\u001b[0m\n",
      "\u001b[34m[05/02/2022 20:39:43 INFO 140020492883776] nvidia-smi: took 0.032 seconds to run.\u001b[0m\n",
      "\u001b[34m[05/02/2022 20:39:43 INFO 140020492883776] nvidia-smi identified 0 GPUs.\u001b[0m\n",
      "\u001b[34m[05/02/2022 20:39:43 INFO 140020492883776] Number of GPUs being used: 0\u001b[0m\n",
      "\u001b[34m[05/02/2022 20:39:43 INFO 140020492883776] ...model loaded.\u001b[0m\n",
      "\u001b[34m[05/02/2022 20:39:43 INFO 140020492883776] nvidia-smi: took 0.032 seconds to run.\u001b[0m\n",
      "\u001b[34m[05/02/2022 20:39:43 INFO 140020492883776] nvidia-smi identified 0 GPUs.\u001b[0m\n",
      "\u001b[35m[2022-05-02 20:39:43 +0000] [66] [INFO] Booting worker with pid: 66\u001b[0m\n",
      "\u001b[35m[05/02/2022 20:39:43 INFO 140020492883776] loading model...\u001b[0m\n",
      "\u001b[35m[05/02/2022 20:39:43 WARNING 140020492883776] Requesting context without setting the requested num of gpus. Using 'auto'\u001b[0m\n",
      "\u001b[35m[05/02/2022 20:39:43 INFO 140020492883776] nvidia-smi: took 0.032 seconds to run.\u001b[0m\n",
      "\u001b[35m[05/02/2022 20:39:43 INFO 140020492883776] nvidia-smi identified 0 GPUs.\u001b[0m\n",
      "\u001b[35m[05/02/2022 20:39:43 INFO 140020492883776] Number of GPUs being used: 0\u001b[0m\n",
      "\u001b[35m[05/02/2022 20:39:43 INFO 140020492883776] ...model loaded.\u001b[0m\n",
      "\u001b[35m[2022-05-02 20:39:43 +0000] [87] [INFO] Booting worker with pid: 87\u001b[0m\n",
      "\u001b[35m[05/02/2022 20:39:43 INFO 140020492883776] loading model...\u001b[0m\n",
      "\u001b[35m[05/02/2022 20:39:43 WARNING 140020492883776] Requesting context without setting the requested num of gpus. Using 'auto'\u001b[0m\n",
      "\u001b[35m[05/02/2022 20:39:43 INFO 140020492883776] nvidia-smi: took 0.032 seconds to run.\u001b[0m\n",
      "\u001b[35m[05/02/2022 20:39:43 INFO 140020492883776] nvidia-smi identified 0 GPUs.\u001b[0m\n",
      "\u001b[35m[05/02/2022 20:39:43 INFO 140020492883776] Number of GPUs being used: 0\u001b[0m\n",
      "\u001b[35m[05/02/2022 20:39:43 INFO 140020492883776] ...model loaded.\u001b[0m\n",
      "\u001b[35m[05/02/2022 20:39:43 INFO 140020492883776] nvidia-smi: took 0.032 seconds to run.\u001b[0m\n",
      "\u001b[35m[05/02/2022 20:39:43 INFO 140020492883776] nvidia-smi identified 0 GPUs.\u001b[0m\n",
      "\u001b[34m[05/02/2022 20:39:43 INFO 140020492883776] Number of GPUs being used: 0\u001b[0m\n",
      "\u001b[34m[05/02/2022 20:39:43 INFO 140020492883776] ...model loaded.\u001b[0m\n",
      "\u001b[34m[2022-05-02 20:39:43 +0000] [108] [INFO] Booting worker with pid: 108\u001b[0m\n",
      "\u001b[34m[05/02/2022 20:39:43 INFO 140020492883776] loading model...\u001b[0m\n",
      "\u001b[34m[05/02/2022 20:39:43 WARNING 140020492883776] Requesting context without setting the requested num of gpus. Using 'auto'\u001b[0m\n",
      "\u001b[34m[05/02/2022 20:39:43 INFO 140020492883776] nvidia-smi: took 0.032 seconds to run.\u001b[0m\n",
      "\u001b[34m[05/02/2022 20:39:43 INFO 140020492883776] nvidia-smi identified 0 GPUs.\u001b[0m\n",
      "\u001b[34m[05/02/2022 20:39:43 INFO 140020492883776] Number of GPUs being used: 0\u001b[0m\n",
      "\u001b[34m[05/02/2022 20:39:43 INFO 140020492883776] ...model loaded.\u001b[0m\n",
      "\u001b[35m[05/02/2022 20:39:43 INFO 140020492883776] Number of GPUs being used: 0\u001b[0m\n",
      "\u001b[35m[05/02/2022 20:39:43 INFO 140020492883776] ...model loaded.\u001b[0m\n",
      "\u001b[35m[2022-05-02 20:39:43 +0000] [108] [INFO] Booting worker with pid: 108\u001b[0m\n",
      "\u001b[35m[05/02/2022 20:39:43 INFO 140020492883776] loading model...\u001b[0m\n",
      "\u001b[35m[05/02/2022 20:39:43 WARNING 140020492883776] Requesting context without setting the requested num of gpus. Using 'auto'\u001b[0m\n",
      "\u001b[35m[05/02/2022 20:39:43 INFO 140020492883776] nvidia-smi: took 0.032 seconds to run.\u001b[0m\n",
      "\u001b[35m[05/02/2022 20:39:43 INFO 140020492883776] nvidia-smi identified 0 GPUs.\u001b[0m\n",
      "\u001b[35m[05/02/2022 20:39:43 INFO 140020492883776] Number of GPUs being used: 0\u001b[0m\n",
      "\u001b[35m[05/02/2022 20:39:43 INFO 140020492883776] ...model loaded.\u001b[0m\n",
      "\u001b[34m#metrics {\"StartTime\": 1651523983.0644112, \"EndTime\": 1651523985.4476159, \"Dimensions\": {\"Algorithm\": \"KMeansModel\", \"Host\": \"UNKNOWN\", \"Operation\": \"scoring\"}, \"Metrics\": {\"execution_parameters.count\": {\"sum\": 1.0, \"count\": 1, \"min\": 1, \"max\": 1}}}\u001b[0m\n",
      "\u001b[34m#metrics {\"StartTime\": 1651523983.0457313, \"EndTime\": 1651523985.8037512, \"Dimensions\": {\"Algorithm\": \"KMeansModel\", \"Host\": \"UNKNOWN\", \"Operation\": \"scoring\"}, \"Metrics\": {\"model.evaluate.time\": {\"sum\": 0.05173683166503906, \"count\": 1, \"min\": 0.05173683166503906, \"max\": 0.05173683166503906}, \"invocations.count\": {\"sum\": 1.0, \"count\": 1, \"min\": 1, \"max\": 1}}}\u001b[0m\n",
      "\u001b[35m#metrics {\"StartTime\": 1651523983.0644112, \"EndTime\": 1651523985.4476159, \"Dimensions\": {\"Algorithm\": \"KMeansModel\", \"Host\": \"UNKNOWN\", \"Operation\": \"scoring\"}, \"Metrics\": {\"execution_parameters.count\": {\"sum\": 1.0, \"count\": 1, \"min\": 1, \"max\": 1}}}\u001b[0m\n",
      "\u001b[35m#metrics {\"StartTime\": 1651523983.0457313, \"EndTime\": 1651523985.8037512, \"Dimensions\": {\"Algorithm\": \"KMeansModel\", \"Host\": \"UNKNOWN\", \"Operation\": \"scoring\"}, \"Metrics\": {\"model.evaluate.time\": {\"sum\": 0.05173683166503906, \"count\": 1, \"min\": 0.05173683166503906, \"max\": 0.05173683166503906}, \"invocations.count\": {\"sum\": 1.0, \"count\": 1, \"min\": 1, \"max\": 1}}}\u001b[0m\n",
      "\u001b[32m2022-05-02T20:39:45.454:[sagemaker logs]: MaxConcurrentTransforms=1, MaxPayloadInMB=6, BatchStrategy=MULTI_RECORD\u001b[0m\n"
     ]
    }
   ],
   "source": [
    "\n",
    "from sagemaker.transformer import Transformer\n",
    "\n",
    "job_name=km.latest_training_job.name\n",
    "output_path = f\"s3://{bucket_name}/{folder}/kmeans_batch_output/\"\n",
    "train_s3=f\"s3://{bucket_name}/{folder}/km_batch_input.csv\"\n",
    "transformer = Transformer(km_model,\n",
    "   instance_count=1,\n",
    "   instance_type='ml.m4.xlarge',\n",
    "   strategy=\"MultiRecord\",\n",
    "   max_payload=6,\n",
    "   max_concurrent_transforms=1,\n",
    "   output_path=output_path,\n",
    "   assemble_with=\"Line\", accept=\"text/csv\",\n",
    "   sagemaker_session=session\n",
    ")\n",
    "\n",
    "transformer.transform(train_s3, input_filter=\"$[1:]\",content_type=\"text/csv\", split_type=\"Line\", join_source=\"Input\")\n",
    "transformer.wait()"
   ]
  },
  {
   "cell_type": "code",
   "execution_count": 72,
   "metadata": {},
   "outputs": [
    {
     "name": "stdout",
     "output_type": "stream",
     "text": [
      "download: s3://esti-sm-demo-rk/caa/batch/kmeans_batch_output/km_batch_input.csv.out to ./km_batch_input.csv.out\n"
     ]
    }
   ],
   "source": [
    "!aws s3 cp --recursive $transformer.output_path ./"
   ]
  },
  {
   "cell_type": "code",
   "execution_count": 73,
   "metadata": {},
   "outputs": [],
   "source": [
    "km_df_batch=pd.read_csv('km_batch_input.csv.out')"
   ]
  },
  {
   "cell_type": "code",
   "execution_count": 74,
   "metadata": {},
   "outputs": [],
   "source": [
    "km_df_batch.columns=['index','c_1','c_2','c_3','c_4','c_5','c_6','c_7','c_8','c_9','c_10', 'cluster_label','centroid_distance']"
   ]
  },
  {
   "cell_type": "code",
   "execution_count": 75,
   "metadata": {},
   "outputs": [
    {
     "data": {
      "text/html": [
       "<div>\n",
       "<style scoped>\n",
       "    .dataframe tbody tr th:only-of-type {\n",
       "        vertical-align: middle;\n",
       "    }\n",
       "\n",
       "    .dataframe tbody tr th {\n",
       "        vertical-align: top;\n",
       "    }\n",
       "\n",
       "    .dataframe thead th {\n",
       "        text-align: right;\n",
       "    }\n",
       "</style>\n",
       "<table border=\"1\" class=\"dataframe\">\n",
       "  <thead>\n",
       "    <tr style=\"text-align: right;\">\n",
       "      <th></th>\n",
       "      <th>index</th>\n",
       "      <th>c_1</th>\n",
       "      <th>c_2</th>\n",
       "      <th>c_3</th>\n",
       "      <th>c_4</th>\n",
       "      <th>c_5</th>\n",
       "      <th>c_6</th>\n",
       "      <th>c_7</th>\n",
       "      <th>c_8</th>\n",
       "      <th>c_9</th>\n",
       "      <th>c_10</th>\n",
       "      <th>cluster_label</th>\n",
       "      <th>centroid_distance</th>\n",
       "    </tr>\n",
       "  </thead>\n",
       "  <tbody>\n",
       "    <tr>\n",
       "      <th>0</th>\n",
       "      <td>176</td>\n",
       "      <td>0.529364</td>\n",
       "      <td>1.019682</td>\n",
       "      <td>-0.816966</td>\n",
       "      <td>-0.049720</td>\n",
       "      <td>-0.594019</td>\n",
       "      <td>-0.755622</td>\n",
       "      <td>0.649897</td>\n",
       "      <td>-0.048670</td>\n",
       "      <td>0.399112</td>\n",
       "      <td>0.888831</td>\n",
       "      <td>2.0</td>\n",
       "      <td>1.646390</td>\n",
       "    </tr>\n",
       "    <tr>\n",
       "      <th>1</th>\n",
       "      <td>4185</td>\n",
       "      <td>0.782251</td>\n",
       "      <td>-0.978071</td>\n",
       "      <td>0.407965</td>\n",
       "      <td>0.594037</td>\n",
       "      <td>0.183014</td>\n",
       "      <td>-0.470437</td>\n",
       "      <td>-0.039738</td>\n",
       "      <td>0.019753</td>\n",
       "      <td>0.546726</td>\n",
       "      <td>-0.661794</td>\n",
       "      <td>4.0</td>\n",
       "      <td>1.289016</td>\n",
       "    </tr>\n",
       "    <tr>\n",
       "      <th>2</th>\n",
       "      <td>5161</td>\n",
       "      <td>0.742347</td>\n",
       "      <td>-0.879314</td>\n",
       "      <td>-0.620510</td>\n",
       "      <td>-0.301158</td>\n",
       "      <td>0.248062</td>\n",
       "      <td>-0.482766</td>\n",
       "      <td>0.628446</td>\n",
       "      <td>0.159329</td>\n",
       "      <td>0.435481</td>\n",
       "      <td>-0.886327</td>\n",
       "      <td>4.0</td>\n",
       "      <td>1.454180</td>\n",
       "    </tr>\n",
       "    <tr>\n",
       "      <th>3</th>\n",
       "      <td>13583</td>\n",
       "      <td>0.835407</td>\n",
       "      <td>-0.899495</td>\n",
       "      <td>0.391060</td>\n",
       "      <td>-0.298418</td>\n",
       "      <td>-0.623410</td>\n",
       "      <td>0.526796</td>\n",
       "      <td>0.790402</td>\n",
       "      <td>0.142182</td>\n",
       "      <td>0.488273</td>\n",
       "      <td>0.753455</td>\n",
       "      <td>4.0</td>\n",
       "      <td>1.463206</td>\n",
       "    </tr>\n",
       "    <tr>\n",
       "      <th>4</th>\n",
       "      <td>6758</td>\n",
       "      <td>0.821163</td>\n",
       "      <td>-0.975021</td>\n",
       "      <td>0.412260</td>\n",
       "      <td>0.738008</td>\n",
       "      <td>0.229104</td>\n",
       "      <td>-0.453756</td>\n",
       "      <td>-0.067199</td>\n",
       "      <td>0.017357</td>\n",
       "      <td>0.554004</td>\n",
       "      <td>-0.682565</td>\n",
       "      <td>4.0</td>\n",
       "      <td>1.386560</td>\n",
       "    </tr>\n",
       "  </tbody>\n",
       "</table>\n",
       "</div>"
      ],
      "text/plain": [
       "   index       c_1       c_2       c_3       c_4       c_5       c_6  \\\n",
       "0    176  0.529364  1.019682 -0.816966 -0.049720 -0.594019 -0.755622   \n",
       "1   4185  0.782251 -0.978071  0.407965  0.594037  0.183014 -0.470437   \n",
       "2   5161  0.742347 -0.879314 -0.620510 -0.301158  0.248062 -0.482766   \n",
       "3  13583  0.835407 -0.899495  0.391060 -0.298418 -0.623410  0.526796   \n",
       "4   6758  0.821163 -0.975021  0.412260  0.738008  0.229104 -0.453756   \n",
       "\n",
       "        c_7       c_8       c_9      c_10  cluster_label  centroid_distance  \n",
       "0  0.649897 -0.048670  0.399112  0.888831            2.0           1.646390  \n",
       "1 -0.039738  0.019753  0.546726 -0.661794            4.0           1.289016  \n",
       "2  0.628446  0.159329  0.435481 -0.886327            4.0           1.454180  \n",
       "3  0.790402  0.142182  0.488273  0.753455            4.0           1.463206  \n",
       "4 -0.067199  0.017357  0.554004 -0.682565            4.0           1.386560  "
      ]
     },
     "execution_count": 75,
     "metadata": {},
     "output_type": "execute_result"
    }
   ],
   "source": [
    "km_df_batch.head()"
   ]
  },
  {
   "cell_type": "markdown",
   "metadata": {},
   "source": [
    "---\n",
    "## Exploring the resultant clusters\n",
    "\n",
    "The resulting predictions should give you information about the cluster that each data point belongs to.\n",
    "\n",
    "You should be able to answer the **question**: which cluster does a given data point belong to?"
   ]
  },
  {
   "cell_type": "code",
   "execution_count": 76,
   "metadata": {},
   "outputs": [
    {
     "name": "stdout",
     "output_type": "stream",
     "text": [
      "customer is:  11235\n",
      "\n",
      "label {\n",
      "  key: \"closest_cluster\"\n",
      "  value {\n",
      "    float32_tensor {\n",
      "      values: 3.0\n",
      "    }\n",
      "  }\n",
      "}\n",
      "label {\n",
      "  key: \"distance_to_cluster\"\n",
      "  value {\n",
      "    float32_tensor {\n",
      "      values: 1.1361920833587646\n",
      "    }\n",
      "  }\n",
      "}\n",
      "\n"
     ]
    }
   ],
   "source": [
    "# print cluster info for first data point\n",
    "data_idx = 0\n",
    "\n",
    "print('customer is: ', customers_transformed.index[data_idx])\n",
    "print()\n",
    "print(cluster_info[data_idx])"
   ]
  },
  {
   "cell_type": "markdown",
   "metadata": {},
   "source": [
    "### Visualize the distribution of data over clusters\n",
    "\n",
    "Get the cluster labels for each of our data points (customers segment) and visualize the distribution of points over each cluster."
   ]
  },
  {
   "cell_type": "code",
   "execution_count": 77,
   "metadata": {},
   "outputs": [],
   "source": [
    "# get all cluster labels\n",
    "cluster_labels = [c.label['closest_cluster'].float32_tensor.values[0] for c in cluster_info]"
   ]
  },
  {
   "cell_type": "code",
   "execution_count": 78,
   "metadata": {},
   "outputs": [],
   "source": [
    "label_series=pd.Series([x for x in cluster_labels])"
   ]
  },
  {
   "cell_type": "code",
   "execution_count": 79,
   "metadata": {},
   "outputs": [],
   "source": [
    "customers_transformed['cluster_label']=label_series.values"
   ]
  },
  {
   "cell_type": "code",
   "execution_count": 80,
   "metadata": {},
   "outputs": [],
   "source": [
    "final_df=customers_transformed.reset_index()"
   ]
  },
  {
   "cell_type": "code",
   "execution_count": 81,
   "metadata": {},
   "outputs": [],
   "source": [
    "#let's connect index back to original dataframe"
   ]
  },
  {
   "cell_type": "code",
   "execution_count": 82,
   "metadata": {},
   "outputs": [
    {
     "data": {
      "text/html": [
       "<div>\n",
       "<style scoped>\n",
       "    .dataframe tbody tr th:only-of-type {\n",
       "        vertical-align: middle;\n",
       "    }\n",
       "\n",
       "    .dataframe tbody tr th {\n",
       "        vertical-align: top;\n",
       "    }\n",
       "\n",
       "    .dataframe thead th {\n",
       "        text-align: right;\n",
       "    }\n",
       "</style>\n",
       "<table border=\"1\" class=\"dataframe\">\n",
       "  <thead>\n",
       "    <tr style=\"text-align: right;\">\n",
       "      <th></th>\n",
       "      <th>index</th>\n",
       "      <th>c_1</th>\n",
       "      <th>c_2</th>\n",
       "      <th>c_3</th>\n",
       "      <th>c_4</th>\n",
       "      <th>c_5</th>\n",
       "      <th>c_6</th>\n",
       "      <th>c_7</th>\n",
       "      <th>c_8</th>\n",
       "      <th>c_9</th>\n",
       "      <th>c_10</th>\n",
       "      <th>cluster_label</th>\n",
       "    </tr>\n",
       "  </thead>\n",
       "  <tbody>\n",
       "    <tr>\n",
       "      <th>0</th>\n",
       "      <td>11235</td>\n",
       "      <td>-0.560959</td>\n",
       "      <td>0.125972</td>\n",
       "      <td>0.133270</td>\n",
       "      <td>-0.283193</td>\n",
       "      <td>0.770289</td>\n",
       "      <td>0.545223</td>\n",
       "      <td>0.772276</td>\n",
       "      <td>0.291723</td>\n",
       "      <td>0.544894</td>\n",
       "      <td>-0.712874</td>\n",
       "      <td>3.0</td>\n",
       "    </tr>\n",
       "    <tr>\n",
       "      <th>1</th>\n",
       "      <td>176</td>\n",
       "      <td>0.529364</td>\n",
       "      <td>1.019682</td>\n",
       "      <td>-0.816966</td>\n",
       "      <td>-0.049720</td>\n",
       "      <td>-0.594019</td>\n",
       "      <td>-0.755622</td>\n",
       "      <td>0.649897</td>\n",
       "      <td>-0.048670</td>\n",
       "      <td>0.399112</td>\n",
       "      <td>0.888831</td>\n",
       "      <td>2.0</td>\n",
       "    </tr>\n",
       "    <tr>\n",
       "      <th>2</th>\n",
       "      <td>4185</td>\n",
       "      <td>0.782251</td>\n",
       "      <td>-0.978071</td>\n",
       "      <td>0.407965</td>\n",
       "      <td>0.594037</td>\n",
       "      <td>0.183014</td>\n",
       "      <td>-0.470437</td>\n",
       "      <td>-0.039738</td>\n",
       "      <td>0.019753</td>\n",
       "      <td>0.546726</td>\n",
       "      <td>-0.661794</td>\n",
       "      <td>4.0</td>\n",
       "    </tr>\n",
       "    <tr>\n",
       "      <th>3</th>\n",
       "      <td>5161</td>\n",
       "      <td>0.742347</td>\n",
       "      <td>-0.879314</td>\n",
       "      <td>-0.620510</td>\n",
       "      <td>-0.301158</td>\n",
       "      <td>0.248062</td>\n",
       "      <td>-0.482766</td>\n",
       "      <td>0.628446</td>\n",
       "      <td>0.159329</td>\n",
       "      <td>0.435481</td>\n",
       "      <td>-0.886327</td>\n",
       "      <td>4.0</td>\n",
       "    </tr>\n",
       "    <tr>\n",
       "      <th>4</th>\n",
       "      <td>13583</td>\n",
       "      <td>0.835407</td>\n",
       "      <td>-0.899495</td>\n",
       "      <td>0.391060</td>\n",
       "      <td>-0.298418</td>\n",
       "      <td>-0.623410</td>\n",
       "      <td>0.526796</td>\n",
       "      <td>0.790402</td>\n",
       "      <td>0.142182</td>\n",
       "      <td>0.488273</td>\n",
       "      <td>0.753455</td>\n",
       "      <td>4.0</td>\n",
       "    </tr>\n",
       "  </tbody>\n",
       "</table>\n",
       "</div>"
      ],
      "text/plain": [
       "   index       c_1       c_2       c_3       c_4       c_5       c_6  \\\n",
       "0  11235 -0.560959  0.125972  0.133270 -0.283193  0.770289  0.545223   \n",
       "1    176  0.529364  1.019682 -0.816966 -0.049720 -0.594019 -0.755622   \n",
       "2   4185  0.782251 -0.978071  0.407965  0.594037  0.183014 -0.470437   \n",
       "3   5161  0.742347 -0.879314 -0.620510 -0.301158  0.248062 -0.482766   \n",
       "4  13583  0.835407 -0.899495  0.391060 -0.298418 -0.623410  0.526796   \n",
       "\n",
       "        c_7       c_8       c_9      c_10  cluster_label  \n",
       "0  0.772276  0.291723  0.544894 -0.712874            3.0  \n",
       "1  0.649897 -0.048670  0.399112  0.888831            2.0  \n",
       "2 -0.039738  0.019753  0.546726 -0.661794            4.0  \n",
       "3  0.628446  0.159329  0.435481 -0.886327            4.0  \n",
       "4  0.790402  0.142182  0.488273  0.753455            4.0  "
      ]
     },
     "execution_count": 82,
     "metadata": {},
     "output_type": "execute_result"
    }
   ],
   "source": [
    "final_df.head()"
   ]
  },
  {
   "cell_type": "code",
   "execution_count": 83,
   "metadata": {},
   "outputs": [],
   "source": [
    "final_df=final_df.merge(customer_df, how='inner', left_on='index', right_on='customer_no')"
   ]
  },
  {
   "cell_type": "code",
   "execution_count": 84,
   "metadata": {},
   "outputs": [],
   "source": [
    "final_df.drop(columns=['c_1','c_2','c_3','c_4','c_5','c_6','c_7','c_8','c_9','c_10'], inplace=True)"
   ]
  },
  {
   "cell_type": "code",
   "execution_count": 85,
   "metadata": {},
   "outputs": [
    {
     "data": {
      "text/html": [
       "<div>\n",
       "<style scoped>\n",
       "    .dataframe tbody tr th:only-of-type {\n",
       "        vertical-align: middle;\n",
       "    }\n",
       "\n",
       "    .dataframe tbody tr th {\n",
       "        vertical-align: top;\n",
       "    }\n",
       "\n",
       "    .dataframe thead th {\n",
       "        text-align: right;\n",
       "    }\n",
       "</style>\n",
       "<table border=\"1\" class=\"dataframe\">\n",
       "  <thead>\n",
       "    <tr style=\"text-align: right;\">\n",
       "      <th></th>\n",
       "      <th>index</th>\n",
       "      <th>cluster_label</th>\n",
       "      <th>customer_no</th>\n",
       "      <th>joindate</th>\n",
       "      <th>expirydate</th>\n",
       "      <th>canceldate</th>\n",
       "      <th>birthdate</th>\n",
       "      <th>gender</th>\n",
       "      <th>maxcoveragelevel</th>\n",
       "      <th>LATITUDE</th>\n",
       "      <th>...</th>\n",
       "      <th>LS_Y1</th>\n",
       "      <th>LS_Y2</th>\n",
       "      <th>LS_Y3</th>\n",
       "      <th>ERNAME_Prince Albert, SK</th>\n",
       "      <th>ERNAME_Regina--Moose Mountain, SK</th>\n",
       "      <th>ERNAME_Saskatoon--Biggar, SK</th>\n",
       "      <th>ERNAME_Swift Current--Moose Jaw, SK</th>\n",
       "      <th>ERNAME_Yorkton--Melville, SK</th>\n",
       "      <th>is_associate_yes</th>\n",
       "      <th>status_A</th>\n",
       "    </tr>\n",
       "  </thead>\n",
       "  <tbody>\n",
       "    <tr>\n",
       "      <th>0</th>\n",
       "      <td>11235</td>\n",
       "      <td>3.0</td>\n",
       "      <td>11235</td>\n",
       "      <td>7/11/16</td>\n",
       "      <td>7/31/18</td>\n",
       "      <td>9/6/17</td>\n",
       "      <td>12/14/77</td>\n",
       "      <td>0</td>\n",
       "      <td>0.25</td>\n",
       "      <td>50.65706</td>\n",
       "      <td>...</td>\n",
       "      <td>0</td>\n",
       "      <td>0</td>\n",
       "      <td>0</td>\n",
       "      <td>0</td>\n",
       "      <td>0</td>\n",
       "      <td>0</td>\n",
       "      <td>0</td>\n",
       "      <td>1</td>\n",
       "      <td>0</td>\n",
       "      <td>0</td>\n",
       "    </tr>\n",
       "    <tr>\n",
       "      <th>1</th>\n",
       "      <td>176</td>\n",
       "      <td>2.0</td>\n",
       "      <td>176</td>\n",
       "      <td>5/8/08</td>\n",
       "      <td>5/31/19</td>\n",
       "      <td>9/1/19</td>\n",
       "      <td>12/21/55</td>\n",
       "      <td>1</td>\n",
       "      <td>0.50</td>\n",
       "      <td>51.21911</td>\n",
       "      <td>...</td>\n",
       "      <td>0</td>\n",
       "      <td>0</td>\n",
       "      <td>0</td>\n",
       "      <td>0</td>\n",
       "      <td>0</td>\n",
       "      <td>0</td>\n",
       "      <td>0</td>\n",
       "      <td>1</td>\n",
       "      <td>0</td>\n",
       "      <td>0</td>\n",
       "    </tr>\n",
       "    <tr>\n",
       "      <th>2</th>\n",
       "      <td>4185</td>\n",
       "      <td>4.0</td>\n",
       "      <td>4185</td>\n",
       "      <td>6/21/11</td>\n",
       "      <td>6/30/14</td>\n",
       "      <td>11/3/14</td>\n",
       "      <td>4/15/51</td>\n",
       "      <td>0</td>\n",
       "      <td>0.25</td>\n",
       "      <td>50.40989</td>\n",
       "      <td>...</td>\n",
       "      <td>0</td>\n",
       "      <td>0</td>\n",
       "      <td>0</td>\n",
       "      <td>0</td>\n",
       "      <td>1</td>\n",
       "      <td>0</td>\n",
       "      <td>0</td>\n",
       "      <td>0</td>\n",
       "      <td>0</td>\n",
       "      <td>0</td>\n",
       "    </tr>\n",
       "    <tr>\n",
       "      <th>3</th>\n",
       "      <td>5161</td>\n",
       "      <td>4.0</td>\n",
       "      <td>5161</td>\n",
       "      <td>7/2/11</td>\n",
       "      <td>7/31/12</td>\n",
       "      <td>6/17/16</td>\n",
       "      <td>6/20/67</td>\n",
       "      <td>1</td>\n",
       "      <td>0.25</td>\n",
       "      <td>53.28295</td>\n",
       "      <td>...</td>\n",
       "      <td>0</td>\n",
       "      <td>1</td>\n",
       "      <td>0</td>\n",
       "      <td>1</td>\n",
       "      <td>0</td>\n",
       "      <td>0</td>\n",
       "      <td>0</td>\n",
       "      <td>0</td>\n",
       "      <td>0</td>\n",
       "      <td>0</td>\n",
       "    </tr>\n",
       "    <tr>\n",
       "      <th>4</th>\n",
       "      <td>13583</td>\n",
       "      <td>4.0</td>\n",
       "      <td>13583</td>\n",
       "      <td>4/27/11</td>\n",
       "      <td>7/31/18</td>\n",
       "      <td>11/1/18</td>\n",
       "      <td>2/18/86</td>\n",
       "      <td>0</td>\n",
       "      <td>0.25</td>\n",
       "      <td>53.02429</td>\n",
       "      <td>...</td>\n",
       "      <td>0</td>\n",
       "      <td>0</td>\n",
       "      <td>0</td>\n",
       "      <td>1</td>\n",
       "      <td>0</td>\n",
       "      <td>0</td>\n",
       "      <td>0</td>\n",
       "      <td>0</td>\n",
       "      <td>0</td>\n",
       "      <td>0</td>\n",
       "    </tr>\n",
       "  </tbody>\n",
       "</table>\n",
       "<p>5 rows × 310 columns</p>\n",
       "</div>"
      ],
      "text/plain": [
       "   index  cluster_label  customer_no joindate expirydate canceldate birthdate  \\\n",
       "0  11235            3.0        11235  7/11/16    7/31/18     9/6/17  12/14/77   \n",
       "1    176            2.0          176   5/8/08    5/31/19     9/1/19  12/21/55   \n",
       "2   4185            4.0         4185  6/21/11    6/30/14    11/3/14   4/15/51   \n",
       "3   5161            4.0         5161   7/2/11    7/31/12    6/17/16   6/20/67   \n",
       "4  13583            4.0        13583  4/27/11    7/31/18    11/1/18   2/18/86   \n",
       "\n",
       "   gender  maxcoveragelevel  LATITUDE  ...  LS_Y1  LS_Y2  LS_Y3  \\\n",
       "0       0              0.25  50.65706  ...      0      0      0   \n",
       "1       1              0.50  51.21911  ...      0      0      0   \n",
       "2       0              0.25  50.40989  ...      0      0      0   \n",
       "3       1              0.25  53.28295  ...      0      1      0   \n",
       "4       0              0.25  53.02429  ...      0      0      0   \n",
       "\n",
       "   ERNAME_Prince Albert, SK  ERNAME_Regina--Moose Mountain, SK  \\\n",
       "0                         0                                  0   \n",
       "1                         0                                  0   \n",
       "2                         0                                  1   \n",
       "3                         1                                  0   \n",
       "4                         1                                  0   \n",
       "\n",
       "   ERNAME_Saskatoon--Biggar, SK  ERNAME_Swift Current--Moose Jaw, SK  \\\n",
       "0                             0                                    0   \n",
       "1                             0                                    0   \n",
       "2                             0                                    0   \n",
       "3                             0                                    0   \n",
       "4                             0                                    0   \n",
       "\n",
       "   ERNAME_Yorkton--Melville, SK  is_associate_yes  status_A  \n",
       "0                             1                 0         0  \n",
       "1                             1                 0         0  \n",
       "2                             0                 0         0  \n",
       "3                             0                 0         0  \n",
       "4                             0                 0         0  \n",
       "\n",
       "[5 rows x 310 columns]"
      ]
     },
     "execution_count": 85,
     "metadata": {},
     "output_type": "execute_result"
    }
   ],
   "source": [
    "final_df.head()"
   ]
  },
  {
   "cell_type": "code",
   "execution_count": 86,
   "metadata": {},
   "outputs": [
    {
     "name": "stdout",
     "output_type": "stream",
     "text": [
      "     0\n",
      "0  3.0\n",
      "1  2.0\n",
      "2  4.0\n",
      "3  4.0\n",
      "4  4.0\n"
     ]
    }
   ],
   "source": [
    "# count up the points in each cluster\n",
    "cluster_df = pd.DataFrame(cluster_labels)\n",
    "print(cluster_df.head())"
   ]
  },
  {
   "cell_type": "code",
   "execution_count": 87,
   "metadata": {},
   "outputs": [
    {
     "data": {
      "text/plain": [
       "2778"
      ]
     },
     "execution_count": 87,
     "metadata": {},
     "output_type": "execute_result"
    }
   ],
   "source": [
    "len(cluster_df)"
   ]
  },
  {
   "cell_type": "markdown",
   "metadata": {},
   "source": [
    "Now, you may be wondering, what do each of these clusters tell us about these data points? To improve explainability, we need to access the underlying model to get the cluster centers. These centers will help describe which features characterize each cluster."
   ]
  },
  {
   "cell_type": "code",
   "execution_count": 88,
   "metadata": {},
   "outputs": [
    {
     "data": {
      "image/png": "[encoded data removed]",
      "text/plain": [
       "<Figure size 432x216 with 1 Axes>"
      ]
     },
     "metadata": {
      "needs_background": "light"
     },
     "output_type": "display_data"
    }
   ],
   "source": [
    "# another method of visualizing the distribution\n",
    "# display a histogram of cluster counts\n",
    "ax =plt.subplots(figsize=(6,3))\n",
    "ax = plt.hist(cluster_labels, bins=5,  range=(-0.5, 4.5), color='blue', rwidth=0.5)\n",
    "\n",
    "title=\"Histogram of Cluster Counts\"\n",
    "plt.title(title, fontsize=12)\n",
    "plt.show()"
   ]
  },
  {
   "cell_type": "markdown",
   "metadata": {},
   "source": [
    "### Delete the Endpoint!\n",
    "\n",
    "Now that you've deployed the k-means model and extracted the cluster labels for each data point, you no longer need the k-means endpoint."
   ]
  },
  {
   "cell_type": "code",
   "execution_count": 89,
   "metadata": {},
   "outputs": [
    {
     "name": "stderr",
     "output_type": "stream",
     "text": [
      "The endpoint attribute has been renamed in sagemaker>=2.\n",
      "See: https://sagemaker.readthedocs.io/en/stable/v2.html for details.\n"
     ]
    }
   ],
   "source": [
    "# delete kmeans endpoint\n",
    "session.delete_endpoint(kmeans_predictor.endpoint)"
   ]
  },
  {
   "cell_type": "markdown",
   "metadata": {},
   "source": [
    "---\n",
    "# Model Attributes & Explainability\n",
    "\n",
    "Explaining the result of the modeling is an important step in making use of our analysis. By combining PCA and k-means, and the information contained in the model attributes within a SageMaker trained model, you can learn about a population and remark on some patterns you've found, based on the data."
   ]
  },
  {
   "cell_type": "markdown",
   "metadata": {},
   "source": [
    "###  Access the k-means model attributes\n",
    "\n",
    "Extract the k-means model attributes from where they are saved as a TAR file in an S3 bucket.\n",
    "\n",
    "You'll need to access the model by the k-means training job name, and then unzip the file into `model_algo-1`. Then you can load that file using MXNet, as before."
   ]
  },
  {
   "cell_type": "code",
   "execution_count": 91,
   "metadata": {},
   "outputs": [
    {
     "data": {
      "text/plain": [
       "2304"
      ]
     },
     "execution_count": 91,
     "metadata": {},
     "output_type": "execute_result"
    }
   ],
   "source": [
    "# download and unzip the kmeans model file\n",
    "# use the name model_algo-1\n",
    "\n",
    "# Note go to the SageMaker console - Trainings - Training jobs - kmeans-xxx\n",
    "# Need to fix this, too\n",
    "kmeans_job_name = km.latest_training_job.name\n",
    "\n",
    "model_key = os.path.join(model_prefix, kmeans_job_name, 'output/model.tar.gz')\n",
    "\n",
    "# download the model file\n",
    "boto3.resource('s3').Bucket(bucket_name).download_file(model_key, 'model.tar.gz')\n",
    "os.system('tar -zxvf model.tar.gz')\n",
    "os.system('unzip model_algo-1')"
   ]
  },
  {
   "cell_type": "code",
   "execution_count": 92,
   "metadata": {},
   "outputs": [
    {
     "name": "stdout",
     "output_type": "stream",
     "text": [
      "[\n",
      "[[-2.07736194e-02  1.46991275e-02  1.59995213e-01 -9.12002772e-02\n",
      "   4.87674206e-01 -8.79408568e-02 -4.05781209e-01 -6.63434193e-02\n",
      "  -4.40534502e-02  3.22337858e-02]\n",
      " [-9.57382977e-01 -1.22802630e-01  1.08105987e-02  1.76506974e-02\n",
      "  -2.92243212e-01 -1.01588229e-02 -1.39672577e-01 -1.99736096e-02\n",
      "  -9.07073542e-03 -2.14708280e-02]\n",
      " [ 5.24635196e-01  1.04015005e+00  2.53580511e-03  1.51464060e-01\n",
      "  -2.22880900e-01  9.21026338e-04  7.69149214e-02  1.38411559e-02\n",
      "   4.56030592e-02 -2.26595663e-02]\n",
      " [-6.17190421e-01  2.11876810e-01 -9.18155313e-02 -4.03471857e-01\n",
      "   1.16068280e+00  1.70798019e-01  7.81349361e-01  2.34251320e-01\n",
      "  -6.25346228e-02  2.89505236e-02]\n",
      " [ 7.03463614e-01 -8.22975099e-01 -1.07997246e-02 -2.90380940e-02\n",
      "  -4.98084649e-02  3.80701721e-02  8.98881033e-02 -3.39506716e-02\n",
      "   6.32654876e-03  3.94513458e-03]]\n",
      "<NDArray 5x10 @cpu(0)>]\n"
     ]
    }
   ],
   "source": [
    "# get the trained kmeans params using mxnet\n",
    "kmeans_model_params = mx.ndarray.load('model_algo-1')\n",
    "\n",
    "print(kmeans_model_params)"
   ]
  },
  {
   "cell_type": "markdown",
   "metadata": {},
   "source": [
    "There is only 1 set of model parameters contained within the k-means model: the cluster centroid locations in PCA-transformed, component space.\n",
    "\n",
    "* **centroids**: The location of the centers of each cluster in component space, identified by the k-means algorithm. \n"
   ]
  },
  {
   "cell_type": "code",
   "execution_count": 93,
   "metadata": {},
   "outputs": [
    {
     "data": {
      "text/html": [
       "<div>\n",
       "<style scoped>\n",
       "    .dataframe tbody tr th:only-of-type {\n",
       "        vertical-align: middle;\n",
       "    }\n",
       "\n",
       "    .dataframe tbody tr th {\n",
       "        vertical-align: top;\n",
       "    }\n",
       "\n",
       "    .dataframe thead th {\n",
       "        text-align: right;\n",
       "    }\n",
       "</style>\n",
       "<table border=\"1\" class=\"dataframe\">\n",
       "  <thead>\n",
       "    <tr style=\"text-align: right;\">\n",
       "      <th></th>\n",
       "      <th>c_1</th>\n",
       "      <th>c_2</th>\n",
       "      <th>c_3</th>\n",
       "      <th>c_4</th>\n",
       "      <th>c_5</th>\n",
       "      <th>c_6</th>\n",
       "      <th>c_7</th>\n",
       "      <th>c_8</th>\n",
       "      <th>c_9</th>\n",
       "      <th>c_10</th>\n",
       "    </tr>\n",
       "  </thead>\n",
       "  <tbody>\n",
       "    <tr>\n",
       "      <th>0</th>\n",
       "      <td>-0.020774</td>\n",
       "      <td>0.014699</td>\n",
       "      <td>0.159995</td>\n",
       "      <td>-0.091200</td>\n",
       "      <td>0.487674</td>\n",
       "      <td>-0.087941</td>\n",
       "      <td>-0.405781</td>\n",
       "      <td>-0.066343</td>\n",
       "      <td>-0.044053</td>\n",
       "      <td>0.032234</td>\n",
       "    </tr>\n",
       "    <tr>\n",
       "      <th>1</th>\n",
       "      <td>-0.957383</td>\n",
       "      <td>-0.122803</td>\n",
       "      <td>0.010811</td>\n",
       "      <td>0.017651</td>\n",
       "      <td>-0.292243</td>\n",
       "      <td>-0.010159</td>\n",
       "      <td>-0.139673</td>\n",
       "      <td>-0.019974</td>\n",
       "      <td>-0.009071</td>\n",
       "      <td>-0.021471</td>\n",
       "    </tr>\n",
       "    <tr>\n",
       "      <th>2</th>\n",
       "      <td>0.524635</td>\n",
       "      <td>1.040150</td>\n",
       "      <td>0.002536</td>\n",
       "      <td>0.151464</td>\n",
       "      <td>-0.222881</td>\n",
       "      <td>0.000921</td>\n",
       "      <td>0.076915</td>\n",
       "      <td>0.013841</td>\n",
       "      <td>0.045603</td>\n",
       "      <td>-0.022660</td>\n",
       "    </tr>\n",
       "    <tr>\n",
       "      <th>3</th>\n",
       "      <td>-0.617190</td>\n",
       "      <td>0.211877</td>\n",
       "      <td>-0.091816</td>\n",
       "      <td>-0.403472</td>\n",
       "      <td>1.160683</td>\n",
       "      <td>0.170798</td>\n",
       "      <td>0.781349</td>\n",
       "      <td>0.234251</td>\n",
       "      <td>-0.062535</td>\n",
       "      <td>0.028951</td>\n",
       "    </tr>\n",
       "    <tr>\n",
       "      <th>4</th>\n",
       "      <td>0.703464</td>\n",
       "      <td>-0.822975</td>\n",
       "      <td>-0.010800</td>\n",
       "      <td>-0.029038</td>\n",
       "      <td>-0.049808</td>\n",
       "      <td>0.038070</td>\n",
       "      <td>0.089888</td>\n",
       "      <td>-0.033951</td>\n",
       "      <td>0.006327</td>\n",
       "      <td>0.003945</td>\n",
       "    </tr>\n",
       "  </tbody>\n",
       "</table>\n",
       "</div>"
      ],
      "text/plain": [
       "        c_1       c_2       c_3       c_4       c_5       c_6       c_7  \\\n",
       "0 -0.020774  0.014699  0.159995 -0.091200  0.487674 -0.087941 -0.405781   \n",
       "1 -0.957383 -0.122803  0.010811  0.017651 -0.292243 -0.010159 -0.139673   \n",
       "2  0.524635  1.040150  0.002536  0.151464 -0.222881  0.000921  0.076915   \n",
       "3 -0.617190  0.211877 -0.091816 -0.403472  1.160683  0.170798  0.781349   \n",
       "4  0.703464 -0.822975 -0.010800 -0.029038 -0.049808  0.038070  0.089888   \n",
       "\n",
       "        c_8       c_9      c_10  \n",
       "0 -0.066343 -0.044053  0.032234  \n",
       "1 -0.019974 -0.009071 -0.021471  \n",
       "2  0.013841  0.045603 -0.022660  \n",
       "3  0.234251 -0.062535  0.028951  \n",
       "4 -0.033951  0.006327  0.003945  "
      ]
     },
     "metadata": {},
     "output_type": "display_data"
    }
   ],
   "source": [
    "# get all the centroids\n",
    "cluster_centroids=pd.DataFrame(kmeans_model_params[0].asnumpy())\n",
    "cluster_centroids.columns=customers_transformed.columns[:-1]\n",
    "\n",
    "display(cluster_centroids)"
   ]
  },
  {
   "cell_type": "markdown",
   "metadata": {},
   "source": [
    "### Visualizing Centroids in Component Space\n",
    "\n",
    "You can't visualize 7-dimensional centroids in space, but you can plot a heatmap of the centroids and their location in the transformed feature space. \n",
    "\n",
    "This gives you insight into what characteristics define each cluster. Often with unsupervised learning, results are hard to interpret. This is one way to make use of the results of PCA + clustering techniques, together. Since you were able to examine the makeup of each PCA component, you can understand what each centroid represents in terms of the PCA components."
   ]
  },
  {
   "cell_type": "code",
   "execution_count": 94,
   "metadata": {},
   "outputs": [
    {
     "data": {
      "image/png": "[encoded data removed]",
      "text/plain": [
       "<Figure size 864x648 with 2 Axes>"
      ]
     },
     "metadata": {
      "needs_background": "light"
     },
     "output_type": "display_data"
    }
   ],
   "source": [
    "# generate a heatmap in component space, using the seaborn library\n",
    "plt.figure(figsize = (12,9))\n",
    "ax = sns.heatmap(cluster_centroids.T, cmap = 'YlGnBu')\n",
    "ax.set_xlabel(\"Cluster\")\n",
    "plt.yticks(fontsize = 16)\n",
    "plt.xticks(fontsize = 16)\n",
    "ax.set_title(\"Attribute Value by Centroid\")\n",
    "plt.show()"
   ]
  },
  {
   "cell_type": "markdown",
   "metadata": {},
   "source": [
    "If you've forgotten what each component corresponds to at an original-feature-level, that's okay! You can use the previously defined `display_component` function to see the feature-level makeup."
   ]
  },
  {
   "cell_type": "code",
   "execution_count": 95,
   "metadata": {},
   "outputs": [
    {
     "data": {
      "image/png": "[encoded data removed]",
      "text/plain": [
       "<Figure size 720x432 with 1 Axes>"
      ]
     },
     "metadata": {
      "needs_background": "light"
     },
     "output_type": "display_data"
    }
   ],
   "source": [
    "# what do each of these components mean again?\n",
    "# let's use the display function, from above\n",
    "component_num=1\n",
    "display_component(v, customer_scaled.columns.values, component_num=component_num)"
   ]
  },
  {
   "cell_type": "markdown",
   "metadata": {},
   "source": [
    "## Final Cleanup!\n",
    "\n",
    "* Double check that you have deleted all your endpoints.\n",
    "* I'd also suggest manually deleting your S3 bucket, models, and endpoint configurations directly from your AWS console.\n",
    "\n",
    "You can find thorough cleanup instructions, [in the documentation](https://docs.aws.amazon.com/sagemaker/latest/dg/ex1-cleanup.html)."
   ]
  },
  {
   "cell_type": "markdown",
   "metadata": {},
   "source": [
    "---\n",
    "# Conclusion\n",
    "\n",
    "You have just walked through a machine learning workflow for unsupervised learning, specifically, for clustering a dataset using k-means after reducing the dimensionality using PCA. By accessing the underlying models created within  SageMaker, you were able to improve the explainability of your model and draw insights from the resultant clusters. \n",
    "\n",
    "Using these techniques, you have been able to better understand the essential characteristics of different customers in Saskatchewan and segment them into similar groups, accordingly."
   ]
  },
  {
   "cell_type": "code",
   "execution_count": null,
   "metadata": {},
   "outputs": [],
   "source": []
  }
 ],
 "metadata": {
  "instance_type": "ml.t3.medium",
  "kernelspec": {
   "display_name": "Python 3 (MXNet 1.8 Python 3.7 CPU Optimized)",
   "language": "python",
   "name": "python3__SAGEMAKER_INTERNAL__arn:aws:sagemaker:us-east-1:081325390199:image/mxnet-1.8-cpu-py37-ubuntu16.04-v1"
  },
  "language_info": {
   "codemirror_mode": {
    "name": "ipython",
    "version": 3
   },
   "file_extension": ".py",
   "mimetype": "text/x-python",
   "name": "python",
   "nbconvert_exporter": "python",
   "pygments_lexer": "ipython3",
   "version": "3.7.10"
  },
  "nbpresent": {
   "slides": {
    "00185e5a-e023-4efa-9b74-1d4003fed039": {
     "id": "00185e5a-e023-4efa-9b74-1d4003fed039",
     "prev": "245581e9-468f-4d78-a748-0c3bdc5cb82a",
     "regions": {
      "691d980e-e884-402b-bedf-94142409e67a": {
       "attrs": {
        "height": 0.8,
        "width": 0.8,
        "x": 0.1,
        "y": 0.1
       },
       "content": {
        "cell": "479ad6be-6ef5-4a23-83fa-5a3438bed78c",
        "part": "whole"
       },
       "id": "691d980e-e884-402b-bedf-94142409e67a"
      }
     }
    },
    "04c02612-b7a3-4a6b-b46e-f0b64285f34f": {
     "id": "04c02612-b7a3-4a6b-b46e-f0b64285f34f",
     "prev": "cb224ddf-91c8-4058-a92c-589888536dce",
     "regions": {
      "15ef2157-6262-4d93-9646-01c5229cdc2e": {
       "attrs": {
        "height": 0.8,
        "width": 0.8,
        "x": 0.1,
        "y": 0.1
       },
       "content": {
        "cell": "479ad6be-6ef5-4a23-83fa-5a3438bed78c",
        "part": "whole"
       },
       "id": "15ef2157-6262-4d93-9646-01c5229cdc2e"
      }
     }
    },
    "0c825f9e-60ad-44b9-a3a9-32977b6dc07b": {
     "id": "0c825f9e-60ad-44b9-a3a9-32977b6dc07b",
     "prev": "3031125b-46a7-453f-8405-d51270217fed",
     "regions": {
      "5800e24d-5f1b-47f5-8cb8-5841666497ec": {
       "attrs": {
        "height": 0.8,
        "width": 0.8,
        "x": 0.1,
        "y": 0.1
       },
       "content": {
        "cell": "c2f7177c-9a56-46a7-8e51-53c1ccdac759",
        "part": "whole"
       },
       "id": "5800e24d-5f1b-47f5-8cb8-5841666497ec"
      }
     }
    },
    "0d1a4ca3-9779-41bc-a0b3-d212cb7d4a8c": {
     "id": "0d1a4ca3-9779-41bc-a0b3-d212cb7d4a8c",
     "prev": "e96ea25d-f12d-4df2-9229-29bbb6f89e57",
     "regions": {
      "73ea6e42-198b-45f7-90c0-76be78ca9873": {
       "attrs": {
        "height": 0.8,
        "width": 0.8,
        "x": 0.1,
        "y": 0.1
       },
       "content": {
        "cell": "05579e7a-be31-4942-a9a9-9f087cc284ff",
        "part": "whole"
       },
       "id": "73ea6e42-198b-45f7-90c0-76be78ca9873"
      }
     }
    },
    "0d8fa08d-7d0f-4378-8065-26382e5a86e2": {
     "id": "0d8fa08d-7d0f-4378-8065-26382e5a86e2",
     "prev": "2102ebf0-1bc1-493a-a8d2-e134b767f101",
     "regions": {
      "559c72a7-aebd-454e-aace-1ac4a1b01922": {
       "attrs": {
        "height": 0.8,
        "width": 0.8,
        "x": 0.1,
        "y": 0.1
       },
       "content": {
        "cell": "a3c4d54d-1c66-4511-9276-0a976adc27a3",
        "part": "whole"
       },
       "id": "559c72a7-aebd-454e-aace-1ac4a1b01922"
      }
     }
    },
    "0d98a2ee-ba72-4111-83eb-8ca87082100e": {
     "id": "0d98a2ee-ba72-4111-83eb-8ca87082100e",
     "prev": "a52fcace-21c6-4d27-9ee8-f87e06b1bf4b",
     "regions": {
      "f25816e9-e51b-4625-b61c-bea7755373a2": {
       "attrs": {
        "height": 0.8,
        "width": 0.8,
        "x": 0.1,
        "y": 0.1
       },
       "content": {
        "cell": "eb6724ef-65dc-4f74-b92c-3f9e540a7b35",
        "part": "whole"
       },
       "id": "f25816e9-e51b-4625-b61c-bea7755373a2"
      }
     }
    },
    "0eab16c6-3c1a-4f9c-a6d9-a1cf6220a9a2": {
     "id": "0eab16c6-3c1a-4f9c-a6d9-a1cf6220a9a2",
     "prev": "5caa41a3-a416-4b62-ad94-9efc601a0761",
     "regions": {
      "752c114b-e55a-40c2-b1d5-a646253c012a": {
       "attrs": {
        "height": 0.8,
        "width": 0.8,
        "x": 0.1,
        "y": 0.1
       },
       "content": {
        "cell": "a3c4d54d-1c66-4511-9276-0a976adc27a3",
        "part": "whole"
       },
       "id": "752c114b-e55a-40c2-b1d5-a646253c012a"
      }
     }
    },
    "0f0856fc-b72e-4a9e-9279-f0b70282084a": {
     "id": "0f0856fc-b72e-4a9e-9279-f0b70282084a",
     "prev": "4c3af69f-0dbf-4538-a217-4674c220e1ce",
     "regions": {
      "07c3f079-7bf9-4e7c-b073-93c94568b5f8": {
       "attrs": {
        "height": 0.8,
        "width": 0.8,
        "x": 0.1,
        "y": 0.1
       },
       "content": {
        "cell": "a3c4d54d-1c66-4511-9276-0a976adc27a3",
        "part": "whole"
       },
       "id": "07c3f079-7bf9-4e7c-b073-93c94568b5f8"
      }
     }
    },
    "127a45d8-ef23-4438-9cb9-c721e712e2ad": {
     "id": "127a45d8-ef23-4438-9cb9-c721e712e2ad",
     "prev": null,
     "regions": {
      "1014f9bc-a908-4bb1-b5f4-6d5fafbcacad": {
       "attrs": {
        "height": 0.8,
        "width": 0.8,
        "x": 0.1,
        "y": 0.1
       },
       "content": {
        "cell": "62d4851b-e85e-419e-901a-d5c03db59166",
        "part": "whole"
       },
       "id": "1014f9bc-a908-4bb1-b5f4-6d5fafbcacad"
      }
     }
    },
    "137bd8ba-62fa-4977-aa92-299716a1b575": {
     "id": "137bd8ba-62fa-4977-aa92-299716a1b575",
     "prev": "f89c8884-cb84-4930-a1c4-451008b047e0",
     "regions": {
      "c3c3c631-e394-4d86-8efd-f7e297da7c54": {
       "attrs": {
        "height": 0.8,
        "width": 0.8,
        "x": 0.1,
        "y": 0.1
       },
       "content": {
        "cell": "af0acd3e-f4a3-4da9-9772-6a6f896da772",
        "part": "whole"
       },
       "id": "c3c3c631-e394-4d86-8efd-f7e297da7c54"
      }
     }
    },
    "1b7fa3bc-7a7d-426c-ba1d-4fe4d2c63787": {
     "id": "1b7fa3bc-7a7d-426c-ba1d-4fe4d2c63787",
     "prev": "32b3f4bb-8a93-4047-871d-64dc33e51dc9",
     "regions": {
      "3c58bd34-7325-4848-ab56-a27006aa72eb": {
       "attrs": {
        "height": 0.8,
        "width": 0.8,
        "x": 0.1,
        "y": 0.1
       },
       "content": {
        "cell": "af0acd3e-f4a3-4da9-9772-6a6f896da772",
        "part": "whole"
       },
       "id": "3c58bd34-7325-4848-ab56-a27006aa72eb"
      }
     }
    },
    "1e649c44-6543-47ab-a724-d8c91a1eba0c": {
     "id": "1e649c44-6543-47ab-a724-d8c91a1eba0c",
     "prev": "2479aa16-61a7-448b-87fc-123ed194b826",
     "regions": {
      "5ff777a3-74e6-4424-8b17-f9c9bc680bbf": {
       "attrs": {
        "height": 0.8,
        "width": 0.8,
        "x": 0.1,
        "y": 0.1
       },
       "content": {
        "cell": "479ad6be-6ef5-4a23-83fa-5a3438bed78c",
        "part": "whole"
       },
       "id": "5ff777a3-74e6-4424-8b17-f9c9bc680bbf"
      }
     }
    },
    "206a856d-3055-461c-8169-ffee8f39c28e": {
     "id": "206a856d-3055-461c-8169-ffee8f39c28e",
     "prev": "8bbf13ba-d21a-4e20-b6fb-8248fbcb7d14",
     "regions": {
      "ebb2b7a1-4e2a-4a3a-a3c2-a7fcc8c01ab2": {
       "attrs": {
        "height": 0.8,
        "width": 0.8,
        "x": 0.1,
        "y": 0.1
       },
       "content": {
        "cell": "823d3663-8326-493a-a3fc-19b7114ef367",
        "part": "whole"
       },
       "id": "ebb2b7a1-4e2a-4a3a-a3c2-a7fcc8c01ab2"
      }
     }
    },
    "2102ebf0-1bc1-493a-a8d2-e134b767f101": {
     "id": "2102ebf0-1bc1-493a-a8d2-e134b767f101",
     "prev": "f2d04c15-4d2b-4c7e-992a-72c2b870c759",
     "regions": {
      "e75754ca-229a-4f43-8365-3ded5c65beb2": {
       "attrs": {
        "height": 0.8,
        "width": 0.8,
        "x": 0.1,
        "y": 0.1
       },
       "content": {
        "cell": "db543249-4452-45e1-a0fa-324296059f19",
        "part": "whole"
       },
       "id": "e75754ca-229a-4f43-8365-3ded5c65beb2"
      }
     }
    },
    "218a5d27-8c88-4475-9c19-04b6af5781ed": {
     "id": "218a5d27-8c88-4475-9c19-04b6af5781ed",
     "prev": "b6a3e0da-299e-4ed2-b91b-2acffd354cdf",
     "regions": {
      "3adede6c-7a8d-4918-8f7a-12114603f37a": {
       "attrs": {
        "height": 0.8,
        "width": 0.8,
        "x": 0.1,
        "y": 0.1
       },
       "content": {
        "cell": "c2f7177c-9a56-46a7-8e51-53c1ccdac759",
        "part": "whole"
       },
       "id": "3adede6c-7a8d-4918-8f7a-12114603f37a"
      }
     }
    },
    "2199474d-0f28-43f0-b05c-38e712655efe": {
     "id": "2199474d-0f28-43f0-b05c-38e712655efe",
     "prev": "bf0895a0-bc5b-466d-a091-07382c006dd6",
     "regions": {
      "d55f819b-e696-47f8-ae49-51e4fde22a3e": {
       "attrs": {
        "height": 0.8,
        "width": 0.8,
        "x": 0.1,
        "y": 0.1
       },
       "content": {
        "cell": "a3c4d54d-1c66-4511-9276-0a976adc27a3",
        "part": "whole"
       },
       "id": "d55f819b-e696-47f8-ae49-51e4fde22a3e"
      }
     }
    },
    "22126885-b04a-4cd1-b348-0dc9a5b353d1": {
     "id": "22126885-b04a-4cd1-b348-0dc9a5b353d1",
     "prev": "137bd8ba-62fa-4977-aa92-299716a1b575",
     "regions": {
      "401e60a1-ff77-4870-93f7-aa377a66983e": {
       "attrs": {
        "height": 0.8,
        "width": 0.8,
        "x": 0.1,
        "y": 0.1
       },
       "content": {
        "cell": "db543249-4452-45e1-a0fa-324296059f19",
        "part": "whole"
       },
       "id": "401e60a1-ff77-4870-93f7-aa377a66983e"
      }
     }
    },
    "22ac0a05-fa20-4071-9eeb-0cd7e8bc1495": {
     "id": "22ac0a05-fa20-4071-9eeb-0cd7e8bc1495",
     "prev": "54e37292-6b6a-42a2-b2d9-2526c00a35b6",
     "regions": {
      "f0328d95-4730-47f5-b7d7-332ab52f31df": {
       "attrs": {
        "height": 0.8,
        "width": 0.8,
        "x": 0.1,
        "y": 0.1
       },
       "content": {
        "cell": "d266ff00-54d6-47f7-a26c-eea6cd1e468f",
        "part": "whole"
       },
       "id": "f0328d95-4730-47f5-b7d7-332ab52f31df"
      }
     }
    },
    "245581e9-468f-4d78-a748-0c3bdc5cb82a": {
     "id": "245581e9-468f-4d78-a748-0c3bdc5cb82a",
     "prev": "963feba9-0d2a-4c66-85cc-96d2fc723e8e",
     "regions": {
      "e61eaae3-5014-424c-bd4e-df22507d29af": {
       "attrs": {
        "height": 0.8,
        "width": 0.8,
        "x": 0.1,
        "y": 0.1
       },
       "content": {
        "cell": "e1d4e5a9-715b-412f-b881-5306080566d0",
        "part": "whole"
       },
       "id": "e61eaae3-5014-424c-bd4e-df22507d29af"
      }
     }
    },
    "2479aa16-61a7-448b-87fc-123ed194b826": {
     "id": "2479aa16-61a7-448b-87fc-123ed194b826",
     "prev": "0d98a2ee-ba72-4111-83eb-8ca87082100e",
     "regions": {
      "06a7635a-7143-4bd9-888a-636071ed94b2": {
       "attrs": {
        "height": 0.8,
        "width": 0.8,
        "x": 0.1,
        "y": 0.1
       },
       "content": {
        "cell": "e1d4e5a9-715b-412f-b881-5306080566d0",
        "part": "whole"
       },
       "id": "06a7635a-7143-4bd9-888a-636071ed94b2"
      }
     }
    },
    "24ebeb55-bda2-46aa-b01d-2eb1e08ec4b9": {
     "id": "24ebeb55-bda2-46aa-b01d-2eb1e08ec4b9",
     "prev": "3836b696-9da4-4822-a1a4-1c8a7f016e93",
     "regions": {
      "1c9d0303-cc0c-4556-9456-55413d4b1a37": {
       "attrs": {
        "height": 0.8,
        "width": 0.8,
        "x": 0.1,
        "y": 0.1
       },
       "content": {
        "cell": "6e941245-3e15-4018-a947-9e66bc58c86e",
        "part": "whole"
       },
       "id": "1c9d0303-cc0c-4556-9456-55413d4b1a37"
      }
     }
    },
    "29c82185-c087-4da1-820d-e67d6f607544": {
     "id": "29c82185-c087-4da1-820d-e67d6f607544",
     "prev": "e1f94e70-f7b9-4d99-94c3-01f0f0a8251d",
     "regions": {
      "75915c00-90cb-4965-8dca-f1e7fc5c150d": {
       "attrs": {
        "height": 0.8,
        "width": 0.8,
        "x": 0.1,
        "y": 0.1
       },
       "content": {
        "cell": "d266ff00-54d6-47f7-a26c-eea6cd1e468f",
        "part": "whole"
       },
       "id": "75915c00-90cb-4965-8dca-f1e7fc5c150d"
      }
     }
    },
    "2d6a9841-621c-4219-9bd2-c010aac01f3a": {
     "id": "2d6a9841-621c-4219-9bd2-c010aac01f3a",
     "prev": "354d2e1c-833c-43c1-8518-84deefa9dd83",
     "regions": {
      "3366de71-d77a-4bf3-bc86-9da3afe09d58": {
       "attrs": {
        "height": 0.8,
        "width": 0.8,
        "x": 0.1,
        "y": 0.1
       },
       "content": {
        "cell": "af0acd3e-f4a3-4da9-9772-6a6f896da772",
        "part": "whole"
       },
       "id": "3366de71-d77a-4bf3-bc86-9da3afe09d58"
      }
     }
    },
    "2eb5b91d-2f89-4478-a871-9ebabfe8c755": {
     "id": "2eb5b91d-2f89-4478-a871-9ebabfe8c755",
     "prev": "3c39b8cb-b3ee-42a8-b58a-23f42dd1afb7",
     "regions": {
      "dbd82ff9-f97d-4b4e-9181-2757bd864899": {
       "attrs": {
        "height": 0.8,
        "width": 0.8,
        "x": 0.1,
        "y": 0.1
       },
       "content": {
        "cell": "fdd10c00-53ba-405d-8622-fbfeac17d3bb",
        "part": "whole"
       },
       "id": "dbd82ff9-f97d-4b4e-9181-2757bd864899"
      }
     }
    },
    "2f879b6f-c9ea-44d7-91e7-9baa9101dcde": {
     "id": "2f879b6f-c9ea-44d7-91e7-9baa9101dcde",
     "prev": "43ecdc28-ce1b-4c27-a143-3b0f6dfaa54f",
     "regions": {
      "7e27878d-50e3-4a78-ab08-81e37b035c95": {
       "attrs": {
        "height": 0.8,
        "width": 0.8,
        "x": 0.1,
        "y": 0.1
       },
       "content": {
        "cell": "ecdacfd7-456b-4b29-9c7d-aba29749c18f",
        "part": "whole"
       },
       "id": "7e27878d-50e3-4a78-ab08-81e37b035c95"
      }
     }
    },
    "3031125b-46a7-453f-8405-d51270217fed": {
     "id": "3031125b-46a7-453f-8405-d51270217fed",
     "prev": "41f1ac43-20aa-4be5-98e4-359d8294fa5a",
     "regions": {
      "487fc265-9057-4a2f-a5ae-5910bb803e6d": {
       "attrs": {
        "height": 0.8,
        "width": 0.8,
        "x": 0.1,
        "y": 0.1
       },
       "content": {
        "cell": "97a46770-dbe0-40ea-b454-b15bdec20f53",
        "part": "whole"
       },
       "id": "487fc265-9057-4a2f-a5ae-5910bb803e6d"
      }
     }
    },
    "32b3f4bb-8a93-4047-871d-64dc33e51dc9": {
     "id": "32b3f4bb-8a93-4047-871d-64dc33e51dc9",
     "prev": "cced8bf0-fff7-4aa8-a171-61b61bb5f70b",
     "regions": {
      "57d063fd-764a-4f6d-bfd7-1d91702b8e3a": {
       "attrs": {
        "height": 0.8,
        "width": 0.8,
        "x": 0.1,
        "y": 0.1
       },
       "content": {
        "cell": "ecdacfd7-456b-4b29-9c7d-aba29749c18f",
        "part": "whole"
       },
       "id": "57d063fd-764a-4f6d-bfd7-1d91702b8e3a"
      }
     }
    },
    "33eed3c0-aa11-4eeb-a2d8-e38080594622": {
     "id": "33eed3c0-aa11-4eeb-a2d8-e38080594622",
     "prev": "39b995da-8164-4191-97fa-126bbe9a9c13",
     "regions": {
      "fd63566a-8284-4ba0-ac22-e6e987ad37c4": {
       "attrs": {
        "height": 0.8,
        "width": 0.8,
        "x": 0.1,
        "y": 0.1
       },
       "content": {
        "cell": "479ad6be-6ef5-4a23-83fa-5a3438bed78c",
        "part": "whole"
       },
       "id": "fd63566a-8284-4ba0-ac22-e6e987ad37c4"
      }
     }
    },
    "351921d3-3e52-4de7-ac14-e2d065745a4c": {
     "id": "351921d3-3e52-4de7-ac14-e2d065745a4c",
     "prev": "73b93342-b297-40d2-83fa-0a5c3569b07b",
     "regions": {
      "6f34315e-6c22-4c7e-abb7-4090206c8fc7": {
       "attrs": {
        "height": 0.8,
        "width": 0.8,
        "x": 0.1,
        "y": 0.1
       },
       "content": {
        "cell": "05579e7a-be31-4942-a9a9-9f087cc284ff",
        "part": "whole"
       },
       "id": "6f34315e-6c22-4c7e-abb7-4090206c8fc7"
      }
     }
    },
    "354d2e1c-833c-43c1-8518-84deefa9dd83": {
     "id": "354d2e1c-833c-43c1-8518-84deefa9dd83",
     "prev": "644939af-71cf-4118-b725-186deee66293",
     "regions": {
      "b3d5c164-fdec-4ff4-a7bb-ed51d0b5a7b1": {
       "attrs": {
        "height": 0.8,
        "width": 0.8,
        "x": 0.1,
        "y": 0.1
       },
       "content": {
        "cell": "ecdacfd7-456b-4b29-9c7d-aba29749c18f",
        "part": "whole"
       },
       "id": "b3d5c164-fdec-4ff4-a7bb-ed51d0b5a7b1"
      }
     }
    },
    "37d0d82e-1379-4317-93cf-784cec2d5a7e": {
     "id": "37d0d82e-1379-4317-93cf-784cec2d5a7e",
     "prev": null,
     "regions": {
      "3a9f28d5-edac-42fb-a77d-ea8bf091c5f2": {
       "attrs": {
        "height": 0.8,
        "width": 0.8,
        "x": 0.1,
        "y": 0.1
       },
       "content": {
        "cell": "62d4851b-e85e-419e-901a-d5c03db59166",
        "part": "whole"
       },
       "id": "3a9f28d5-edac-42fb-a77d-ea8bf091c5f2"
      }
     }
    },
    "3836b696-9da4-4822-a1a4-1c8a7f016e93": {
     "id": "3836b696-9da4-4822-a1a4-1c8a7f016e93",
     "prev": "1e649c44-6543-47ab-a724-d8c91a1eba0c",
     "regions": {
      "5fbd00ec-19d3-492e-968b-da323b10e954": {
       "attrs": {
        "height": 0.8,
        "width": 0.8,
        "x": 0.1,
        "y": 0.1
       },
       "content": {
        "cell": "ba9ad1d9-659e-4fad-a0fd-0a23e7b56fc0",
        "part": "whole"
       },
       "id": "5fbd00ec-19d3-492e-968b-da323b10e954"
      }
     }
    },
    "39b995da-8164-4191-97fa-126bbe9a9c13": {
     "id": "39b995da-8164-4191-97fa-126bbe9a9c13",
     "prev": "efb38a77-d38d-4004-a8d2-e16791ef4448",
     "regions": {
      "abfb13e5-f301-4013-a152-3f165c0e1299": {
       "attrs": {
        "height": 0.8,
        "width": 0.8,
        "x": 0.1,
        "y": 0.1
       },
       "content": {
        "cell": "e1d4e5a9-715b-412f-b881-5306080566d0",
        "part": "whole"
       },
       "id": "abfb13e5-f301-4013-a152-3f165c0e1299"
      }
     }
    },
    "3c39b8cb-b3ee-42a8-b58a-23f42dd1afb7": {
     "id": "3c39b8cb-b3ee-42a8-b58a-23f42dd1afb7",
     "prev": "0d1a4ca3-9779-41bc-a0b3-d212cb7d4a8c",
     "regions": {
      "c5719391-2268-411a-a785-1ee02e70ca98": {
       "attrs": {
        "height": 0.8,
        "width": 0.8,
        "x": 0.1,
        "y": 0.1
       },
       "content": {
        "cell": "d266ff00-54d6-47f7-a26c-eea6cd1e468f",
        "part": "whole"
       },
       "id": "c5719391-2268-411a-a785-1ee02e70ca98"
      }
     }
    },
    "3d0dbf54-52e5-4743-a89f-c150039d1e1d": {
     "id": "3d0dbf54-52e5-4743-a89f-c150039d1e1d",
     "prev": "47f1d1e8-c00c-4cc6-b6db-b3b5dec491a7",
     "regions": {
      "49d32907-2026-4c47-949f-0c89f19c68eb": {
       "attrs": {
        "height": 0.8,
        "width": 0.8,
        "x": 0.1,
        "y": 0.1
       },
       "content": {
        "cell": "e1d4e5a9-715b-412f-b881-5306080566d0",
        "part": "whole"
       },
       "id": "49d32907-2026-4c47-949f-0c89f19c68eb"
      }
     }
    },
    "3f9d811f-b09e-4b43-92cd-cde475b9c555": {
     "id": "3f9d811f-b09e-4b43-92cd-cde475b9c555",
     "prev": "3d0dbf54-52e5-4743-a89f-c150039d1e1d",
     "regions": {
      "ec6e19e1-b3e7-4030-9522-b92032417481": {
       "attrs": {
        "height": 0.8,
        "width": 0.8,
        "x": 0.1,
        "y": 0.1
       },
       "content": {
        "cell": "479ad6be-6ef5-4a23-83fa-5a3438bed78c",
        "part": "whole"
       },
       "id": "ec6e19e1-b3e7-4030-9522-b92032417481"
      }
     }
    },
    "41f1ac43-20aa-4be5-98e4-359d8294fa5a": {
     "id": "41f1ac43-20aa-4be5-98e4-359d8294fa5a",
     "prev": "85cdb4b9-8c14-490e-861b-988132f067bb",
     "regions": {
      "b3aaf14c-3e4f-477d-8e7f-065d04e1be0a": {
       "attrs": {
        "height": 0.8,
        "width": 0.8,
        "x": 0.1,
        "y": 0.1
       },
       "content": {
        "cell": "6e941245-3e15-4018-a947-9e66bc58c86e",
        "part": "whole"
       },
       "id": "b3aaf14c-3e4f-477d-8e7f-065d04e1be0a"
      }
     }
    },
    "43ecdc28-ce1b-4c27-a143-3b0f6dfaa54f": {
     "id": "43ecdc28-ce1b-4c27-a143-3b0f6dfaa54f",
     "prev": "ad0964ff-fae9-4b44-a978-12dad9d949b5",
     "regions": {
      "95c45e90-6ed9-4882-985e-3fa7e31968f7": {
       "attrs": {
        "height": 0.8,
        "width": 0.8,
        "x": 0.1,
        "y": 0.1
       },
       "content": {
        "cell": "fdd10c00-53ba-405d-8622-fbfeac17d3bb",
        "part": "whole"
       },
       "id": "95c45e90-6ed9-4882-985e-3fa7e31968f7"
      }
     }
    },
    "47f1d1e8-c00c-4cc6-b6db-b3b5dec491a7": {
     "id": "47f1d1e8-c00c-4cc6-b6db-b3b5dec491a7",
     "prev": "70ea2b93-7bef-4144-b2ae-7d93079f890f",
     "regions": {
      "353852e7-a881-4c8b-a077-0e8f263f9cd1": {
       "attrs": {
        "height": 0.8,
        "width": 0.8,
        "x": 0.1,
        "y": 0.1
       },
       "content": {
        "cell": "eb6724ef-65dc-4f74-b92c-3f9e540a7b35",
        "part": "whole"
       },
       "id": "353852e7-a881-4c8b-a077-0e8f263f9cd1"
      }
     }
    },
    "4990bcde-5278-4c18-b9e3-d40b08618221": {
     "id": "4990bcde-5278-4c18-b9e3-d40b08618221",
     "prev": "d6815d16-3361-4aec-bdda-c20916e2958c",
     "regions": {
      "b6fc53ab-f89a-49d1-b0fd-44efbcaebdd8": {
       "attrs": {
        "height": 0.8,
        "width": 0.8,
        "x": 0.1,
        "y": 0.1
       },
       "content": {
        "cell": "2f809521-0a9c-4000-ba29-f6fcbb027dc9",
        "part": "whole"
       },
       "id": "b6fc53ab-f89a-49d1-b0fd-44efbcaebdd8"
      }
     }
    },
    "4c3af69f-0dbf-4538-a217-4674c220e1ce": {
     "id": "4c3af69f-0dbf-4538-a217-4674c220e1ce",
     "prev": "1b7fa3bc-7a7d-426c-ba1d-4fe4d2c63787",
     "regions": {
      "ed6a99e6-abe3-402c-9d1e-895c79ebfb51": {
       "attrs": {
        "height": 0.8,
        "width": 0.8,
        "x": 0.1,
        "y": 0.1
       },
       "content": {
        "cell": "db543249-4452-45e1-a0fa-324296059f19",
        "part": "whole"
       },
       "id": "ed6a99e6-abe3-402c-9d1e-895c79ebfb51"
      }
     }
    },
    "4e734229-1e33-429a-ab1e-9f25538f7799": {
     "id": "4e734229-1e33-429a-ab1e-9f25538f7799",
     "prev": "dac34957-e22e-418c-b575-a1ae52ebee9a",
     "regions": {
      "fedd46f4-a0e9-4859-8b03-23150d19893a": {
       "attrs": {
        "height": 0.8,
        "width": 0.8,
        "x": 0.1,
        "y": 0.1
       },
       "content": {
        "cell": "c2f7177c-9a56-46a7-8e51-53c1ccdac759",
        "part": "whole"
       },
       "id": "fedd46f4-a0e9-4859-8b03-23150d19893a"
      }
     }
    },
    "54e37292-6b6a-42a2-b2d9-2526c00a35b6": {
     "id": "54e37292-6b6a-42a2-b2d9-2526c00a35b6",
     "prev": "ccb21490-40cb-425d-9738-9a08f56265f6",
     "regions": {
      "6bff46e7-b141-437c-a413-524951f4e72f": {
       "attrs": {
        "height": 0.8,
        "width": 0.8,
        "x": 0.1,
        "y": 0.1
       },
       "content": {
        "cell": "05579e7a-be31-4942-a9a9-9f087cc284ff",
        "part": "whole"
       },
       "id": "6bff46e7-b141-437c-a413-524951f4e72f"
      }
     }
    },
    "5caa41a3-a416-4b62-ad94-9efc601a0761": {
     "id": "5caa41a3-a416-4b62-ad94-9efc601a0761",
     "prev": "f3fd7c80-e6c3-4fe1-8da4-d8c46dec60f5",
     "regions": {
      "8aff2690-5aab-4ef2-a038-15de457228e8": {
       "attrs": {
        "height": 0.8,
        "width": 0.8,
        "x": 0.1,
        "y": 0.1
       },
       "content": {
        "cell": "db543249-4452-45e1-a0fa-324296059f19",
        "part": "whole"
       },
       "id": "8aff2690-5aab-4ef2-a038-15de457228e8"
      }
     }
    },
    "644939af-71cf-4118-b725-186deee66293": {
     "id": "644939af-71cf-4118-b725-186deee66293",
     "prev": "22ac0a05-fa20-4071-9eeb-0cd7e8bc1495",
     "regions": {
      "2534f9df-66e9-4f28-ac38-2353f352a4b4": {
       "attrs": {
        "height": 0.8,
        "width": 0.8,
        "x": 0.1,
        "y": 0.1
       },
       "content": {
        "cell": "fdd10c00-53ba-405d-8622-fbfeac17d3bb",
        "part": "whole"
       },
       "id": "2534f9df-66e9-4f28-ac38-2353f352a4b4"
      }
     }
    },
    "6b00f37c-e15e-4979-b7b1-fb36dadd0d3e": {
     "id": "6b00f37c-e15e-4979-b7b1-fb36dadd0d3e",
     "prev": "0eab16c6-3c1a-4f9c-a6d9-a1cf6220a9a2",
     "regions": {
      "9065871c-7a40-4a6f-be71-04c61fb3d4ed": {
       "attrs": {
        "height": 0.8,
        "width": 0.8,
        "x": 0.1,
        "y": 0.1
       },
       "content": {
        "cell": "823d3663-8326-493a-a3fc-19b7114ef367",
        "part": "whole"
       },
       "id": "9065871c-7a40-4a6f-be71-04c61fb3d4ed"
      }
     }
    },
    "6c3de2fd-22fe-4b21-bd8f-c97a98e470a4": {
     "id": "6c3de2fd-22fe-4b21-bd8f-c97a98e470a4",
     "prev": "d7f8c565-3a5f-4d4f-b909-2d81839e6896",
     "regions": {
      "c9366dfe-5d4c-4496-a0f0-03a107250f99": {
       "attrs": {
        "height": 0.8,
        "width": 0.8,
        "x": 0.1,
        "y": 0.1
       },
       "content": {
        "cell": "d266ff00-54d6-47f7-a26c-eea6cd1e468f",
        "part": "whole"
       },
       "id": "c9366dfe-5d4c-4496-a0f0-03a107250f99"
      }
     }
    },
    "70ea2b93-7bef-4144-b2ae-7d93079f890f": {
     "id": "70ea2b93-7bef-4144-b2ae-7d93079f890f",
     "prev": "127a45d8-ef23-4438-9cb9-c721e712e2ad",
     "regions": {
      "3ea4c7c2-650f-41b5-80af-81d976f323e4": {
       "attrs": {
        "height": 0.8,
        "width": 0.8,
        "x": 0.1,
        "y": 0.1
       },
       "content": {
        "cell": "41d6f28b-3c7e-4d68-a8cb-4e063ec6fe27",
        "part": "whole"
       },
       "id": "3ea4c7c2-650f-41b5-80af-81d976f323e4"
      }
     }
    },
    "73b93342-b297-40d2-83fa-0a5c3569b07b": {
     "id": "73b93342-b297-40d2-83fa-0a5c3569b07b",
     "prev": "218a5d27-8c88-4475-9c19-04b6af5781ed",
     "regions": {
      "137602b1-d910-48a6-8214-eeb299661772": {
       "attrs": {
        "height": 0.8,
        "width": 0.8,
        "x": 0.1,
        "y": 0.1
       },
       "content": {
        "cell": "2f809521-0a9c-4000-ba29-f6fcbb027dc9",
        "part": "whole"
       },
       "id": "137602b1-d910-48a6-8214-eeb299661772"
      }
     }
    },
    "744b667b-61a0-4bb2-b78e-9de2788bc7e8": {
     "id": "744b667b-61a0-4bb2-b78e-9de2788bc7e8",
     "prev": "3f9d811f-b09e-4b43-92cd-cde475b9c555",
     "regions": {
      "a14c6f68-caf3-4f49-aee2-90d1761f0d0d": {
       "attrs": {
        "height": 0.8,
        "width": 0.8,
        "x": 0.1,
        "y": 0.1
       },
       "content": {
        "cell": "ba9ad1d9-659e-4fad-a0fd-0a23e7b56fc0",
        "part": "whole"
       },
       "id": "a14c6f68-caf3-4f49-aee2-90d1761f0d0d"
      }
     }
    },
    "834f16ec-1755-40aa-9405-fa356485e8be": {
     "id": "834f16ec-1755-40aa-9405-fa356485e8be",
     "prev": "33eed3c0-aa11-4eeb-a2d8-e38080594622",
     "regions": {
      "3051de16-0381-431c-86e4-d29c57fb325d": {
       "attrs": {
        "height": 0.8,
        "width": 0.8,
        "x": 0.1,
        "y": 0.1
       },
       "content": {
        "cell": "ba9ad1d9-659e-4fad-a0fd-0a23e7b56fc0",
        "part": "whole"
       },
       "id": "3051de16-0381-431c-86e4-d29c57fb325d"
      }
     }
    },
    "84e5d013-5ab1-4159-aa5f-fc7f55caab96": {
     "id": "84e5d013-5ab1-4159-aa5f-fc7f55caab96",
     "prev": "29c82185-c087-4da1-820d-e67d6f607544",
     "regions": {
      "3f22d886-6e54-4fe9-8daf-18796f426768": {
       "attrs": {
        "height": 0.8,
        "width": 0.8,
        "x": 0.1,
        "y": 0.1
       },
       "content": {
        "cell": "fdd10c00-53ba-405d-8622-fbfeac17d3bb",
        "part": "whole"
       },
       "id": "3f22d886-6e54-4fe9-8daf-18796f426768"
      }
     }
    },
    "85cdb4b9-8c14-490e-861b-988132f067bb": {
     "id": "85cdb4b9-8c14-490e-861b-988132f067bb",
     "prev": "04c02612-b7a3-4a6b-b46e-f0b64285f34f",
     "regions": {
      "27457dde-4bf2-44d0-ba73-9162622e3bdc": {
       "attrs": {
        "height": 0.8,
        "width": 0.8,
        "x": 0.1,
        "y": 0.1
       },
       "content": {
        "cell": "ba9ad1d9-659e-4fad-a0fd-0a23e7b56fc0",
        "part": "whole"
       },
       "id": "27457dde-4bf2-44d0-ba73-9162622e3bdc"
      }
     }
    },
    "888db3f7-5824-4459-a8d6-36927be78fce": {
     "id": "888db3f7-5824-4459-a8d6-36927be78fce",
     "prev": "aa64bc2c-0a71-4a60-894d-9fe54691404b",
     "regions": {
      "d59a5b99-359c-4ab6-9557-641371d38620": {
       "attrs": {
        "height": 0.8,
        "width": 0.8,
        "x": 0.1,
        "y": 0.1
       },
       "content": {
        "cell": "97a46770-dbe0-40ea-b454-b15bdec20f53",
        "part": "whole"
       },
       "id": "d59a5b99-359c-4ab6-9557-641371d38620"
      }
     }
    },
    "8affd1e6-70b8-4959-8bcc-9fa3d98ac946": {
     "id": "8affd1e6-70b8-4959-8bcc-9fa3d98ac946",
     "prev": "da2956f8-18a5-4bfa-9591-5cf3e39e7248",
     "regions": {
      "84eb25c1-1e33-4e39-9b2d-8f8c9e13ec7c": {
       "attrs": {
        "height": 0.8,
        "width": 0.8,
        "x": 0.1,
        "y": 0.1
       },
       "content": {
        "cell": "6e941245-3e15-4018-a947-9e66bc58c86e",
        "part": "whole"
       },
       "id": "84eb25c1-1e33-4e39-9b2d-8f8c9e13ec7c"
      }
     }
    },
    "8bbf13ba-d21a-4e20-b6fb-8248fbcb7d14": {
     "id": "8bbf13ba-d21a-4e20-b6fb-8248fbcb7d14",
     "prev": "22126885-b04a-4cd1-b348-0dc9a5b353d1",
     "regions": {
      "2efe0c9d-7786-4107-8ff4-1bf1246eb94f": {
       "attrs": {
        "height": 0.8,
        "width": 0.8,
        "x": 0.1,
        "y": 0.1
       },
       "content": {
        "cell": "a3c4d54d-1c66-4511-9276-0a976adc27a3",
        "part": "whole"
       },
       "id": "2efe0c9d-7786-4107-8ff4-1bf1246eb94f"
      }
     }
    },
    "963feba9-0d2a-4c66-85cc-96d2fc723e8e": {
     "id": "963feba9-0d2a-4c66-85cc-96d2fc723e8e",
     "prev": null,
     "regions": {
      "03648aaa-3268-4c18-806d-e999756ac4cf": {
       "attrs": {
        "height": 0.8,
        "width": 0.8,
        "x": 0.1,
        "y": 0.1
       },
       "content": {
        "cell": "eb6724ef-65dc-4f74-b92c-3f9e540a7b35",
        "part": "whole"
       },
       "id": "03648aaa-3268-4c18-806d-e999756ac4cf"
      }
     }
    },
    "a52fcace-21c6-4d27-9ee8-f87e06b1bf4b": {
     "id": "a52fcace-21c6-4d27-9ee8-f87e06b1bf4b",
     "prev": "f282fd14-a561-4ad9-958b-ceeb296e93d6",
     "regions": {
      "2c8df343-f44b-4b1f-9bed-f9374dab1541": {
       "attrs": {
        "height": 0.8,
        "width": 0.8,
        "x": 0.1,
        "y": 0.1
       },
       "content": {
        "cell": "41d6f28b-3c7e-4d68-a8cb-4e063ec6fe27",
        "part": "whole"
       },
       "id": "2c8df343-f44b-4b1f-9bed-f9374dab1541"
      }
     }
    },
    "aa64bc2c-0a71-4a60-894d-9fe54691404b": {
     "id": "aa64bc2c-0a71-4a60-894d-9fe54691404b",
     "prev": "744b667b-61a0-4bb2-b78e-9de2788bc7e8",
     "regions": {
      "58be5b97-dc19-4de8-add9-c05fcca8a613": {
       "attrs": {
        "height": 0.8,
        "width": 0.8,
        "x": 0.1,
        "y": 0.1
       },
       "content": {
        "cell": "6e941245-3e15-4018-a947-9e66bc58c86e",
        "part": "whole"
       },
       "id": "58be5b97-dc19-4de8-add9-c05fcca8a613"
      }
     }
    },
    "ad0964ff-fae9-4b44-a978-12dad9d949b5": {
     "id": "ad0964ff-fae9-4b44-a978-12dad9d949b5",
     "prev": "351921d3-3e52-4de7-ac14-e2d065745a4c",
     "regions": {
      "2852b579-93ae-4565-8add-20bc3ff9dcef": {
       "attrs": {
        "height": 0.8,
        "width": 0.8,
        "x": 0.1,
        "y": 0.1
       },
       "content": {
        "cell": "d266ff00-54d6-47f7-a26c-eea6cd1e468f",
        "part": "whole"
       },
       "id": "2852b579-93ae-4565-8add-20bc3ff9dcef"
      }
     }
    },
    "b6a3e0da-299e-4ed2-b91b-2acffd354cdf": {
     "id": "b6a3e0da-299e-4ed2-b91b-2acffd354cdf",
     "prev": "24ebeb55-bda2-46aa-b01d-2eb1e08ec4b9",
     "regions": {
      "cec135fa-0989-4cae-9d41-1af9445b29a8": {
       "attrs": {
        "height": 0.8,
        "width": 0.8,
        "x": 0.1,
        "y": 0.1
       },
       "content": {
        "cell": "97a46770-dbe0-40ea-b454-b15bdec20f53",
        "part": "whole"
       },
       "id": "cec135fa-0989-4cae-9d41-1af9445b29a8"
      }
     }
    },
    "be687a44-3db4-4be7-9f39-71fb43cc9fbc": {
     "id": "be687a44-3db4-4be7-9f39-71fb43cc9fbc",
     "prev": "8affd1e6-70b8-4959-8bcc-9fa3d98ac946",
     "regions": {
      "87ea0664-8af3-4c54-aa8f-0b9f0c2bd4e8": {
       "attrs": {
        "height": 0.8,
        "width": 0.8,
        "x": 0.1,
        "y": 0.1
       },
       "content": {
        "cell": "97a46770-dbe0-40ea-b454-b15bdec20f53",
        "part": "whole"
       },
       "id": "87ea0664-8af3-4c54-aa8f-0b9f0c2bd4e8"
      }
     }
    },
    "bf0895a0-bc5b-466d-a091-07382c006dd6": {
     "id": "bf0895a0-bc5b-466d-a091-07382c006dd6",
     "prev": "2d6a9841-621c-4219-9bd2-c010aac01f3a",
     "regions": {
      "7ebcb078-8ca9-4728-93a6-c7178465168f": {
       "attrs": {
        "height": 0.8,
        "width": 0.8,
        "x": 0.1,
        "y": 0.1
       },
       "content": {
        "cell": "db543249-4452-45e1-a0fa-324296059f19",
        "part": "whole"
       },
       "id": "7ebcb078-8ca9-4728-93a6-c7178465168f"
      }
     }
    },
    "c0cc38e5-c3b6-4f92-a3b0-e31ec2159b50": {
     "id": "c0cc38e5-c3b6-4f92-a3b0-e31ec2159b50",
     "prev": "834f16ec-1755-40aa-9405-fa356485e8be",
     "regions": {
      "0a944982-056c-4c22-b01c-3378924f27bc": {
       "attrs": {
        "height": 0.8,
        "width": 0.8,
        "x": 0.1,
        "y": 0.1
       },
       "content": {
        "cell": "6e941245-3e15-4018-a947-9e66bc58c86e",
        "part": "whole"
       },
       "id": "0a944982-056c-4c22-b01c-3378924f27bc"
      }
     }
    },
    "cb224ddf-91c8-4058-a92c-589888536dce": {
     "id": "cb224ddf-91c8-4058-a92c-589888536dce",
     "prev": "f8f60d11-8c40-4a82-ad2d-4ddbc346064a",
     "regions": {
      "5db7b356-55ac-4638-92ee-9aee8eb79745": {
       "attrs": {
        "height": 0.8,
        "width": 0.8,
        "x": 0.1,
        "y": 0.1
       },
       "content": {
        "cell": "e1d4e5a9-715b-412f-b881-5306080566d0",
        "part": "whole"
       },
       "id": "5db7b356-55ac-4638-92ee-9aee8eb79745"
      }
     }
    },
    "cc146373-3ece-4360-9e15-95a78c2a6228": {
     "id": "cc146373-3ece-4360-9e15-95a78c2a6228",
     "prev": "206a856d-3055-461c-8169-ffee8f39c28e",
     "regions": {
      "18bd17df-8f7c-40a0-b547-d396bb43f9d8": {
       "attrs": {
        "height": 0.8,
        "width": 0.8,
        "x": 0.1,
        "y": 0.1
       },
       "content": {
        "cell": "7e847244-7b42-490f-8945-46e234a3af75",
        "part": "whole"
       },
       "id": "18bd17df-8f7c-40a0-b547-d396bb43f9d8"
      }
     }
    },
    "ccb21490-40cb-425d-9738-9a08f56265f6": {
     "id": "ccb21490-40cb-425d-9738-9a08f56265f6",
     "prev": "4e734229-1e33-429a-ab1e-9f25538f7799",
     "regions": {
      "9c0b0fc7-6e91-47b9-aafd-3b68186f9b1c": {
       "attrs": {
        "height": 0.8,
        "width": 0.8,
        "x": 0.1,
        "y": 0.1
       },
       "content": {
        "cell": "2f809521-0a9c-4000-ba29-f6fcbb027dc9",
        "part": "whole"
       },
       "id": "9c0b0fc7-6e91-47b9-aafd-3b68186f9b1c"
      }
     }
    },
    "cced8bf0-fff7-4aa8-a171-61b61bb5f70b": {
     "id": "cced8bf0-fff7-4aa8-a171-61b61bb5f70b",
     "prev": "6c3de2fd-22fe-4b21-bd8f-c97a98e470a4",
     "regions": {
      "aa9d94b0-aa3d-4b28-b9af-cd6566af8ce6": {
       "attrs": {
        "height": 0.8,
        "width": 0.8,
        "x": 0.1,
        "y": 0.1
       },
       "content": {
        "cell": "fdd10c00-53ba-405d-8622-fbfeac17d3bb",
        "part": "whole"
       },
       "id": "aa9d94b0-aa3d-4b28-b9af-cd6566af8ce6"
      }
     }
    },
    "d4a64d2e-3fa3-4742-b817-999ee662f9a2": {
     "id": "d4a64d2e-3fa3-4742-b817-999ee662f9a2",
     "prev": "0d8fa08d-7d0f-4378-8065-26382e5a86e2",
     "regions": {
      "6f4633db-bd8c-4ede-890e-d8c82fef3a22": {
       "attrs": {
        "height": 0.8,
        "width": 0.8,
        "x": 0.1,
        "y": 0.1
       },
       "content": {
        "cell": "823d3663-8326-493a-a3fc-19b7114ef367",
        "part": "whole"
       },
       "id": "6f4633db-bd8c-4ede-890e-d8c82fef3a22"
      }
     }
    },
    "d55e9216-ec74-4b8a-8c86-626de0a99a3f": {
     "id": "d55e9216-ec74-4b8a-8c86-626de0a99a3f",
     "prev": "0f0856fc-b72e-4a9e-9279-f0b70282084a",
     "regions": {
      "1f11ff0a-2933-4966-b23b-4471b9ba3fe1": {
       "attrs": {
        "height": 0.8,
        "width": 0.8,
        "x": 0.1,
        "y": 0.1
       },
       "content": {
        "cell": "823d3663-8326-493a-a3fc-19b7114ef367",
        "part": "whole"
       },
       "id": "1f11ff0a-2933-4966-b23b-4471b9ba3fe1"
      }
     }
    },
    "d6815d16-3361-4aec-bdda-c20916e2958c": {
     "id": "d6815d16-3361-4aec-bdda-c20916e2958c",
     "prev": "888db3f7-5824-4459-a8d6-36927be78fce",
     "regions": {
      "0276812b-043d-4477-8e3b-c8ab28a48dfe": {
       "attrs": {
        "height": 0.8,
        "width": 0.8,
        "x": 0.1,
        "y": 0.1
       },
       "content": {
        "cell": "c2f7177c-9a56-46a7-8e51-53c1ccdac759",
        "part": "whole"
       },
       "id": "0276812b-043d-4477-8e3b-c8ab28a48dfe"
      }
     }
    },
    "d7f8c565-3a5f-4d4f-b909-2d81839e6896": {
     "id": "d7f8c565-3a5f-4d4f-b909-2d81839e6896",
     "prev": "f06bb312-3e06-4eab-9a4a-a1f10cb67455",
     "regions": {
      "b9a2cb44-4072-49c9-9f76-ae04a82aaeb3": {
       "attrs": {
        "height": 0.8,
        "width": 0.8,
        "x": 0.1,
        "y": 0.1
       },
       "content": {
        "cell": "05579e7a-be31-4942-a9a9-9f087cc284ff",
        "part": "whole"
       },
       "id": "b9a2cb44-4072-49c9-9f76-ae04a82aaeb3"
      }
     }
    },
    "d8a1cce1-10b5-4725-86a4-045d061273ee": {
     "id": "d8a1cce1-10b5-4725-86a4-045d061273ee",
     "prev": "6b00f37c-e15e-4979-b7b1-fb36dadd0d3e",
     "regions": {
      "c24a5fc8-2a90-4c13-91d7-223ad92cd794": {
       "attrs": {
        "height": 0.8,
        "width": 0.8,
        "x": 0.1,
        "y": 0.1
       },
       "content": {
        "cell": "7e847244-7b42-490f-8945-46e234a3af75",
        "part": "whole"
       },
       "id": "c24a5fc8-2a90-4c13-91d7-223ad92cd794"
      }
     }
    },
    "da2956f8-18a5-4bfa-9591-5cf3e39e7248": {
     "id": "da2956f8-18a5-4bfa-9591-5cf3e39e7248",
     "prev": "00185e5a-e023-4efa-9b74-1d4003fed039",
     "regions": {
      "f7d068d1-64bb-47e5-a163-ba870a8a8e68": {
       "attrs": {
        "height": 0.8,
        "width": 0.8,
        "x": 0.1,
        "y": 0.1
       },
       "content": {
        "cell": "ba9ad1d9-659e-4fad-a0fd-0a23e7b56fc0",
        "part": "whole"
       },
       "id": "f7d068d1-64bb-47e5-a163-ba870a8a8e68"
      }
     }
    },
    "da615caf-6de2-4243-81c2-6b6ee2b24524": {
     "id": "da615caf-6de2-4243-81c2-6b6ee2b24524",
     "prev": "d4a64d2e-3fa3-4742-b817-999ee662f9a2",
     "regions": {
      "caac7351-001b-4708-90db-2a152c2fd4f5": {
       "attrs": {
        "height": 0.8,
        "width": 0.8,
        "x": 0.1,
        "y": 0.1
       },
       "content": {
        "cell": "7e847244-7b42-490f-8945-46e234a3af75",
        "part": "whole"
       },
       "id": "caac7351-001b-4708-90db-2a152c2fd4f5"
      }
     }
    },
    "dac34957-e22e-418c-b575-a1ae52ebee9a": {
     "id": "dac34957-e22e-418c-b575-a1ae52ebee9a",
     "prev": "c0cc38e5-c3b6-4f92-a3b0-e31ec2159b50",
     "regions": {
      "cb1a886d-2883-420c-b013-d8e150fb56b7": {
       "attrs": {
        "height": 0.8,
        "width": 0.8,
        "x": 0.1,
        "y": 0.1
       },
       "content": {
        "cell": "97a46770-dbe0-40ea-b454-b15bdec20f53",
        "part": "whole"
       },
       "id": "cb1a886d-2883-420c-b013-d8e150fb56b7"
      }
     }
    },
    "e1f94e70-f7b9-4d99-94c3-01f0f0a8251d": {
     "id": "e1f94e70-f7b9-4d99-94c3-01f0f0a8251d",
     "prev": "4990bcde-5278-4c18-b9e3-d40b08618221",
     "regions": {
      "7f0152f1-c574-4a02-8d63-4018e2bb6524": {
       "attrs": {
        "height": 0.8,
        "width": 0.8,
        "x": 0.1,
        "y": 0.1
       },
       "content": {
        "cell": "05579e7a-be31-4942-a9a9-9f087cc284ff",
        "part": "whole"
       },
       "id": "7f0152f1-c574-4a02-8d63-4018e2bb6524"
      }
     }
    },
    "e40b3af6-c94f-4511-a3e4-14eafa9346b2": {
     "id": "e40b3af6-c94f-4511-a3e4-14eafa9346b2",
     "prev": "ec782cf2-d511-49a3-97ab-70a945e504fc",
     "regions": {
      "3c64fe83-8170-4bf8-9e53-e7ab514a6b9e": {
       "attrs": {
        "height": 0.8,
        "width": 0.8,
        "x": 0.1,
        "y": 0.1
       },
       "content": {
        "cell": "41d6f28b-3c7e-4d68-a8cb-4e063ec6fe27",
        "part": "whole"
       },
       "id": "3c64fe83-8170-4bf8-9e53-e7ab514a6b9e"
      }
     }
    },
    "e69d870b-7f80-4eb6-92f4-f349f582b63d": {
     "id": "e69d870b-7f80-4eb6-92f4-f349f582b63d",
     "prev": "37d0d82e-1379-4317-93cf-784cec2d5a7e",
     "regions": {
      "9dd87015-cc5f-4576-a2a9-983133aa77a8": {
       "attrs": {
        "height": 0.8,
        "width": 0.8,
        "x": 0.1,
        "y": 0.1
       },
       "content": {
        "cell": "41d6f28b-3c7e-4d68-a8cb-4e063ec6fe27",
        "part": "whole"
       },
       "id": "9dd87015-cc5f-4576-a2a9-983133aa77a8"
      }
     }
    },
    "e9111b59-1bbf-4818-9be0-ed5ef8fa6fc6": {
     "id": "e9111b59-1bbf-4818-9be0-ed5ef8fa6fc6",
     "prev": "2eb5b91d-2f89-4478-a871-9ebabfe8c755",
     "regions": {
      "542e088b-2244-4d49-855d-677f84e3557e": {
       "attrs": {
        "height": 0.8,
        "width": 0.8,
        "x": 0.1,
        "y": 0.1
       },
       "content": {
        "cell": "ecdacfd7-456b-4b29-9c7d-aba29749c18f",
        "part": "whole"
       },
       "id": "542e088b-2244-4d49-855d-677f84e3557e"
      }
     }
    },
    "e96ea25d-f12d-4df2-9229-29bbb6f89e57": {
     "id": "e96ea25d-f12d-4df2-9229-29bbb6f89e57",
     "prev": "f502cb85-a418-4e67-bc76-61d1d24781e6",
     "regions": {
      "299a1007-3dd4-4210-8be7-09571a22ef91": {
       "attrs": {
        "height": 0.8,
        "width": 0.8,
        "x": 0.1,
        "y": 0.1
       },
       "content": {
        "cell": "2f809521-0a9c-4000-ba29-f6fcbb027dc9",
        "part": "whole"
       },
       "id": "299a1007-3dd4-4210-8be7-09571a22ef91"
      }
     }
    },
    "ec782cf2-d511-49a3-97ab-70a945e504fc": {
     "id": "ec782cf2-d511-49a3-97ab-70a945e504fc",
     "prev": null,
     "regions": {
      "09f08875-f31a-4f2d-b572-3e27a524e506": {
       "attrs": {
        "height": 0.8,
        "width": 0.8,
        "x": 0.1,
        "y": 0.1
       },
       "content": {
        "cell": "62d4851b-e85e-419e-901a-d5c03db59166",
        "part": "whole"
       },
       "id": "09f08875-f31a-4f2d-b572-3e27a524e506"
      }
     }
    },
    "efb38a77-d38d-4004-a8d2-e16791ef4448": {
     "id": "efb38a77-d38d-4004-a8d2-e16791ef4448",
     "prev": "e69d870b-7f80-4eb6-92f4-f349f582b63d",
     "regions": {
      "13305e20-9e90-4cde-bc61-7012b221d6df": {
       "attrs": {
        "height": 0.8,
        "width": 0.8,
        "x": 0.1,
        "y": 0.1
       },
       "content": {
        "cell": "eb6724ef-65dc-4f74-b92c-3f9e540a7b35",
        "part": "whole"
       },
       "id": "13305e20-9e90-4cde-bc61-7012b221d6df"
      }
     }
    },
    "f06bb312-3e06-4eab-9a4a-a1f10cb67455": {
     "id": "f06bb312-3e06-4eab-9a4a-a1f10cb67455",
     "prev": "0c825f9e-60ad-44b9-a3a9-32977b6dc07b",
     "regions": {
      "5d920271-fc5c-43d3-a65d-57428ad528d7": {
       "attrs": {
        "height": 0.8,
        "width": 0.8,
        "x": 0.1,
        "y": 0.1
       },
       "content": {
        "cell": "2f809521-0a9c-4000-ba29-f6fcbb027dc9",
        "part": "whole"
       },
       "id": "5d920271-fc5c-43d3-a65d-57428ad528d7"
      }
     }
    },
    "f282fd14-a561-4ad9-958b-ceeb296e93d6": {
     "id": "f282fd14-a561-4ad9-958b-ceeb296e93d6",
     "prev": null,
     "regions": {
      "11c6f549-2ac4-4211-a352-a4c9013a5723": {
       "attrs": {
        "height": 0.8,
        "width": 0.8,
        "x": 0.1,
        "y": 0.1
       },
       "content": {
        "cell": "62d4851b-e85e-419e-901a-d5c03db59166",
        "part": "whole"
       },
       "id": "11c6f549-2ac4-4211-a352-a4c9013a5723"
      }
     }
    },
    "f2d04c15-4d2b-4c7e-992a-72c2b870c759": {
     "id": "f2d04c15-4d2b-4c7e-992a-72c2b870c759",
     "prev": "2f879b6f-c9ea-44d7-91e7-9baa9101dcde",
     "regions": {
      "93c73624-fd8e-434c-a0b5-a191e22a1a28": {
       "attrs": {
        "height": 0.8,
        "width": 0.8,
        "x": 0.1,
        "y": 0.1
       },
       "content": {
        "cell": "af0acd3e-f4a3-4da9-9772-6a6f896da772",
        "part": "whole"
       },
       "id": "93c73624-fd8e-434c-a0b5-a191e22a1a28"
      }
     }
    },
    "f37968a2-f924-46ba-b214-57fef6c8e053": {
     "id": "f37968a2-f924-46ba-b214-57fef6c8e053",
     "prev": "2199474d-0f28-43f0-b05c-38e712655efe",
     "regions": {
      "eb7c9691-162f-4bc9-b740-a880290d5480": {
       "attrs": {
        "height": 0.8,
        "width": 0.8,
        "x": 0.1,
        "y": 0.1
       },
       "content": {
        "cell": "823d3663-8326-493a-a3fc-19b7114ef367",
        "part": "whole"
       },
       "id": "eb7c9691-162f-4bc9-b740-a880290d5480"
      }
     }
    },
    "f3fd7c80-e6c3-4fe1-8da4-d8c46dec60f5": {
     "id": "f3fd7c80-e6c3-4fe1-8da4-d8c46dec60f5",
     "prev": "e9111b59-1bbf-4818-9be0-ed5ef8fa6fc6",
     "regions": {
      "c8f21071-20c8-4180-9de4-b94971c0e22a": {
       "attrs": {
        "height": 0.8,
        "width": 0.8,
        "x": 0.1,
        "y": 0.1
       },
       "content": {
        "cell": "af0acd3e-f4a3-4da9-9772-6a6f896da772",
        "part": "whole"
       },
       "id": "c8f21071-20c8-4180-9de4-b94971c0e22a"
      }
     }
    },
    "f502cb85-a418-4e67-bc76-61d1d24781e6": {
     "id": "f502cb85-a418-4e67-bc76-61d1d24781e6",
     "prev": "be687a44-3db4-4be7-9f39-71fb43cc9fbc",
     "regions": {
      "f28295e1-c68c-4ef1-ba49-1e9122a40b0f": {
       "attrs": {
        "height": 0.8,
        "width": 0.8,
        "x": 0.1,
        "y": 0.1
       },
       "content": {
        "cell": "c2f7177c-9a56-46a7-8e51-53c1ccdac759",
        "part": "whole"
       },
       "id": "f28295e1-c68c-4ef1-ba49-1e9122a40b0f"
      }
     }
    },
    "f5ddb0c0-353d-4e34-8d82-6b2ff74cfd78": {
     "id": "f5ddb0c0-353d-4e34-8d82-6b2ff74cfd78",
     "prev": "d55e9216-ec74-4b8a-8c86-626de0a99a3f",
     "regions": {
      "52f07325-c621-4157-88c3-1bafbb6656b5": {
       "attrs": {
        "height": 0.8,
        "width": 0.8,
        "x": 0.1,
        "y": 0.1
       },
       "content": {
        "cell": "7e847244-7b42-490f-8945-46e234a3af75",
        "part": "whole"
       },
       "id": "52f07325-c621-4157-88c3-1bafbb6656b5"
      }
     }
    },
    "f89c8884-cb84-4930-a1c4-451008b047e0": {
     "id": "f89c8884-cb84-4930-a1c4-451008b047e0",
     "prev": "84e5d013-5ab1-4159-aa5f-fc7f55caab96",
     "regions": {
      "30c3ca41-d7a7-40e8-951e-b12cbfabeb30": {
       "attrs": {
        "height": 0.8,
        "width": 0.8,
        "x": 0.1,
        "y": 0.1
       },
       "content": {
        "cell": "ecdacfd7-456b-4b29-9c7d-aba29749c18f",
        "part": "whole"
       },
       "id": "30c3ca41-d7a7-40e8-951e-b12cbfabeb30"
      }
     }
    },
    "f8f60d11-8c40-4a82-ad2d-4ddbc346064a": {
     "id": "f8f60d11-8c40-4a82-ad2d-4ddbc346064a",
     "prev": "e40b3af6-c94f-4511-a3e4-14eafa9346b2",
     "regions": {
      "53542f5f-3074-44d6-b544-3925b24bbc3a": {
       "attrs": {
        "height": 0.8,
        "width": 0.8,
        "x": 0.1,
        "y": 0.1
       },
       "content": {
        "cell": "eb6724ef-65dc-4f74-b92c-3f9e540a7b35",
        "part": "whole"
       },
       "id": "53542f5f-3074-44d6-b544-3925b24bbc3a"
      }
     }
    }
   },
   "themes": {}
  },
  "notice": "None."
 },
 "nbformat": 4,
 "nbformat_minor": 4
}
